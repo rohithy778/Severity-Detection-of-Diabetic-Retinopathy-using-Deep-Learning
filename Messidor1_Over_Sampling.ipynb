{
  "nbformat": 4,
  "nbformat_minor": 0,
  "metadata": {
    "colab": {
      "provenance": []
    },
    "kernelspec": {
      "name": "python3",
      "display_name": "Python 3"
    },
    "language_info": {
      "name": "python"
    },
    "gpuClass": "standard"
  },
  "cells": [
    {
      "cell_type": "code",
      "execution_count": null,
      "metadata": {
        "colab": {
          "base_uri": "https://localhost:8080/"
        },
        "id": "KKOdboeuKhAj",
        "outputId": "7030d2eb-56ba-4f46-aefe-bbee70d4d360"
      },
      "outputs": [
        {
          "output_type": "stream",
          "name": "stdout",
          "text": [
            "/usr/local/lib/python3.9/dist-packages/gdown/cli.py:121: FutureWarning: Option `--id` was deprecated in version 4.3.1 and will be removed in 5.0. You don't need to pass it anymore to use a file ID.\n",
            "  warnings.warn(\n",
            "Downloading...\n",
            "From: https://drive.google.com/uc?id=1ZkAd2URfLRUrXEQ2mres4me8Rw5hsuOm\n",
            "To: /content/messidor.zip\n",
            "100% 550M/550M [00:10<00:00, 50.3MB/s]\n"
          ]
        }
      ],
      "source": [
        "! gdown --id 1ZkAd2URfLRUrXEQ2mres4me8Rw5hsuOm"
      ]
    },
    {
      "cell_type": "code",
      "source": [
        "from zipfile import ZipFile\n",
        "file_name = \"/content/messidor.zip\"\n",
        "\n",
        "with ZipFile(file_name,'r') as openZip:\n",
        "  openZip.extractall()\n",
        "  print('Done')"
      ],
      "metadata": {
        "colab": {
          "base_uri": "https://localhost:8080/"
        },
        "id": "77NsdnJfKvLQ",
        "outputId": "d3aeb14a-8c1d-42ab-e022-b75cb646cb62"
      },
      "execution_count": null,
      "outputs": [
        {
          "output_type": "stream",
          "name": "stdout",
          "text": [
            "Done\n"
          ]
        }
      ]
    },
    {
      "cell_type": "code",
      "source": [
        "import tensorflow as tf\n",
        "import pandas as pd\n",
        "import matplotlib.pyplot as plt"
      ],
      "metadata": {
        "id": "7QR_IMpRK3OL"
      },
      "execution_count": null,
      "outputs": []
    },
    {
      "cell_type": "code",
      "source": [
        "from tensorflow.keras.preprocessing.image import ImageDataGenerator\n",
        "\n",
        "tf.random.set_seed(42)\n",
        "\n",
        "train_datagen = ImageDataGenerator()\n",
        "valid_datagen = ImageDataGenerator()\n",
        "test_datagen = ImageDataGenerator()\n",
        "\n",
        "train_data = train_datagen.flow_from_directory(directory = '/content/messidor/train_data',\n",
        "                                                  batch_size = 32,\n",
        "                                                  target_size = (512, 512),\n",
        "                                                  class_mode = 'categorical',\n",
        "                                                  seed = 42)\n",
        "\n",
        "valid_data = valid_datagen.flow_from_directory(directory = '/content/messidor/validation_data',\n",
        "                                                 batch_size = 32,\n",
        "                                                 target_size = (512, 512),\n",
        "                                                 class_mode = 'categorical',\n",
        "                                                 seed = 42)\n",
        "\n",
        "test_data = test_datagen.flow_from_directory(directory = '/content/messidor/test_data',\n",
        "                                                classes=['0','1', '2', '3'],\n",
        "                                                 batch_size = 32,\n",
        "                                                 target_size = (512, 512),\n",
        "                                                 class_mode = 'categorical',\n",
        "                                                 seed = 42)"
      ],
      "metadata": {
        "colab": {
          "base_uri": "https://localhost:8080/"
        },
        "id": "5884kD1wKxu_",
        "outputId": "42bec290-2778-4edc-e488-7623993b7e8e"
      },
      "execution_count": null,
      "outputs": [
        {
          "output_type": "stream",
          "name": "stdout",
          "text": [
            "Found 1613 images belonging to 4 classes.\n",
            "Found 160 images belonging to 4 classes.\n",
            "Found 240 images belonging to 4 classes.\n"
          ]
        }
      ]
    },
    {
      "cell_type": "code",
      "source": [
        "import tensorflow_hub as hub\n",
        "from tensorflow.keras import layers"
      ],
      "metadata": {
        "id": "W_KVY9s5Kxsg"
      },
      "execution_count": null,
      "outputs": []
    },
    {
      "cell_type": "code",
      "source": [
        "# create tensorboard callback\n",
        "\n",
        "import datetime\n",
        "\n",
        "def create_tensorboard_callback2(dir_name, experiment_name):\n",
        "  log_dir = dir_name + \"/\" + experiment_name + \"/\" + datetime.datetime.now().strftime(\"%Y%m%d-%H%M\")\n",
        "  tensorboard_callbacks = tf.keras.callbacks.TensorBoard(log_dir= log_dir)\n",
        "  return tensorboard_callbacks"
      ],
      "metadata": {
        "id": "jlcdQYibLFGE"
      },
      "execution_count": null,
      "outputs": []
    },
    {
      "cell_type": "code",
      "source": [],
      "metadata": {
        "id": "TA54B91CPcWn"
      },
      "execution_count": null,
      "outputs": []
    },
    {
      "cell_type": "code",
      "source": [
        "def create_model(model_url, num_classes = 4):\n",
        "  '''\n",
        "  Takes a Tensorflow hub urla nd creates a keras Sequential model with it\n",
        "\n",
        "  Args:\n",
        "    model_url(str): A tensorflow hub feature extraction URL.\n",
        "    num_classes (int): Number of output neuraons in the output layer,\n",
        "      should be equal to Number of target classes, default 10.\n",
        "\n",
        "  Return:\n",
        "     An uncompiled Keras Sequentail model with model_url as feature extractor\n",
        "     layer and Dense output layer with num_classes output neurons.\n",
        "  '''\n",
        "  feature_extractor_layer = hub.KerasLayer(model_url,\n",
        "                                          trainable = False,\n",
        "                                          name = 'feature_extration_layer',\n",
        "                                          input_shape = (512, 512, 3)) # Freeze the already learned patterns\n",
        "\n",
        "  model = tf.keras.Sequential([\n",
        "      feature_extractor_layer,\n",
        "      layers.Dense(num_classes, activation = 'softmax', name = 'output_layer')\n",
        "  ])\n",
        "\n",
        "  return model"
      ],
      "metadata": {
        "id": "mFFgwZY6Kxpt"
      },
      "execution_count": null,
      "outputs": []
    },
    {
      "cell_type": "code",
      "source": [
        "resenet_url = \"https://tfhub.dev/google/imagenet/resnet_v1_50/feature_vector/5\"\n",
        "resnet = create_model(resenet_url,\n",
        "                      num_classes=4)"
      ],
      "metadata": {
        "id": "HtKL6J7jKxm6"
      },
      "execution_count": null,
      "outputs": []
    },
    {
      "cell_type": "code",
      "source": [
        "resnet.compile(loss = tf.keras.losses.categorical_crossentropy,\n",
        "               optimizer = tf.keras.optimizers.Adam(),\n",
        "               metrics = ['accuracy'])"
      ],
      "metadata": {
        "id": "vdA2mHH_LasL"
      },
      "execution_count": null,
      "outputs": []
    },
    {
      "cell_type": "code",
      "source": [
        "from keras import callbacks\n",
        "resnet.fit(train_data,\n",
        "           steps_per_epoch=len(train_data),\n",
        "           callbacks = create_tensorboard_callback(\"/content/tensoflow_callbacks\", \"resnet_10_percent\"),\n",
        "           validation_data=test_data,\n",
        "           epochs=5)"
      ],
      "metadata": {
        "colab": {
          "base_uri": "https://localhost:8080/"
        },
        "id": "OdRKASenKxkb",
        "outputId": "5ee98101-f785-4bcd-f5a5-6edf7de25fbe"
      },
      "execution_count": null,
      "outputs": [
        {
          "output_type": "stream",
          "name": "stdout",
          "text": [
            "Epoch 1/5\n",
            "51/51 [==============================] - 79s 1s/step - loss: 71.4796 - accuracy: 0.2381 - val_loss: 35.3680 - val_accuracy: 0.1458\n",
            "Epoch 2/5\n",
            "51/51 [==============================] - 64s 1s/step - loss: 21.3277 - accuracy: 0.3063 - val_loss: 24.2091 - val_accuracy: 0.1667\n",
            "Epoch 3/5\n",
            "51/51 [==============================] - 65s 1s/step - loss: 13.4060 - accuracy: 0.2883 - val_loss: 25.7329 - val_accuracy: 0.1792\n",
            "Epoch 4/5\n",
            "51/51 [==============================] - 65s 1s/step - loss: 30.3842 - accuracy: 0.2914 - val_loss: 23.3170 - val_accuracy: 0.1583\n",
            "Epoch 5/5\n",
            "51/51 [==============================] - 66s 1s/step - loss: 29.8610 - accuracy: 0.2827 - val_loss: 18.8017 - val_accuracy: 0.1583\n"
          ]
        },
        {
          "output_type": "execute_result",
          "data": {
            "text/plain": [
              "<keras.callbacks.History at 0x7f89881c6250>"
            ]
          },
          "metadata": {},
          "execution_count": 10
        }
      ]
    },
    {
      "cell_type": "code",
      "source": [
        "efficient_net_url = \"https://tfhub.dev/google/imagenet/inception_v1/feature_vector/5\"\n",
        "E_net = create_model(resenet_url,\n",
        "                      num_classes=4)"
      ],
      "metadata": {
        "id": "nMl7OvBuKxhy"
      },
      "execution_count": null,
      "outputs": []
    },
    {
      "cell_type": "code",
      "source": [
        "E_net.compile(loss = tf.keras.losses.categorical_crossentropy,\n",
        "               optimizer = tf.keras.optimizers.Adam(),\n",
        "               metrics = ['accuracy'])"
      ],
      "metadata": {
        "id": "MYCwU9P8Kxe1"
      },
      "execution_count": null,
      "outputs": []
    },
    {
      "cell_type": "code",
      "source": [
        "from keras import callbacks\n",
        "E_net.fit(train_data,\n",
        "           steps_per_epoch=len(train_data),\n",
        "           callbacks = create_tensorboard_callback(\"/content/tensoflow_callbacks\", \"resnet_10_percent\"),\n",
        "           validation_data=test_data,\n",
        "           epochs=5)"
      ],
      "metadata": {
        "colab": {
          "base_uri": "https://localhost:8080/"
        },
        "id": "87V5JYcKKxZA",
        "outputId": "89d95a49-2884-4973-8ef4-0c0c7edd6ccd"
      },
      "execution_count": null,
      "outputs": [
        {
          "output_type": "stream",
          "name": "stdout",
          "text": [
            "Epoch 1/5\n",
            "51/51 [==============================] - 71s 1s/step - loss: 70.9226 - accuracy: 0.2858 - val_loss: 18.9738 - val_accuracy: 0.2667\n",
            "Epoch 2/5\n",
            "51/51 [==============================] - 65s 1s/step - loss: 19.9318 - accuracy: 0.2994 - val_loss: 12.3656 - val_accuracy: 0.3417\n",
            "Epoch 3/5\n",
            "51/51 [==============================] - 65s 1s/step - loss: 28.6833 - accuracy: 0.2864 - val_loss: 18.4931 - val_accuracy: 0.3542\n",
            "Epoch 4/5\n",
            "51/51 [==============================] - 65s 1s/step - loss: 35.4666 - accuracy: 0.2821 - val_loss: 8.3764 - val_accuracy: 0.3083\n",
            "Epoch 5/5\n",
            "51/51 [==============================] - 65s 1s/step - loss: 37.9486 - accuracy: 0.2889 - val_loss: 60.1420 - val_accuracy: 0.1458\n"
          ]
        },
        {
          "output_type": "execute_result",
          "data": {
            "text/plain": [
              "<keras.callbacks.History at 0x7f88706cb490>"
            ]
          },
          "metadata": {},
          "execution_count": 14
        }
      ]
    },
    {
      "cell_type": "code",
      "source": [
        "E_net.summary()"
      ],
      "metadata": {
        "colab": {
          "base_uri": "https://localhost:8080/"
        },
        "id": "68DaCjHIKxWi",
        "outputId": "f98c8081-089e-4e65-c7a4-a28250e1953c"
      },
      "execution_count": null,
      "outputs": [
        {
          "output_type": "stream",
          "name": "stdout",
          "text": [
            "Model: \"sequential_1\"\n",
            "_________________________________________________________________\n",
            " Layer (type)                Output Shape              Param #   \n",
            "=================================================================\n",
            " feature_extration_layer (Ke  (None, 2048)             23561152  \n",
            " rasLayer)                                                       \n",
            "                                                                 \n",
            " output_layer (Dense)        (None, 4)                 8196      \n",
            "                                                                 \n",
            "=================================================================\n",
            "Total params: 23,569,348\n",
            "Trainable params: 8,196\n",
            "Non-trainable params: 23,561,152\n",
            "_________________________________________________________________\n"
          ]
        }
      ]
    },
    {
      "cell_type": "code",
      "source": [
        "! gdown --id 1jOePlBj7WzMzZ3uPC4g6Ny-eC3yFTbrN"
      ],
      "metadata": {
        "id": "-zE0iELcKxTk",
        "colab": {
          "base_uri": "https://localhost:8080/"
        },
        "outputId": "b2f006ef-fd30-4555-f04c-0469e19d8890"
      },
      "execution_count": null,
      "outputs": [
        {
          "output_type": "stream",
          "name": "stdout",
          "text": [
            "/usr/local/lib/python3.9/dist-packages/gdown/cli.py:121: FutureWarning: Option `--id` was deprecated in version 4.3.1 and will be removed in 5.0. You don't need to pass it anymore to use a file ID.\n",
            "  warnings.warn(\n",
            "Downloading...\n",
            "From: https://drive.google.com/uc?id=1jOePlBj7WzMzZ3uPC4g6Ny-eC3yFTbrN\n",
            "To: /content/messidor_150.zip\n",
            "100% 375M/375M [00:12<00:00, 30.7MB/s]\n"
          ]
        }
      ]
    },
    {
      "cell_type": "code",
      "source": [
        " ! wget https://raw.githubusercontent.com/mrdbourke/tensorflow-deep-learning/main/extras/helper_functions.py"
      ],
      "metadata": {
        "id": "ZL6zwR26KxQv",
        "colab": {
          "base_uri": "https://localhost:8080/"
        },
        "outputId": "f7e5cb83-90c3-4174-e51f-5532d70fa621"
      },
      "execution_count": null,
      "outputs": [
        {
          "output_type": "stream",
          "name": "stdout",
          "text": [
            "--2023-04-23 18:21:33--  https://raw.githubusercontent.com/mrdbourke/tensorflow-deep-learning/main/extras/helper_functions.py\n",
            "Resolving raw.githubusercontent.com (raw.githubusercontent.com)... 185.199.108.133, 185.199.111.133, 185.199.110.133, ...\n",
            "Connecting to raw.githubusercontent.com (raw.githubusercontent.com)|185.199.108.133|:443... connected.\n",
            "HTTP request sent, awaiting response... 200 OK\n",
            "Length: 10246 (10K) [text/plain]\n",
            "Saving to: ‘helper_functions.py’\n",
            "\n",
            "helper_functions.py 100%[===================>]  10.01K  --.-KB/s    in 0s      \n",
            "\n",
            "2023-04-23 18:21:33 (74.2 MB/s) - ‘helper_functions.py’ saved [10246/10246]\n",
            "\n"
          ]
        }
      ]
    },
    {
      "cell_type": "code",
      "source": [
        "! gdown --id 1_KrmbjSPeGCVsjAj-dUpyeffW9mde7ap"
      ],
      "metadata": {
        "colab": {
          "base_uri": "https://localhost:8080/"
        },
        "id": "k1itZb4NMgCb",
        "outputId": "53ed51e7-5d18-477a-ce02-3bb216466380"
      },
      "execution_count": null,
      "outputs": [
        {
          "output_type": "stream",
          "name": "stdout",
          "text": [
            "/usr/local/lib/python3.9/dist-packages/gdown/cli.py:121: FutureWarning: Option `--id` was deprecated in version 4.3.1 and will be removed in 5.0. You don't need to pass it anymore to use a file ID.\n",
            "  warnings.warn(\n",
            "Downloading...\n",
            "From: https://drive.google.com/uc?id=1_KrmbjSPeGCVsjAj-dUpyeffW9mde7ap\n",
            "To: /content/test_data.zip\n",
            "100% 99.9M/99.9M [00:02<00:00, 34.0MB/s]\n"
          ]
        }
      ]
    },
    {
      "cell_type": "code",
      "source": [
        "from helper_functions import create_tensorboard_callback, plot_loss_curves, unzip_data, walk_through_dir"
      ],
      "metadata": {
        "id": "YpWpnFNlKxNw"
      },
      "execution_count": null,
      "outputs": []
    },
    {
      "cell_type": "code",
      "source": [
        "unzip_data('messidor_150.zip')"
      ],
      "metadata": {
        "id": "Tbkk6Cm0KxKl"
      },
      "execution_count": null,
      "outputs": []
    },
    {
      "cell_type": "code",
      "source": [
        "unzip_data('test_data.zip')"
      ],
      "metadata": {
        "id": "PEseC5T9Ml10"
      },
      "execution_count": null,
      "outputs": []
    },
    {
      "cell_type": "code",
      "source": [
        "train_dir = \"/content/messidor_150/train_data\"\n",
        "valid_dir = \"/content/messidor_150/validation_data\"\n",
        "test_dir = \"/content/test_data\""
      ],
      "metadata": {
        "id": "rqtV6CqtKxFr"
      },
      "execution_count": null,
      "outputs": []
    },
    {
      "cell_type": "code",
      "source": [
        "import tensorflow as tf"
      ],
      "metadata": {
        "id": "2MyyJsYoGk2K"
      },
      "execution_count": null,
      "outputs": []
    },
    {
      "cell_type": "code",
      "source": [
        "Img_size = (512, 512)\n",
        "Batch_size = 32\n",
        "\n",
        "train_data = tf.keras.preprocessing.image_dataset_from_directory(train_dir,\n",
        "                                                                 label_mode = 'categorical',\n",
        "                                                                 batch_size=Batch_size,\n",
        "                                                                 image_size=Img_size,)\n",
        "\n",
        "valid_data = tf.keras.preprocessing.image_dataset_from_directory(valid_dir,\n",
        "                                                                 label_mode='categorical',\n",
        "                                                                 batch_size = Batch_size,\n",
        "                                                                 image_size = Img_size)\n",
        "\n",
        "test_data = tf.keras.preprocessing.image_dataset_from_directory(test_dir,\n",
        "                                                                class_names=['0','1','2','3'],\n",
        "                                                                label_mode='categorical',\n",
        "                                                                batch_size=Batch_size,\n",
        "                                                                image_size=Img_size)"
      ],
      "metadata": {
        "colab": {
          "base_uri": "https://localhost:8080/"
        },
        "id": "0ssdSjH0GZ1r",
        "outputId": "21b60cb5-4bf5-4ff7-e6bc-cdd0b979b14a"
      },
      "execution_count": null,
      "outputs": [
        {
          "output_type": "stream",
          "name": "stdout",
          "text": [
            "Found 571 files belonging to 4 classes.\n",
            "Found 160 files belonging to 4 classes.\n",
            "Found 240 files belonging to 4 classes.\n"
          ]
        }
      ]
    },
    {
      "cell_type": "code",
      "source": [
        "def create_tensorboard_callback(dir_name, experiment_name):\n",
        "  log_dir = dir_name+'/'+experiment_name\n",
        "  tensorboard_callback = tf.keras.callbacks.TensorBoard(log_dir)\n",
        "  print(f'saving TensorBoard log files to : {log_dir}')\n",
        "  return tensorboard_callback"
      ],
      "metadata": {
        "id": "GV3nwa3DNBCV"
      },
      "execution_count": null,
      "outputs": []
    },
    {
      "cell_type": "code",
      "source": [
        "checkpoint_path1 = \"model1_weights/checkpoint.ckpt\"\n",
        "\n",
        "checkpoint_callback = tf.keras.callbacks.ModelCheckpoint(filepath = checkpoint_path1,\n",
        "                                                         monitor='val_loss',\n",
        "                                                         verbose = 1,\n",
        "                                                         save_weights_only=True,\n",
        "                                                         save_best_only=True)\n",
        "checkpoint_path2 = \"model2_weights/checkpoint.ckpt\"\n",
        "\n",
        "checkpoint_callback2 = tf.keras.callbacks.ModelCheckpoint(filepath = checkpoint_path2,\n",
        "                                                         monitor='val_loss',\n",
        "                                                         verbose = 1,\n",
        "                                                         save_weights_only=True,\n",
        "                                                         save_best_only=True)"
      ],
      "metadata": {
        "id": "zl1vcH8qPz9s"
      },
      "execution_count": null,
      "outputs": []
    },
    {
      "cell_type": "code",
      "source": [
        "def create_checkpoint(checkpoint_path):\n",
        "  return tf.keras.callbacks.ModelCheckpoint(filepath = checkpoint_path,\n",
        "                                            monitory = 'val_loss',\n",
        "                                            verbose = 1,\n",
        "                                            save_weights_only = True,\n",
        "                                            save_best_only = True)"
      ],
      "metadata": {
        "id": "MYYNbcl7scj6"
      },
      "execution_count": null,
      "outputs": []
    },
    {
      "cell_type": "markdown",
      "source": [
        "## Model 1 - 150 each class, except class 1(118) - No Data Augmentation, feature extractor\n",
        "\n",
        "EfficientNetB0"
      ],
      "metadata": {
        "id": "-7dqWjzgH-tT"
      }
    },
    {
      "cell_type": "code",
      "source": [
        "from tensorflow.keras.layers import Input, Dense, GlobalAveragePooling2D"
      ],
      "metadata": {
        "id": "K_z9o1gbKjVx"
      },
      "execution_count": null,
      "outputs": []
    },
    {
      "cell_type": "code",
      "source": [
        "base_model = tf.keras.applications.EfficientNetB0(include_top=False)\n",
        "base_model.trainable = False\n",
        "\n",
        "inputs = tf.keras.layers.Input(shape=(512, 512, 3))\n",
        "\n",
        "x = base_model(inputs)\n",
        "\n",
        "x = GlobalAveragePooling2D()(x)\n",
        "\n",
        "x = Dense(4, activation = 'softmax')(x)\n",
        "\n",
        "model1 = tf.keras.Model(inputs = inputs, outputs = x)"
      ],
      "metadata": {
        "colab": {
          "base_uri": "https://localhost:8080/"
        },
        "id": "nxXW-QrkHeGC",
        "outputId": "74dd3d4a-11f7-400e-a7c3-1c5cc2f36e8f"
      },
      "execution_count": null,
      "outputs": [
        {
          "output_type": "stream",
          "name": "stdout",
          "text": [
            "Downloading data from https://storage.googleapis.com/keras-applications/efficientnetb0_notop.h5\n",
            "16705208/16705208 [==============================] - 2s 0us/step\n"
          ]
        }
      ]
    },
    {
      "cell_type": "code",
      "source": [
        "model1.compile(loss = tf.keras.losses.categorical_crossentropy,\n",
        "               optimizer = tf.keras.optimizers.Adam(),\n",
        "               metrics = ['accuracy'])"
      ],
      "metadata": {
        "id": "1HmQF40oK897"
      },
      "execution_count": null,
      "outputs": []
    },
    {
      "cell_type": "code",
      "source": [
        "history1 = model1.fit(train_data,\n",
        "                      epochs = 15,\n",
        "                      steps_per_epoch=len(train_data),\n",
        "                      validation_data=valid_data,\n",
        "                      validation_steps=len(valid_data),\n",
        "                      callbacks = [create_tensorboard_callback('tensorboard/','model1_feature_extracter'),checkpoint_callback]\n",
        "           )"
      ],
      "metadata": {
        "colab": {
          "base_uri": "https://localhost:8080/"
        },
        "id": "xZBOIdBpL_UL",
        "outputId": "a964fe72-1f95-4d89-972d-2f6177b51993"
      },
      "execution_count": null,
      "outputs": [
        {
          "output_type": "stream",
          "name": "stderr",
          "text": [
            "WARNING:tensorflow:Model failed to serialize as JSON. Ignoring... Unable to serialize [2.0896919 2.1128857 2.1081853] to JSON. Unrecognized type <class 'tensorflow.python.framework.ops.EagerTensor'>.\n"
          ]
        },
        {
          "output_type": "stream",
          "name": "stdout",
          "text": [
            "saving TensorBoard log files to : tensorboard//model1_feature_extracter\n",
            "Epoch 1/15\n",
            "18/18 [==============================] - ETA: 0s - loss: 1.3648 - accuracy: 0.3222\n",
            "Epoch 1: val_loss improved from inf to 1.34013, saving model to model1_weights/checkpoint.ckpt\n",
            "18/18 [==============================] - 21s 710ms/step - loss: 1.3648 - accuracy: 0.3222 - val_loss: 1.3401 - val_accuracy: 0.2688\n",
            "Epoch 2/15\n",
            "18/18 [==============================] - ETA: 0s - loss: 1.3384 - accuracy: 0.3450\n",
            "Epoch 2: val_loss improved from 1.34013 to 1.31803, saving model to model1_weights/checkpoint.ckpt\n",
            "18/18 [==============================] - 14s 546ms/step - loss: 1.3384 - accuracy: 0.3450 - val_loss: 1.3180 - val_accuracy: 0.4125\n",
            "Epoch 3/15\n",
            "18/18 [==============================] - ETA: 0s - loss: 1.3163 - accuracy: 0.4203\n",
            "Epoch 3: val_loss did not improve from 1.31803\n",
            "18/18 [==============================] - 13s 567ms/step - loss: 1.3163 - accuracy: 0.4203 - val_loss: 1.3231 - val_accuracy: 0.3688\n",
            "Epoch 4/15\n",
            "18/18 [==============================] - ETA: 0s - loss: 1.2866 - accuracy: 0.4028\n",
            "Epoch 4: val_loss improved from 1.31803 to 1.30945, saving model to model1_weights/checkpoint.ckpt\n",
            "18/18 [==============================] - 14s 592ms/step - loss: 1.2866 - accuracy: 0.4028 - val_loss: 1.3095 - val_accuracy: 0.4000\n",
            "Epoch 5/15\n",
            "18/18 [==============================] - ETA: 0s - loss: 1.2764 - accuracy: 0.4256\n",
            "Epoch 5: val_loss improved from 1.30945 to 1.27716, saving model to model1_weights/checkpoint.ckpt\n",
            "18/18 [==============================] - 13s 553ms/step - loss: 1.2764 - accuracy: 0.4256 - val_loss: 1.2772 - val_accuracy: 0.4187\n",
            "Epoch 6/15\n",
            "18/18 [==============================] - ETA: 0s - loss: 1.2476 - accuracy: 0.4676\n",
            "Epoch 6: val_loss improved from 1.27716 to 1.27266, saving model to model1_weights/checkpoint.ckpt\n",
            "18/18 [==============================] - 13s 556ms/step - loss: 1.2476 - accuracy: 0.4676 - val_loss: 1.2727 - val_accuracy: 0.3750\n",
            "Epoch 7/15\n",
            "18/18 [==============================] - ETA: 0s - loss: 1.2392 - accuracy: 0.4729\n",
            "Epoch 7: val_loss did not improve from 1.27266\n",
            "18/18 [==============================] - 13s 562ms/step - loss: 1.2392 - accuracy: 0.4729 - val_loss: 1.2811 - val_accuracy: 0.4250\n",
            "Epoch 8/15\n",
            "18/18 [==============================] - ETA: 0s - loss: 1.2265 - accuracy: 0.4781\n",
            "Epoch 8: val_loss improved from 1.27266 to 1.25553, saving model to model1_weights/checkpoint.ckpt\n",
            "18/18 [==============================] - 14s 606ms/step - loss: 1.2265 - accuracy: 0.4781 - val_loss: 1.2555 - val_accuracy: 0.4500\n",
            "Epoch 9/15\n",
            "18/18 [==============================] - ETA: 0s - loss: 1.2180 - accuracy: 0.4816\n",
            "Epoch 9: val_loss did not improve from 1.25553\n",
            "18/18 [==============================] - 13s 514ms/step - loss: 1.2180 - accuracy: 0.4816 - val_loss: 1.2605 - val_accuracy: 0.4375\n",
            "Epoch 10/15\n",
            "18/18 [==============================] - ETA: 0s - loss: 1.1965 - accuracy: 0.5061\n",
            "Epoch 10: val_loss improved from 1.25553 to 1.25071, saving model to model1_weights/checkpoint.ckpt\n",
            "18/18 [==============================] - 18s 784ms/step - loss: 1.1965 - accuracy: 0.5061 - val_loss: 1.2507 - val_accuracy: 0.4125\n",
            "Epoch 11/15\n",
            "18/18 [==============================] - ETA: 0s - loss: 1.1947 - accuracy: 0.4939\n",
            "Epoch 11: val_loss improved from 1.25071 to 1.24353, saving model to model1_weights/checkpoint.ckpt\n",
            "18/18 [==============================] - 14s 608ms/step - loss: 1.1947 - accuracy: 0.4939 - val_loss: 1.2435 - val_accuracy: 0.4625\n",
            "Epoch 12/15\n",
            "18/18 [==============================] - ETA: 0s - loss: 1.1845 - accuracy: 0.5096\n",
            "Epoch 12: val_loss improved from 1.24353 to 1.23770, saving model to model1_weights/checkpoint.ckpt\n",
            "18/18 [==============================] - 13s 556ms/step - loss: 1.1845 - accuracy: 0.5096 - val_loss: 1.2377 - val_accuracy: 0.3938\n",
            "Epoch 13/15\n",
            "18/18 [==============================] - ETA: 0s - loss: 1.1820 - accuracy: 0.4904\n",
            "Epoch 13: val_loss improved from 1.23770 to 1.23747, saving model to model1_weights/checkpoint.ckpt\n",
            "18/18 [==============================] - 12s 533ms/step - loss: 1.1820 - accuracy: 0.4904 - val_loss: 1.2375 - val_accuracy: 0.4250\n",
            "Epoch 14/15\n",
            "18/18 [==============================] - ETA: 0s - loss: 1.1710 - accuracy: 0.5096\n",
            "Epoch 14: val_loss did not improve from 1.23747\n",
            "18/18 [==============================] - 12s 513ms/step - loss: 1.1710 - accuracy: 0.5096 - val_loss: 1.2431 - val_accuracy: 0.3750\n",
            "Epoch 15/15\n",
            "18/18 [==============================] - ETA: 0s - loss: 1.1681 - accuracy: 0.5166\n",
            "Epoch 15: val_loss improved from 1.23747 to 1.23637, saving model to model1_weights/checkpoint.ckpt\n",
            "18/18 [==============================] - 14s 592ms/step - loss: 1.1681 - accuracy: 0.5166 - val_loss: 1.2364 - val_accuracy: 0.4500\n"
          ]
        }
      ]
    },
    {
      "cell_type": "code",
      "source": [
        "model1.evaluate(test_data)"
      ],
      "metadata": {
        "colab": {
          "base_uri": "https://localhost:8080/"
        },
        "id": "V2336egXYQLM",
        "outputId": "63b75f2f-3f4d-4b72-d71d-ef7981492958"
      },
      "execution_count": null,
      "outputs": [
        {
          "output_type": "stream",
          "name": "stdout",
          "text": [
            "8/8 [==============================] - 6s 433ms/step - loss: 1.4114 - accuracy: 0.2458\n"
          ]
        },
        {
          "output_type": "execute_result",
          "data": {
            "text/plain": [
              "[1.4113917350769043, 0.24583333730697632]"
            ]
          },
          "metadata": {},
          "execution_count": 25
        }
      ]
    },
    {
      "cell_type": "code",
      "source": [
        "model1.summary()"
      ],
      "metadata": {
        "colab": {
          "base_uri": "https://localhost:8080/"
        },
        "id": "Y_4a6Y1gNF18",
        "outputId": "20727586-df20-4f63-e39a-53a2ec4d04ef"
      },
      "execution_count": null,
      "outputs": [
        {
          "output_type": "stream",
          "name": "stdout",
          "text": [
            "Model: \"model\"\n",
            "_________________________________________________________________\n",
            " Layer (type)                Output Shape              Param #   \n",
            "=================================================================\n",
            " input_2 (InputLayer)        [(None, 512, 512, 3)]     0         \n",
            "                                                                 \n",
            " efficientnetb0 (Functional)  (None, None, None, 1280)  4049571  \n",
            "                                                                 \n",
            " global_average_pooling2d (G  (None, 1280)             0         \n",
            " lobalAveragePooling2D)                                          \n",
            "                                                                 \n",
            " dense (Dense)               (None, 4)                 5124      \n",
            "                                                                 \n",
            "=================================================================\n",
            "Total params: 4,054,695\n",
            "Trainable params: 5,124\n",
            "Non-trainable params: 4,049,571\n",
            "_________________________________________________________________\n"
          ]
        }
      ]
    },
    {
      "cell_type": "code",
      "source": [
        "plot_loss_curves(history1)"
      ],
      "metadata": {
        "colab": {
          "base_uri": "https://localhost:8080/",
          "height": 927
        },
        "id": "v-fKdCGxRIga",
        "outputId": "5a2d98e7-bdf2-4ea6-b8a8-84eedcd5e3a4"
      },
      "execution_count": null,
      "outputs": [
        {
          "output_type": "display_data",
          "data": {
            "text/plain": [
              "<Figure size 640x480 with 1 Axes>"
            ],
            "image/png": "[encoded data removed]"
          },
          "metadata": {}
        },
        {
          "output_type": "display_data",
          "data": {
            "text/plain": [
              "<Figure size 640x480 with 1 Axes>"
            ],
            "image/png": "[encoded data removed]"
          },
          "metadata": {}
        }
      ]
    },
    {
      "cell_type": "markdown",
      "source": [
        "## Model2 - Feature Extracter - with Data augmentation, EfficientNetB0"
      ],
      "metadata": {
        "id": "0glSfcrITWMS"
      }
    },
    {
      "cell_type": "code",
      "source": [
        "from tensorflow.keras.models import Sequential\n",
        "from tensorflow.keras.layers.experimental import preprocessing"
      ],
      "metadata": {
        "id": "ncAgXqYEUWam"
      },
      "execution_count": null,
      "outputs": []
    },
    {
      "cell_type": "code",
      "source": [
        "data_aug_layer = Sequential([\n",
        "    preprocessing.RandomFlip('horizontal'),\n",
        "    preprocessing.RandomRotation(0.2),\n",
        "    preprocessing.RandomZoom(0.2),\n",
        "    preprocessing.RandomHeight(0.2),\n",
        "    preprocessing.RandomWidth(0.2)\n",
        "    #preprocessing.Rescale(1./255)\n",
        "], name = 'data_aug_layer')"
      ],
      "metadata": {
        "id": "RPmti8u4Ugd_"
      },
      "execution_count": null,
      "outputs": []
    },
    {
      "cell_type": "code",
      "source": [
        "base_model = tf.keras.applications.EfficientNetB0(include_top=False)\n",
        "base_model.trainable = False\n",
        "\n",
        "inputs = tf.keras.layers.Input(shape = (512, 512, 3))\n",
        "\n",
        "x = data_aug_layer(inputs, training = True)\n",
        "x = base_model(x, training = False)\n",
        "\n",
        "x = GlobalAveragePooling2D()(x)\n",
        "\n",
        "outputs = tf.keras.layers.Dense(4, activation = 'softmax')(x)\n",
        "\n",
        "model2 = tf.keras.Model(inputs = inputs, outputs = outputs)\n"
      ],
      "metadata": {
        "id": "6tYAkxOzSDr7"
      },
      "execution_count": null,
      "outputs": []
    },
    {
      "cell_type": "code",
      "source": [
        "model2.compile(loss = tf.keras.losses.categorical_crossentropy,\n",
        "               optimizer = tf.keras.optimizers.Adam(),\n",
        "               metrics = ['accuracy'])"
      ],
      "metadata": {
        "id": "dSD2kIu0XAh7"
      },
      "execution_count": null,
      "outputs": []
    },
    {
      "cell_type": "code",
      "source": [
        "history2 = model2.fit(train_data,\n",
        "                      epochs = 15,\n",
        "                      steps_per_epoch=len(train_data),\n",
        "                      validation_data=valid_data,\n",
        "                      validation_steps=len(valid_data),\n",
        "                      callbacks = [create_tensorboard_callback('tensorboard/','model2_feature_extracter'),checkpoint_callback2]\n",
        "           )"
      ],
      "metadata": {
        "colab": {
          "base_uri": "https://localhost:8080/"
        },
        "id": "f-cBkbSEXKq8",
        "outputId": "ae91bfc0-b2fb-4fb9-f344-e70bbdc55c89"
      },
      "execution_count": null,
      "outputs": [
        {
          "output_type": "stream",
          "name": "stderr",
          "text": [
            "WARNING:tensorflow:Model failed to serialize as JSON. Ignoring... Unable to serialize [2.0896919 2.1128857 2.1081853] to JSON. Unrecognized type <class 'tensorflow.python.framework.ops.EagerTensor'>.\n"
          ]
        },
        {
          "output_type": "stream",
          "name": "stdout",
          "text": [
            "saving TensorBoard log files to : tensorboard//model2_feature_extracter\n",
            "Epoch 1/15\n",
            "18/18 [==============================] - ETA: 0s - loss: 1.4322 - accuracy: 0.2329\n",
            "Epoch 1: val_loss improved from inf to 1.40712, saving model to model2_weights/checkpoint.ckpt\n",
            "18/18 [==============================] - 66s 3s/step - loss: 1.4322 - accuracy: 0.2329 - val_loss: 1.4071 - val_accuracy: 0.2500\n",
            "Epoch 2/15\n",
            "18/18 [==============================] - ETA: 0s - loss: 1.3667 - accuracy: 0.3187\n",
            "Epoch 2: val_loss improved from 1.40712 to 1.39055, saving model to model2_weights/checkpoint.ckpt\n",
            "18/18 [==============================] - 54s 3s/step - loss: 1.3667 - accuracy: 0.3187 - val_loss: 1.3905 - val_accuracy: 0.2375\n",
            "Epoch 3/15\n",
            "18/18 [==============================] - ETA: 0s - loss: 1.3566 - accuracy: 0.3292\n",
            "Epoch 3: val_loss improved from 1.39055 to 1.36461, saving model to model2_weights/checkpoint.ckpt\n",
            "18/18 [==============================] - 48s 3s/step - loss: 1.3566 - accuracy: 0.3292 - val_loss: 1.3646 - val_accuracy: 0.3438\n",
            "Epoch 4/15\n",
            "18/18 [==============================] - ETA: 0s - loss: 1.3104 - accuracy: 0.3800\n",
            "Epoch 4: val_loss improved from 1.36461 to 1.34859, saving model to model2_weights/checkpoint.ckpt\n",
            "18/18 [==============================] - 47s 2s/step - loss: 1.3104 - accuracy: 0.3800 - val_loss: 1.3486 - val_accuracy: 0.3438\n",
            "Epoch 5/15\n",
            "18/18 [==============================] - ETA: 0s - loss: 1.3012 - accuracy: 0.3975\n",
            "Epoch 5: val_loss improved from 1.34859 to 1.33323, saving model to model2_weights/checkpoint.ckpt\n",
            "18/18 [==============================] - 45s 2s/step - loss: 1.3012 - accuracy: 0.3975 - val_loss: 1.3332 - val_accuracy: 0.2875\n",
            "Epoch 6/15\n",
            "18/18 [==============================] - ETA: 0s - loss: 1.2958 - accuracy: 0.3835\n",
            "Epoch 6: val_loss did not improve from 1.33323\n",
            "18/18 [==============================] - 44s 2s/step - loss: 1.2958 - accuracy: 0.3835 - val_loss: 1.3530 - val_accuracy: 0.3500\n",
            "Epoch 7/15\n",
            "18/18 [==============================] - ETA: 0s - loss: 1.2661 - accuracy: 0.4378\n",
            "Epoch 7: val_loss did not improve from 1.33323\n",
            "18/18 [==============================] - 45s 2s/step - loss: 1.2661 - accuracy: 0.4378 - val_loss: 1.3344 - val_accuracy: 0.3625\n",
            "Epoch 8/15\n",
            "18/18 [==============================] - ETA: 0s - loss: 1.2653 - accuracy: 0.4203\n",
            "Epoch 8: val_loss improved from 1.33323 to 1.32161, saving model to model2_weights/checkpoint.ckpt\n",
            "18/18 [==============================] - 43s 2s/step - loss: 1.2653 - accuracy: 0.4203 - val_loss: 1.3216 - val_accuracy: 0.3187\n",
            "Epoch 9/15\n",
            "18/18 [==============================] - ETA: 0s - loss: 1.2534 - accuracy: 0.4413\n",
            "Epoch 9: val_loss improved from 1.32161 to 1.31154, saving model to model2_weights/checkpoint.ckpt\n",
            "18/18 [==============================] - 40s 2s/step - loss: 1.2534 - accuracy: 0.4413 - val_loss: 1.3115 - val_accuracy: 0.3875\n",
            "Epoch 10/15\n",
            "18/18 [==============================] - ETA: 0s - loss: 1.2380 - accuracy: 0.4553\n",
            "Epoch 10: val_loss did not improve from 1.31154\n",
            "18/18 [==============================] - 39s 2s/step - loss: 1.2380 - accuracy: 0.4553 - val_loss: 1.3383 - val_accuracy: 0.3875\n",
            "Epoch 11/15\n",
            "18/18 [==============================] - ETA: 0s - loss: 1.2259 - accuracy: 0.4834\n",
            "Epoch 11: val_loss did not improve from 1.31154\n",
            "18/18 [==============================] - 40s 2s/step - loss: 1.2259 - accuracy: 0.4834 - val_loss: 1.3365 - val_accuracy: 0.3625\n",
            "Epoch 12/15\n",
            "18/18 [==============================] - ETA: 0s - loss: 1.2152 - accuracy: 0.4956\n",
            "Epoch 12: val_loss did not improve from 1.31154\n",
            "18/18 [==============================] - 39s 2s/step - loss: 1.2152 - accuracy: 0.4956 - val_loss: 1.3191 - val_accuracy: 0.3938\n",
            "Epoch 13/15\n",
            "18/18 [==============================] - ETA: 0s - loss: 1.2270 - accuracy: 0.4623\n",
            "Epoch 13: val_loss improved from 1.31154 to 1.30257, saving model to model2_weights/checkpoint.ckpt\n",
            "18/18 [==============================] - 44s 2s/step - loss: 1.2270 - accuracy: 0.4623 - val_loss: 1.3026 - val_accuracy: 0.3562\n",
            "Epoch 14/15\n",
            "18/18 [==============================] - ETA: 0s - loss: 1.2114 - accuracy: 0.4536\n",
            "Epoch 14: val_loss did not improve from 1.30257\n",
            "18/18 [==============================] - 40s 2s/step - loss: 1.2114 - accuracy: 0.4536 - val_loss: 1.3671 - val_accuracy: 0.4000\n",
            "Epoch 15/15\n",
            "18/18 [==============================] - ETA: 0s - loss: 1.1953 - accuracy: 0.4746\n",
            "Epoch 15: val_loss did not improve from 1.30257\n",
            "18/18 [==============================] - 40s 2s/step - loss: 1.1953 - accuracy: 0.4746 - val_loss: 1.3208 - val_accuracy: 0.3063\n"
          ]
        }
      ]
    },
    {
      "cell_type": "code",
      "source": [
        "model2.evaluate(test_data)"
      ],
      "metadata": {
        "colab": {
          "base_uri": "https://localhost:8080/"
        },
        "id": "zyBsITBmbDaO",
        "outputId": "8f7f88a7-14fb-45e1-beac-abb6cbbe5786"
      },
      "execution_count": null,
      "outputs": [
        {
          "output_type": "stream",
          "name": "stdout",
          "text": [
            "8/8 [==============================] - 15s 2s/step - loss: 1.4817 - accuracy: 0.2500\n"
          ]
        },
        {
          "output_type": "execute_result",
          "data": {
            "text/plain": [
              "[1.4816837310791016, 0.25]"
            ]
          },
          "metadata": {},
          "execution_count": 27
        }
      ]
    },
    {
      "cell_type": "code",
      "source": [
        "model2.summary()"
      ],
      "metadata": {
        "colab": {
          "base_uri": "https://localhost:8080/"
        },
        "id": "qs6AJw4gXzFc",
        "outputId": "6e4d6fa8-991f-4cce-f6ee-035d5a92a209"
      },
      "execution_count": null,
      "outputs": [
        {
          "output_type": "stream",
          "name": "stdout",
          "text": [
            "Model: \"model_1\"\n",
            "_________________________________________________________________\n",
            " Layer (type)                Output Shape              Param #   \n",
            "=================================================================\n",
            " input_4 (InputLayer)        [(None, 512, 512, 3)]     0         \n",
            "                                                                 \n",
            " data_aug_layer (Sequential)  (None, None, None, 3)    0         \n",
            "                                                                 \n",
            " efficientnetb0 (Functional)  (None, None, None, 1280)  4049571  \n",
            "                                                                 \n",
            " global_average_pooling2d_1   (None, 1280)             0         \n",
            " (GlobalAveragePooling2D)                                        \n",
            "                                                                 \n",
            " dense_1 (Dense)             (None, 4)                 5124      \n",
            "                                                                 \n",
            "=================================================================\n",
            "Total params: 4,054,695\n",
            "Trainable params: 5,124\n",
            "Non-trainable params: 4,049,571\n",
            "_________________________________________________________________\n"
          ]
        }
      ]
    },
    {
      "cell_type": "code",
      "source": [
        "plot_loss_curves(history2)"
      ],
      "metadata": {
        "colab": {
          "base_uri": "https://localhost:8080/",
          "height": 927
        },
        "id": "EulGnqWnX4LU",
        "outputId": "8a25b6be-dd7b-4f08-a7ba-a06377276c9b"
      },
      "execution_count": null,
      "outputs": [
        {
          "output_type": "display_data",
          "data": {
            "text/plain": [
              "<Figure size 640x480 with 1 Axes>"
            ],
            "image/png": "[encoded data removed]"
          },
          "metadata": {}
        },
        {
          "output_type": "display_data",
          "data": {
            "text/plain": [
              "<Figure size 640x480 with 1 Axes>"
            ],
            "image/png": "[encoded data removed]"
          },
          "metadata": {}
        }
      ]
    },
    {
      "cell_type": "markdown",
      "source": [
        "## Model 3 - top 10 layers trainable - without data augmentation"
      ],
      "metadata": {
        "id": "4EouE3kbYPGi"
      }
    },
    {
      "cell_type": "code",
      "source": [
        "model1.load_weights(checkpoint_path1)"
      ],
      "metadata": {
        "colab": {
          "base_uri": "https://localhost:8080/"
        },
        "id": "xyub6btnZ4I8",
        "outputId": "36cf59ba-8b73-44e0-a47b-66e1bbf7e316"
      },
      "execution_count": null,
      "outputs": [
        {
          "output_type": "execute_result",
          "data": {
            "text/plain": [
              "<tensorflow.python.checkpoint.checkpoint.CheckpointLoadStatus at 0x7fab3c358220>"
            ]
          },
          "metadata": {},
          "execution_count": 30
        }
      ]
    },
    {
      "cell_type": "code",
      "source": [
        "model1.layers"
      ],
      "metadata": {
        "colab": {
          "base_uri": "https://localhost:8080/"
        },
        "id": "XxWucyrbX8ZM",
        "outputId": "cf1b7e64-a956-4e33-97f1-7520c0fdc046"
      },
      "execution_count": null,
      "outputs": [
        {
          "output_type": "execute_result",
          "data": {
            "text/plain": [
              "[<keras.engine.input_layer.InputLayer at 0x7fabe92e50d0>,\n",
              " <keras.engine.functional.Functional at 0x7fabd07fd400>,\n",
              " <keras.layers.pooling.global_average_pooling2d.GlobalAveragePooling2D at 0x7fabd0877bb0>,\n",
              " <keras.layers.core.dense.Dense at 0x7fabd0877970>]"
            ]
          },
          "metadata": {},
          "execution_count": 31
        }
      ]
    },
    {
      "cell_type": "code",
      "source": [
        "for layer in model1.layers:\n",
        "  print(layer, layer.trainable)"
      ],
      "metadata": {
        "colab": {
          "base_uri": "https://localhost:8080/"
        },
        "id": "TrTh3EL4ZQGs",
        "outputId": "b19bdfad-1017-4e62-8071-f1327d3fb71a"
      },
      "execution_count": null,
      "outputs": [
        {
          "output_type": "stream",
          "name": "stdout",
          "text": [
            "<keras.engine.input_layer.InputLayer object at 0x7fabe92e50d0> True\n",
            "<keras.engine.functional.Functional object at 0x7fabd07fd400> False\n",
            "<keras.layers.pooling.global_average_pooling2d.GlobalAveragePooling2D object at 0x7fabd0877bb0> True\n",
            "<keras.layers.core.dense.Dense object at 0x7fabd0877970> True\n"
          ]
        }
      ]
    },
    {
      "cell_type": "code",
      "source": [
        "for i, layer in enumerate(model1.layers[1].layers):\n",
        "  print(i, layer.name, layer.trainable)"
      ],
      "metadata": {
        "colab": {
          "base_uri": "https://localhost:8080/"
        },
        "id": "ReplRD3BZaxC",
        "outputId": "117ff140-ef49-4723-c318-c9038bd06519"
      },
      "execution_count": null,
      "outputs": [
        {
          "output_type": "stream",
          "name": "stdout",
          "text": [
            "0 input_1 False\n",
            "1 rescaling False\n",
            "2 normalization False\n",
            "3 rescaling_1 False\n",
            "4 stem_conv_pad False\n",
            "5 stem_conv False\n",
            "6 stem_bn False\n",
            "7 stem_activation False\n",
            "8 block1a_dwconv False\n",
            "9 block1a_bn False\n",
            "10 block1a_activation False\n",
            "11 block1a_se_squeeze False\n",
            "12 block1a_se_reshape False\n",
            "13 block1a_se_reduce False\n",
            "14 block1a_se_expand False\n",
            "15 block1a_se_excite False\n",
            "16 block1a_project_conv False\n",
            "17 block1a_project_bn False\n",
            "18 block2a_expand_conv False\n",
            "19 block2a_expand_bn False\n",
            "20 block2a_expand_activation False\n",
            "21 block2a_dwconv_pad False\n",
            "22 block2a_dwconv False\n",
            "23 block2a_bn False\n",
            "24 block2a_activation False\n",
            "25 block2a_se_squeeze False\n",
            "26 block2a_se_reshape False\n",
            "27 block2a_se_reduce False\n",
            "28 block2a_se_expand False\n",
            "29 block2a_se_excite False\n",
            "30 block2a_project_conv False\n",
            "31 block2a_project_bn False\n",
            "32 block2b_expand_conv False\n",
            "33 block2b_expand_bn False\n",
            "34 block2b_expand_activation False\n",
            "35 block2b_dwconv False\n",
            "36 block2b_bn False\n",
            "37 block2b_activation False\n",
            "38 block2b_se_squeeze False\n",
            "39 block2b_se_reshape False\n",
            "40 block2b_se_reduce False\n",
            "41 block2b_se_expand False\n",
            "42 block2b_se_excite False\n",
            "43 block2b_project_conv False\n",
            "44 block2b_project_bn False\n",
            "45 block2b_drop False\n",
            "46 block2b_add False\n",
            "47 block3a_expand_conv False\n",
            "48 block3a_expand_bn False\n",
            "49 block3a_expand_activation False\n",
            "50 block3a_dwconv_pad False\n",
            "51 block3a_dwconv False\n",
            "52 block3a_bn False\n",
            "53 block3a_activation False\n",
            "54 block3a_se_squeeze False\n",
            "55 block3a_se_reshape False\n",
            "56 block3a_se_reduce False\n",
            "57 block3a_se_expand False\n",
            "58 block3a_se_excite False\n",
            "59 block3a_project_conv False\n",
            "60 block3a_project_bn False\n",
            "61 block3b_expand_conv False\n",
            "62 block3b_expand_bn False\n",
            "63 block3b_expand_activation False\n",
            "64 block3b_dwconv False\n",
            "65 block3b_bn False\n",
            "66 block3b_activation False\n",
            "67 block3b_se_squeeze False\n",
            "68 block3b_se_reshape False\n",
            "69 block3b_se_reduce False\n",
            "70 block3b_se_expand False\n",
            "71 block3b_se_excite False\n",
            "72 block3b_project_conv False\n",
            "73 block3b_project_bn False\n",
            "74 block3b_drop False\n",
            "75 block3b_add False\n",
            "76 block4a_expand_conv False\n",
            "77 block4a_expand_bn False\n",
            "78 block4a_expand_activation False\n",
            "79 block4a_dwconv_pad False\n",
            "80 block4a_dwconv False\n",
            "81 block4a_bn False\n",
            "82 block4a_activation False\n",
            "83 block4a_se_squeeze False\n",
            "84 block4a_se_reshape False\n",
            "85 block4a_se_reduce False\n",
            "86 block4a_se_expand False\n",
            "87 block4a_se_excite False\n",
            "88 block4a_project_conv False\n",
            "89 block4a_project_bn False\n",
            "90 block4b_expand_conv False\n",
            "91 block4b_expand_bn False\n",
            "92 block4b_expand_activation False\n",
            "93 block4b_dwconv False\n",
            "94 block4b_bn False\n",
            "95 block4b_activation False\n",
            "96 block4b_se_squeeze False\n",
            "97 block4b_se_reshape False\n",
            "98 block4b_se_reduce False\n",
            "99 block4b_se_expand False\n",
            "100 block4b_se_excite False\n",
            "101 block4b_project_conv False\n",
            "102 block4b_project_bn False\n",
            "103 block4b_drop False\n",
            "104 block4b_add False\n",
            "105 block4c_expand_conv False\n",
            "106 block4c_expand_bn False\n",
            "107 block4c_expand_activation False\n",
            "108 block4c_dwconv False\n",
            "109 block4c_bn False\n",
            "110 block4c_activation False\n",
            "111 block4c_se_squeeze False\n",
            "112 block4c_se_reshape False\n",
            "113 block4c_se_reduce False\n",
            "114 block4c_se_expand False\n",
            "115 block4c_se_excite False\n",
            "116 block4c_project_conv False\n",
            "117 block4c_project_bn False\n",
            "118 block4c_drop False\n",
            "119 block4c_add False\n",
            "120 block5a_expand_conv False\n",
            "121 block5a_expand_bn False\n",
            "122 block5a_expand_activation False\n",
            "123 block5a_dwconv False\n",
            "124 block5a_bn False\n",
            "125 block5a_activation False\n",
            "126 block5a_se_squeeze False\n",
            "127 block5a_se_reshape False\n",
            "128 block5a_se_reduce False\n",
            "129 block5a_se_expand False\n",
            "130 block5a_se_excite False\n",
            "131 block5a_project_conv False\n",
            "132 block5a_project_bn False\n",
            "133 block5b_expand_conv False\n",
            "134 block5b_expand_bn False\n",
            "135 block5b_expand_activation False\n",
            "136 block5b_dwconv False\n",
            "137 block5b_bn False\n",
            "138 block5b_activation False\n",
            "139 block5b_se_squeeze False\n",
            "140 block5b_se_reshape False\n",
            "141 block5b_se_reduce False\n",
            "142 block5b_se_expand False\n",
            "143 block5b_se_excite False\n",
            "144 block5b_project_conv False\n",
            "145 block5b_project_bn False\n",
            "146 block5b_drop False\n",
            "147 block5b_add False\n",
            "148 block5c_expand_conv False\n",
            "149 block5c_expand_bn False\n",
            "150 block5c_expand_activation False\n",
            "151 block5c_dwconv False\n",
            "152 block5c_bn False\n",
            "153 block5c_activation False\n",
            "154 block5c_se_squeeze False\n",
            "155 block5c_se_reshape False\n",
            "156 block5c_se_reduce False\n",
            "157 block5c_se_expand False\n",
            "158 block5c_se_excite False\n",
            "159 block5c_project_conv False\n",
            "160 block5c_project_bn False\n",
            "161 block5c_drop False\n",
            "162 block5c_add False\n",
            "163 block6a_expand_conv False\n",
            "164 block6a_expand_bn False\n",
            "165 block6a_expand_activation False\n",
            "166 block6a_dwconv_pad False\n",
            "167 block6a_dwconv False\n",
            "168 block6a_bn False\n",
            "169 block6a_activation False\n",
            "170 block6a_se_squeeze False\n",
            "171 block6a_se_reshape False\n",
            "172 block6a_se_reduce False\n",
            "173 block6a_se_expand False\n",
            "174 block6a_se_excite False\n",
            "175 block6a_project_conv False\n",
            "176 block6a_project_bn False\n",
            "177 block6b_expand_conv False\n",
            "178 block6b_expand_bn False\n",
            "179 block6b_expand_activation False\n",
            "180 block6b_dwconv False\n",
            "181 block6b_bn False\n",
            "182 block6b_activation False\n",
            "183 block6b_se_squeeze False\n",
            "184 block6b_se_reshape False\n",
            "185 block6b_se_reduce False\n",
            "186 block6b_se_expand False\n",
            "187 block6b_se_excite False\n",
            "188 block6b_project_conv False\n",
            "189 block6b_project_bn False\n",
            "190 block6b_drop False\n",
            "191 block6b_add False\n",
            "192 block6c_expand_conv False\n",
            "193 block6c_expand_bn False\n",
            "194 block6c_expand_activation False\n",
            "195 block6c_dwconv False\n",
            "196 block6c_bn False\n",
            "197 block6c_activation False\n",
            "198 block6c_se_squeeze False\n",
            "199 block6c_se_reshape False\n",
            "200 block6c_se_reduce False\n",
            "201 block6c_se_expand False\n",
            "202 block6c_se_excite False\n",
            "203 block6c_project_conv False\n",
            "204 block6c_project_bn False\n",
            "205 block6c_drop False\n",
            "206 block6c_add False\n",
            "207 block6d_expand_conv False\n",
            "208 block6d_expand_bn False\n",
            "209 block6d_expand_activation False\n",
            "210 block6d_dwconv False\n",
            "211 block6d_bn False\n",
            "212 block6d_activation False\n",
            "213 block6d_se_squeeze False\n",
            "214 block6d_se_reshape False\n",
            "215 block6d_se_reduce False\n",
            "216 block6d_se_expand False\n",
            "217 block6d_se_excite False\n",
            "218 block6d_project_conv False\n",
            "219 block6d_project_bn False\n",
            "220 block6d_drop False\n",
            "221 block6d_add False\n",
            "222 block7a_expand_conv False\n",
            "223 block7a_expand_bn False\n",
            "224 block7a_expand_activation False\n",
            "225 block7a_dwconv False\n",
            "226 block7a_bn False\n",
            "227 block7a_activation False\n",
            "228 block7a_se_squeeze False\n",
            "229 block7a_se_reshape False\n",
            "230 block7a_se_reduce False\n",
            "231 block7a_se_expand False\n",
            "232 block7a_se_excite False\n",
            "233 block7a_project_conv False\n",
            "234 block7a_project_bn False\n",
            "235 top_conv False\n",
            "236 top_bn False\n",
            "237 top_activation False\n"
          ]
        }
      ]
    },
    {
      "cell_type": "code",
      "source": [
        "base_model = tf.keras.applications.EfficientNetB0(include_top=False)\n",
        "base_model.trainable = True\n",
        "\n",
        "# Freeze all layers except for the last 10\n",
        "for layer in base_model.layers[:-10]:\n",
        "  layer.trainable = False\n",
        "\n",
        "inputs = tf.keras.layers.Input(shape=(512, 512, 3))\n",
        "\n",
        "x = base_model(inputs)\n",
        "\n",
        "x = GlobalAveragePooling2D()(x)\n",
        "\n",
        "x = Dense(4, activation = 'softmax')(x)\n",
        "\n",
        "model1 = tf.keras.Model(inputs = inputs, outputs = x)"
      ],
      "metadata": {
        "id": "qkwVcLakhln5"
      },
      "execution_count": null,
      "outputs": []
    },
    {
      "cell_type": "code",
      "source": [
        "model1.compile(loss=tf.keras.losses.categorical_crossentropy,\n",
        "               optimizer = tf.keras.optimizers.Adam(learning_rate=0.0001), # when fine tuning you typically lower the learning rate by some amount\n",
        "               metrics = ['accuracy'])"
      ],
      "metadata": {
        "id": "zH1E1vLbhq3I"
      },
      "execution_count": null,
      "outputs": []
    },
    {
      "cell_type": "code",
      "source": [
        "for layer_number, layer in enumerate(model1.layers[1].layers):\n",
        "  print(layer_number, layer.name, layer.trainable)"
      ],
      "metadata": {
        "colab": {
          "base_uri": "https://localhost:8080/"
        },
        "id": "pDVuVbAFZbZc",
        "outputId": "27bb5d90-8a51-4e4a-9fb7-c4e4cd791f27"
      },
      "execution_count": null,
      "outputs": [
        {
          "output_type": "stream",
          "name": "stdout",
          "text": [
            "0 input_7 False\n",
            "1 rescaling_6 False\n",
            "2 normalization_3 False\n",
            "3 rescaling_7 False\n",
            "4 stem_conv_pad False\n",
            "5 stem_conv False\n",
            "6 stem_bn False\n",
            "7 stem_activation False\n",
            "8 block1a_dwconv False\n",
            "9 block1a_bn False\n",
            "10 block1a_activation False\n",
            "11 block1a_se_squeeze False\n",
            "12 block1a_se_reshape False\n",
            "13 block1a_se_reduce False\n",
            "14 block1a_se_expand False\n",
            "15 block1a_se_excite False\n",
            "16 block1a_project_conv False\n",
            "17 block1a_project_bn False\n",
            "18 block2a_expand_conv False\n",
            "19 block2a_expand_bn False\n",
            "20 block2a_expand_activation False\n",
            "21 block2a_dwconv_pad False\n",
            "22 block2a_dwconv False\n",
            "23 block2a_bn False\n",
            "24 block2a_activation False\n",
            "25 block2a_se_squeeze False\n",
            "26 block2a_se_reshape False\n",
            "27 block2a_se_reduce False\n",
            "28 block2a_se_expand False\n",
            "29 block2a_se_excite False\n",
            "30 block2a_project_conv False\n",
            "31 block2a_project_bn False\n",
            "32 block2b_expand_conv False\n",
            "33 block2b_expand_bn False\n",
            "34 block2b_expand_activation False\n",
            "35 block2b_dwconv False\n",
            "36 block2b_bn False\n",
            "37 block2b_activation False\n",
            "38 block2b_se_squeeze False\n",
            "39 block2b_se_reshape False\n",
            "40 block2b_se_reduce False\n",
            "41 block2b_se_expand False\n",
            "42 block2b_se_excite False\n",
            "43 block2b_project_conv False\n",
            "44 block2b_project_bn False\n",
            "45 block2b_drop False\n",
            "46 block2b_add False\n",
            "47 block3a_expand_conv False\n",
            "48 block3a_expand_bn False\n",
            "49 block3a_expand_activation False\n",
            "50 block3a_dwconv_pad False\n",
            "51 block3a_dwconv False\n",
            "52 block3a_bn False\n",
            "53 block3a_activation False\n",
            "54 block3a_se_squeeze False\n",
            "55 block3a_se_reshape False\n",
            "56 block3a_se_reduce False\n",
            "57 block3a_se_expand False\n",
            "58 block3a_se_excite False\n",
            "59 block3a_project_conv False\n",
            "60 block3a_project_bn False\n",
            "61 block3b_expand_conv False\n",
            "62 block3b_expand_bn False\n",
            "63 block3b_expand_activation False\n",
            "64 block3b_dwconv False\n",
            "65 block3b_bn False\n",
            "66 block3b_activation False\n",
            "67 block3b_se_squeeze False\n",
            "68 block3b_se_reshape False\n",
            "69 block3b_se_reduce False\n",
            "70 block3b_se_expand False\n",
            "71 block3b_se_excite False\n",
            "72 block3b_project_conv False\n",
            "73 block3b_project_bn False\n",
            "74 block3b_drop False\n",
            "75 block3b_add False\n",
            "76 block4a_expand_conv False\n",
            "77 block4a_expand_bn False\n",
            "78 block4a_expand_activation False\n",
            "79 block4a_dwconv_pad False\n",
            "80 block4a_dwconv False\n",
            "81 block4a_bn False\n",
            "82 block4a_activation False\n",
            "83 block4a_se_squeeze False\n",
            "84 block4a_se_reshape False\n",
            "85 block4a_se_reduce False\n",
            "86 block4a_se_expand False\n",
            "87 block4a_se_excite False\n",
            "88 block4a_project_conv False\n",
            "89 block4a_project_bn False\n",
            "90 block4b_expand_conv False\n",
            "91 block4b_expand_bn False\n",
            "92 block4b_expand_activation False\n",
            "93 block4b_dwconv False\n",
            "94 block4b_bn False\n",
            "95 block4b_activation False\n",
            "96 block4b_se_squeeze False\n",
            "97 block4b_se_reshape False\n",
            "98 block4b_se_reduce False\n",
            "99 block4b_se_expand False\n",
            "100 block4b_se_excite False\n",
            "101 block4b_project_conv False\n",
            "102 block4b_project_bn False\n",
            "103 block4b_drop False\n",
            "104 block4b_add False\n",
            "105 block4c_expand_conv False\n",
            "106 block4c_expand_bn False\n",
            "107 block4c_expand_activation False\n",
            "108 block4c_dwconv False\n",
            "109 block4c_bn False\n",
            "110 block4c_activation False\n",
            "111 block4c_se_squeeze False\n",
            "112 block4c_se_reshape False\n",
            "113 block4c_se_reduce False\n",
            "114 block4c_se_expand False\n",
            "115 block4c_se_excite False\n",
            "116 block4c_project_conv False\n",
            "117 block4c_project_bn False\n",
            "118 block4c_drop False\n",
            "119 block4c_add False\n",
            "120 block5a_expand_conv False\n",
            "121 block5a_expand_bn False\n",
            "122 block5a_expand_activation False\n",
            "123 block5a_dwconv False\n",
            "124 block5a_bn False\n",
            "125 block5a_activation False\n",
            "126 block5a_se_squeeze False\n",
            "127 block5a_se_reshape False\n",
            "128 block5a_se_reduce False\n",
            "129 block5a_se_expand False\n",
            "130 block5a_se_excite False\n",
            "131 block5a_project_conv False\n",
            "132 block5a_project_bn False\n",
            "133 block5b_expand_conv False\n",
            "134 block5b_expand_bn False\n",
            "135 block5b_expand_activation False\n",
            "136 block5b_dwconv False\n",
            "137 block5b_bn False\n",
            "138 block5b_activation False\n",
            "139 block5b_se_squeeze False\n",
            "140 block5b_se_reshape False\n",
            "141 block5b_se_reduce False\n",
            "142 block5b_se_expand False\n",
            "143 block5b_se_excite False\n",
            "144 block5b_project_conv False\n",
            "145 block5b_project_bn False\n",
            "146 block5b_drop False\n",
            "147 block5b_add False\n",
            "148 block5c_expand_conv False\n",
            "149 block5c_expand_bn False\n",
            "150 block5c_expand_activation False\n",
            "151 block5c_dwconv False\n",
            "152 block5c_bn False\n",
            "153 block5c_activation False\n",
            "154 block5c_se_squeeze False\n",
            "155 block5c_se_reshape False\n",
            "156 block5c_se_reduce False\n",
            "157 block5c_se_expand False\n",
            "158 block5c_se_excite False\n",
            "159 block5c_project_conv False\n",
            "160 block5c_project_bn False\n",
            "161 block5c_drop False\n",
            "162 block5c_add False\n",
            "163 block6a_expand_conv False\n",
            "164 block6a_expand_bn False\n",
            "165 block6a_expand_activation False\n",
            "166 block6a_dwconv_pad False\n",
            "167 block6a_dwconv False\n",
            "168 block6a_bn False\n",
            "169 block6a_activation False\n",
            "170 block6a_se_squeeze False\n",
            "171 block6a_se_reshape False\n",
            "172 block6a_se_reduce False\n",
            "173 block6a_se_expand False\n",
            "174 block6a_se_excite False\n",
            "175 block6a_project_conv False\n",
            "176 block6a_project_bn False\n",
            "177 block6b_expand_conv False\n",
            "178 block6b_expand_bn False\n",
            "179 block6b_expand_activation False\n",
            "180 block6b_dwconv False\n",
            "181 block6b_bn False\n",
            "182 block6b_activation False\n",
            "183 block6b_se_squeeze False\n",
            "184 block6b_se_reshape False\n",
            "185 block6b_se_reduce False\n",
            "186 block6b_se_expand False\n",
            "187 block6b_se_excite False\n",
            "188 block6b_project_conv False\n",
            "189 block6b_project_bn False\n",
            "190 block6b_drop False\n",
            "191 block6b_add False\n",
            "192 block6c_expand_conv False\n",
            "193 block6c_expand_bn False\n",
            "194 block6c_expand_activation False\n",
            "195 block6c_dwconv False\n",
            "196 block6c_bn False\n",
            "197 block6c_activation False\n",
            "198 block6c_se_squeeze False\n",
            "199 block6c_se_reshape False\n",
            "200 block6c_se_reduce False\n",
            "201 block6c_se_expand False\n",
            "202 block6c_se_excite False\n",
            "203 block6c_project_conv False\n",
            "204 block6c_project_bn False\n",
            "205 block6c_drop False\n",
            "206 block6c_add False\n",
            "207 block6d_expand_conv False\n",
            "208 block6d_expand_bn False\n",
            "209 block6d_expand_activation False\n",
            "210 block6d_dwconv False\n",
            "211 block6d_bn False\n",
            "212 block6d_activation False\n",
            "213 block6d_se_squeeze False\n",
            "214 block6d_se_reshape False\n",
            "215 block6d_se_reduce False\n",
            "216 block6d_se_expand False\n",
            "217 block6d_se_excite False\n",
            "218 block6d_project_conv False\n",
            "219 block6d_project_bn False\n",
            "220 block6d_drop False\n",
            "221 block6d_add False\n",
            "222 block7a_expand_conv False\n",
            "223 block7a_expand_bn False\n",
            "224 block7a_expand_activation False\n",
            "225 block7a_dwconv False\n",
            "226 block7a_bn False\n",
            "227 block7a_activation False\n",
            "228 block7a_se_squeeze True\n",
            "229 block7a_se_reshape True\n",
            "230 block7a_se_reduce True\n",
            "231 block7a_se_expand True\n",
            "232 block7a_se_excite True\n",
            "233 block7a_project_conv True\n",
            "234 block7a_project_bn True\n",
            "235 top_conv True\n",
            "236 top_bn True\n",
            "237 top_activation True\n"
          ]
        }
      ]
    },
    {
      "cell_type": "code",
      "source": [],
      "metadata": {
        "id": "JozXyKxYZbWd"
      },
      "execution_count": null,
      "outputs": []
    },
    {
      "cell_type": "code",
      "source": [
        "# fine tune for another 5 epochs\n",
        "fine_tune_epochs = 15 + 15\n",
        "history3 = model1.fit(train_data,\n",
        "                      epochs = fine_tune_epochs,\n",
        "           steps_per_epoch=len(train_data),\n",
        "           validation_data=valid_data,\n",
        "           validation_steps=len(valid_data),\n",
        "           callbacks=[create_tensorboard_callback(\"tensorflow_hub\", \"model3_EfficientNetB0\"), create_checkpoint(\"model3_weights/checkpoints3.cktp\")],\n",
        "           initial_epoch = history1.epoch[-1])"
      ],
      "metadata": {
        "id": "iIEhIQ1SZbTe",
        "colab": {
          "base_uri": "https://localhost:8080/"
        },
        "outputId": "a26a5b1f-2e33-49c4-9906-6c7c7ec5bd23"
      },
      "execution_count": null,
      "outputs": [
        {
          "output_type": "stream",
          "name": "stderr",
          "text": [
            "WARNING:tensorflow:Model failed to serialize as JSON. Ignoring... Unable to serialize [2.0896919 2.1128857 2.1081853] to JSON. Unrecognized type <class 'tensorflow.python.framework.ops.EagerTensor'>.\n"
          ]
        },
        {
          "output_type": "stream",
          "name": "stdout",
          "text": [
            "saving TensorBoard log files to : tensorflow_hub/model3_EfficientNetB0\n",
            "Epoch 15/30\n",
            "18/18 [==============================] - ETA: 0s - loss: 0.8570 - accuracy: 0.6830\n",
            "Epoch 15: val_loss improved from inf to 1.17474, saving model to model3_weights/checkpoints3.cktp\n",
            "18/18 [==============================] - 24s 735ms/step - loss: 0.8570 - accuracy: 0.6830 - val_loss: 1.1747 - val_accuracy: 0.4875\n",
            "Epoch 16/30\n",
            "18/18 [==============================] - ETA: 0s - loss: 0.8133 - accuracy: 0.6830\n",
            "Epoch 16: val_loss improved from 1.17474 to 1.16583, saving model to model3_weights/checkpoints3.cktp\n",
            "18/18 [==============================] - 14s 599ms/step - loss: 0.8133 - accuracy: 0.6830 - val_loss: 1.1658 - val_accuracy: 0.4688\n",
            "Epoch 17/30\n",
            "18/18 [==============================] - ETA: 0s - loss: 0.7968 - accuracy: 0.7215\n",
            "Epoch 17: val_loss improved from 1.16583 to 1.16170, saving model to model3_weights/checkpoints3.cktp\n",
            "18/18 [==============================] - 16s 685ms/step - loss: 0.7968 - accuracy: 0.7215 - val_loss: 1.1617 - val_accuracy: 0.5000\n",
            "Epoch 18/30\n",
            "18/18 [==============================] - ETA: 0s - loss: 0.7950 - accuracy: 0.7391\n",
            "Epoch 18: val_loss improved from 1.16170 to 1.15781, saving model to model3_weights/checkpoints3.cktp\n",
            "18/18 [==============================] - 14s 610ms/step - loss: 0.7950 - accuracy: 0.7391 - val_loss: 1.1578 - val_accuracy: 0.4812\n",
            "Epoch 19/30\n",
            "18/18 [==============================] - ETA: 0s - loss: 0.7932 - accuracy: 0.7163\n",
            "Epoch 19: val_loss did not improve from 1.15781\n",
            "18/18 [==============================] - 13s 557ms/step - loss: 0.7932 - accuracy: 0.7163 - val_loss: 1.1738 - val_accuracy: 0.4938\n",
            "Epoch 20/30\n",
            "18/18 [==============================] - ETA: 0s - loss: 0.7968 - accuracy: 0.7145\n",
            "Epoch 20: val_loss did not improve from 1.15781\n",
            "18/18 [==============================] - 13s 542ms/step - loss: 0.7968 - accuracy: 0.7145 - val_loss: 1.1823 - val_accuracy: 0.4750\n",
            "Epoch 21/30\n",
            "18/18 [==============================] - ETA: 0s - loss: 0.7681 - accuracy: 0.7356\n",
            "Epoch 21: val_loss did not improve from 1.15781\n",
            "18/18 [==============================] - 14s 623ms/step - loss: 0.7681 - accuracy: 0.7356 - val_loss: 1.1742 - val_accuracy: 0.4688\n",
            "Epoch 22/30\n",
            "18/18 [==============================] - ETA: 0s - loss: 0.7681 - accuracy: 0.7215\n",
            "Epoch 22: val_loss did not improve from 1.15781\n",
            "18/18 [==============================] - 13s 571ms/step - loss: 0.7681 - accuracy: 0.7215 - val_loss: 1.1704 - val_accuracy: 0.5063\n",
            "Epoch 23/30\n",
            "18/18 [==============================] - ETA: 0s - loss: 0.7603 - accuracy: 0.7303\n",
            "Epoch 23: val_loss did not improve from 1.15781\n",
            "18/18 [==============================] - 16s 659ms/step - loss: 0.7603 - accuracy: 0.7303 - val_loss: 1.1947 - val_accuracy: 0.5000\n",
            "Epoch 24/30\n",
            "18/18 [==============================] - ETA: 0s - loss: 0.7339 - accuracy: 0.7338\n",
            "Epoch 24: val_loss did not improve from 1.15781\n",
            "18/18 [==============================] - 13s 567ms/step - loss: 0.7339 - accuracy: 0.7338 - val_loss: 1.1881 - val_accuracy: 0.5188\n",
            "Epoch 25/30\n",
            "18/18 [==============================] - ETA: 0s - loss: 0.7257 - accuracy: 0.7583\n",
            "Epoch 25: val_loss did not improve from 1.15781\n",
            "18/18 [==============================] - 13s 544ms/step - loss: 0.7257 - accuracy: 0.7583 - val_loss: 1.2350 - val_accuracy: 0.5000\n",
            "Epoch 26/30\n",
            "18/18 [==============================] - ETA: 0s - loss: 0.7209 - accuracy: 0.7513\n",
            "Epoch 26: val_loss did not improve from 1.15781\n",
            "18/18 [==============================] - 12s 533ms/step - loss: 0.7209 - accuracy: 0.7513 - val_loss: 1.1816 - val_accuracy: 0.5375\n",
            "Epoch 27/30\n",
            "18/18 [==============================] - ETA: 0s - loss: 0.7261 - accuracy: 0.7583\n",
            "Epoch 27: val_loss did not improve from 1.15781\n",
            "18/18 [==============================] - 13s 538ms/step - loss: 0.7261 - accuracy: 0.7583 - val_loss: 1.1910 - val_accuracy: 0.5063\n",
            "Epoch 28/30\n",
            "18/18 [==============================] - ETA: 0s - loss: 0.7169 - accuracy: 0.7478\n",
            "Epoch 28: val_loss did not improve from 1.15781\n",
            "18/18 [==============================] - 12s 527ms/step - loss: 0.7169 - accuracy: 0.7478 - val_loss: 1.1903 - val_accuracy: 0.5063\n",
            "Epoch 29/30\n",
            "18/18 [==============================] - ETA: 0s - loss: 0.7233 - accuracy: 0.7303\n",
            "Epoch 29: val_loss did not improve from 1.15781\n",
            "18/18 [==============================] - 12s 531ms/step - loss: 0.7233 - accuracy: 0.7303 - val_loss: 1.1748 - val_accuracy: 0.5063\n",
            "Epoch 30/30\n",
            "18/18 [==============================] - ETA: 0s - loss: 0.6910 - accuracy: 0.7671\n",
            "Epoch 30: val_loss improved from 1.15781 to 1.15769, saving model to model3_weights/checkpoints3.cktp\n",
            "18/18 [==============================] - 14s 626ms/step - loss: 0.6910 - accuracy: 0.7671 - val_loss: 1.1577 - val_accuracy: 0.5250\n"
          ]
        }
      ]
    },
    {
      "cell_type": "code",
      "source": [
        "model1.evaluate(test_data)"
      ],
      "metadata": {
        "colab": {
          "base_uri": "https://localhost:8080/"
        },
        "id": "Jov0gQ4llFSC",
        "outputId": "91fc070b-5a75-4b3f-d640-044782792759"
      },
      "execution_count": null,
      "outputs": [
        {
          "output_type": "stream",
          "name": "stdout",
          "text": [
            "8/8 [==============================] - 5s 272ms/step - loss: 1.6933 - accuracy: 0.2833\n"
          ]
        },
        {
          "output_type": "execute_result",
          "data": {
            "text/plain": [
              "[1.6932663917541504, 0.28333333134651184]"
            ]
          },
          "metadata": {},
          "execution_count": 75
        }
      ]
    },
    {
      "cell_type": "code",
      "source": [
        "model1.summary()"
      ],
      "metadata": {
        "colab": {
          "base_uri": "https://localhost:8080/"
        },
        "id": "Sd672v2mmr9T",
        "outputId": "2135d994-214d-4a88-88c5-28ae6ff40e1e"
      },
      "execution_count": null,
      "outputs": [
        {
          "output_type": "stream",
          "name": "stdout",
          "text": [
            "Model: \"model_3\"\n",
            "_________________________________________________________________\n",
            " Layer (type)                Output Shape              Param #   \n",
            "=================================================================\n",
            " input_8 (InputLayer)        [(None, 512, 512, 3)]     0         \n",
            "                                                                 \n",
            " efficientnetb0 (Functional)  (None, None, None, 1280)  4049571  \n",
            "                                                                 \n",
            " global_average_pooling2d_3   (None, 1280)             0         \n",
            " (GlobalAveragePooling2D)                                        \n",
            "                                                                 \n",
            " dense_3 (Dense)             (None, 4)                 5124      \n",
            "                                                                 \n",
            "=================================================================\n",
            "Total params: 4,054,695\n",
            "Trainable params: 898,356\n",
            "Non-trainable params: 3,156,339\n",
            "_________________________________________________________________\n"
          ]
        }
      ]
    },
    {
      "cell_type": "code",
      "source": [
        "plot_loss_curves(history3)"
      ],
      "metadata": {
        "colab": {
          "base_uri": "https://localhost:8080/",
          "height": 927
        },
        "id": "rlYzCf3hnCTM",
        "outputId": "e19436cc-8d66-423e-ff00-926b1442c09b"
      },
      "execution_count": null,
      "outputs": [
        {
          "output_type": "display_data",
          "data": {
            "text/plain": [
              "<Figure size 640x480 with 1 Axes>"
            ],
            "image/png": "[encoded data removed]"
          },
          "metadata": {}
        },
        {
          "output_type": "display_data",
          "data": {
            "text/plain": [
              "<Figure size 640x480 with 1 Axes>"
            ],
            "image/png": "[encoded data removed]"
          },
          "metadata": {}
        }
      ]
    },
    {
      "cell_type": "markdown",
      "source": [
        "## Model4 - top 10 layers trainable with data augmentation"
      ],
      "metadata": {
        "id": "2JDJ1h9gbEKc"
      }
    },
    {
      "cell_type": "code",
      "source": [
        "for layer in model2.layers:\n",
        "  print(layer)"
      ],
      "metadata": {
        "colab": {
          "base_uri": "https://localhost:8080/"
        },
        "id": "mC1Q-a1dY2ok",
        "outputId": "8db1d28b-7013-4be1-e16f-96c4881830e1"
      },
      "execution_count": null,
      "outputs": [
        {
          "output_type": "stream",
          "name": "stdout",
          "text": [
            "<keras.engine.input_layer.InputLayer object at 0x7fab2c401eb0>\n",
            "<keras.engine.sequential.Sequential object at 0x7fabe92f9f70>\n",
            "<keras.engine.functional.Functional object at 0x7fab242a5550>\n",
            "<keras.layers.pooling.global_average_pooling2d.GlobalAveragePooling2D object at 0x7fab5a022190>\n",
            "<keras.layers.core.dense.Dense object at 0x7fab240c78e0>\n"
          ]
        }
      ]
    },
    {
      "cell_type": "code",
      "source": [
        "for i, layer in enumerate(model2.layers[2].layers):\n",
        "  print(i, layer.name, layer.trainable)"
      ],
      "metadata": {
        "colab": {
          "base_uri": "https://localhost:8080/"
        },
        "id": "pMrd0TpGZhsa",
        "outputId": "e3cd651f-310c-44f0-cb33-aed2912197ad"
      },
      "execution_count": null,
      "outputs": [
        {
          "output_type": "stream",
          "name": "stdout",
          "text": [
            "0 input_3 False\n",
            "1 rescaling_2 False\n",
            "2 normalization_1 False\n",
            "3 rescaling_3 False\n",
            "4 stem_conv_pad False\n",
            "5 stem_conv False\n",
            "6 stem_bn False\n",
            "7 stem_activation False\n",
            "8 block1a_dwconv False\n",
            "9 block1a_bn False\n",
            "10 block1a_activation False\n",
            "11 block1a_se_squeeze False\n",
            "12 block1a_se_reshape False\n",
            "13 block1a_se_reduce False\n",
            "14 block1a_se_expand False\n",
            "15 block1a_se_excite False\n",
            "16 block1a_project_conv False\n",
            "17 block1a_project_bn False\n",
            "18 block2a_expand_conv False\n",
            "19 block2a_expand_bn False\n",
            "20 block2a_expand_activation False\n",
            "21 block2a_dwconv_pad False\n",
            "22 block2a_dwconv False\n",
            "23 block2a_bn False\n",
            "24 block2a_activation False\n",
            "25 block2a_se_squeeze False\n",
            "26 block2a_se_reshape False\n",
            "27 block2a_se_reduce False\n",
            "28 block2a_se_expand False\n",
            "29 block2a_se_excite False\n",
            "30 block2a_project_conv False\n",
            "31 block2a_project_bn False\n",
            "32 block2b_expand_conv False\n",
            "33 block2b_expand_bn False\n",
            "34 block2b_expand_activation False\n",
            "35 block2b_dwconv False\n",
            "36 block2b_bn False\n",
            "37 block2b_activation False\n",
            "38 block2b_se_squeeze False\n",
            "39 block2b_se_reshape False\n",
            "40 block2b_se_reduce False\n",
            "41 block2b_se_expand False\n",
            "42 block2b_se_excite False\n",
            "43 block2b_project_conv False\n",
            "44 block2b_project_bn False\n",
            "45 block2b_drop False\n",
            "46 block2b_add False\n",
            "47 block3a_expand_conv False\n",
            "48 block3a_expand_bn False\n",
            "49 block3a_expand_activation False\n",
            "50 block3a_dwconv_pad False\n",
            "51 block3a_dwconv False\n",
            "52 block3a_bn False\n",
            "53 block3a_activation False\n",
            "54 block3a_se_squeeze False\n",
            "55 block3a_se_reshape False\n",
            "56 block3a_se_reduce False\n",
            "57 block3a_se_expand False\n",
            "58 block3a_se_excite False\n",
            "59 block3a_project_conv False\n",
            "60 block3a_project_bn False\n",
            "61 block3b_expand_conv False\n",
            "62 block3b_expand_bn False\n",
            "63 block3b_expand_activation False\n",
            "64 block3b_dwconv False\n",
            "65 block3b_bn False\n",
            "66 block3b_activation False\n",
            "67 block3b_se_squeeze False\n",
            "68 block3b_se_reshape False\n",
            "69 block3b_se_reduce False\n",
            "70 block3b_se_expand False\n",
            "71 block3b_se_excite False\n",
            "72 block3b_project_conv False\n",
            "73 block3b_project_bn False\n",
            "74 block3b_drop False\n",
            "75 block3b_add False\n",
            "76 block4a_expand_conv False\n",
            "77 block4a_expand_bn False\n",
            "78 block4a_expand_activation False\n",
            "79 block4a_dwconv_pad False\n",
            "80 block4a_dwconv False\n",
            "81 block4a_bn False\n",
            "82 block4a_activation False\n",
            "83 block4a_se_squeeze False\n",
            "84 block4a_se_reshape False\n",
            "85 block4a_se_reduce False\n",
            "86 block4a_se_expand False\n",
            "87 block4a_se_excite False\n",
            "88 block4a_project_conv False\n",
            "89 block4a_project_bn False\n",
            "90 block4b_expand_conv False\n",
            "91 block4b_expand_bn False\n",
            "92 block4b_expand_activation False\n",
            "93 block4b_dwconv False\n",
            "94 block4b_bn False\n",
            "95 block4b_activation False\n",
            "96 block4b_se_squeeze False\n",
            "97 block4b_se_reshape False\n",
            "98 block4b_se_reduce False\n",
            "99 block4b_se_expand False\n",
            "100 block4b_se_excite False\n",
            "101 block4b_project_conv False\n",
            "102 block4b_project_bn False\n",
            "103 block4b_drop False\n",
            "104 block4b_add False\n",
            "105 block4c_expand_conv False\n",
            "106 block4c_expand_bn False\n",
            "107 block4c_expand_activation False\n",
            "108 block4c_dwconv False\n",
            "109 block4c_bn False\n",
            "110 block4c_activation False\n",
            "111 block4c_se_squeeze False\n",
            "112 block4c_se_reshape False\n",
            "113 block4c_se_reduce False\n",
            "114 block4c_se_expand False\n",
            "115 block4c_se_excite False\n",
            "116 block4c_project_conv False\n",
            "117 block4c_project_bn False\n",
            "118 block4c_drop False\n",
            "119 block4c_add False\n",
            "120 block5a_expand_conv False\n",
            "121 block5a_expand_bn False\n",
            "122 block5a_expand_activation False\n",
            "123 block5a_dwconv False\n",
            "124 block5a_bn False\n",
            "125 block5a_activation False\n",
            "126 block5a_se_squeeze False\n",
            "127 block5a_se_reshape False\n",
            "128 block5a_se_reduce False\n",
            "129 block5a_se_expand False\n",
            "130 block5a_se_excite False\n",
            "131 block5a_project_conv False\n",
            "132 block5a_project_bn False\n",
            "133 block5b_expand_conv False\n",
            "134 block5b_expand_bn False\n",
            "135 block5b_expand_activation False\n",
            "136 block5b_dwconv False\n",
            "137 block5b_bn False\n",
            "138 block5b_activation False\n",
            "139 block5b_se_squeeze False\n",
            "140 block5b_se_reshape False\n",
            "141 block5b_se_reduce False\n",
            "142 block5b_se_expand False\n",
            "143 block5b_se_excite False\n",
            "144 block5b_project_conv False\n",
            "145 block5b_project_bn False\n",
            "146 block5b_drop False\n",
            "147 block5b_add False\n",
            "148 block5c_expand_conv False\n",
            "149 block5c_expand_bn False\n",
            "150 block5c_expand_activation False\n",
            "151 block5c_dwconv False\n",
            "152 block5c_bn False\n",
            "153 block5c_activation False\n",
            "154 block5c_se_squeeze False\n",
            "155 block5c_se_reshape False\n",
            "156 block5c_se_reduce False\n",
            "157 block5c_se_expand False\n",
            "158 block5c_se_excite False\n",
            "159 block5c_project_conv False\n",
            "160 block5c_project_bn False\n",
            "161 block5c_drop False\n",
            "162 block5c_add False\n",
            "163 block6a_expand_conv False\n",
            "164 block6a_expand_bn False\n",
            "165 block6a_expand_activation False\n",
            "166 block6a_dwconv_pad False\n",
            "167 block6a_dwconv False\n",
            "168 block6a_bn False\n",
            "169 block6a_activation False\n",
            "170 block6a_se_squeeze False\n",
            "171 block6a_se_reshape False\n",
            "172 block6a_se_reduce False\n",
            "173 block6a_se_expand False\n",
            "174 block6a_se_excite False\n",
            "175 block6a_project_conv False\n",
            "176 block6a_project_bn False\n",
            "177 block6b_expand_conv False\n",
            "178 block6b_expand_bn False\n",
            "179 block6b_expand_activation False\n",
            "180 block6b_dwconv False\n",
            "181 block6b_bn False\n",
            "182 block6b_activation False\n",
            "183 block6b_se_squeeze False\n",
            "184 block6b_se_reshape False\n",
            "185 block6b_se_reduce False\n",
            "186 block6b_se_expand False\n",
            "187 block6b_se_excite False\n",
            "188 block6b_project_conv False\n",
            "189 block6b_project_bn False\n",
            "190 block6b_drop False\n",
            "191 block6b_add False\n",
            "192 block6c_expand_conv False\n",
            "193 block6c_expand_bn False\n",
            "194 block6c_expand_activation False\n",
            "195 block6c_dwconv False\n",
            "196 block6c_bn False\n",
            "197 block6c_activation False\n",
            "198 block6c_se_squeeze False\n",
            "199 block6c_se_reshape False\n",
            "200 block6c_se_reduce False\n",
            "201 block6c_se_expand False\n",
            "202 block6c_se_excite False\n",
            "203 block6c_project_conv False\n",
            "204 block6c_project_bn False\n",
            "205 block6c_drop False\n",
            "206 block6c_add False\n",
            "207 block6d_expand_conv False\n",
            "208 block6d_expand_bn False\n",
            "209 block6d_expand_activation False\n",
            "210 block6d_dwconv False\n",
            "211 block6d_bn False\n",
            "212 block6d_activation False\n",
            "213 block6d_se_squeeze False\n",
            "214 block6d_se_reshape False\n",
            "215 block6d_se_reduce False\n",
            "216 block6d_se_expand False\n",
            "217 block6d_se_excite False\n",
            "218 block6d_project_conv False\n",
            "219 block6d_project_bn False\n",
            "220 block6d_drop False\n",
            "221 block6d_add False\n",
            "222 block7a_expand_conv False\n",
            "223 block7a_expand_bn False\n",
            "224 block7a_expand_activation False\n",
            "225 block7a_dwconv False\n",
            "226 block7a_bn False\n",
            "227 block7a_activation False\n",
            "228 block7a_se_squeeze True\n",
            "229 block7a_se_reshape True\n",
            "230 block7a_se_reduce True\n",
            "231 block7a_se_expand True\n",
            "232 block7a_se_excite True\n",
            "233 block7a_project_conv True\n",
            "234 block7a_project_bn True\n",
            "235 top_conv True\n",
            "236 top_bn True\n",
            "237 top_activation True\n"
          ]
        }
      ]
    },
    {
      "cell_type": "code",
      "source": [
        "base_model = tf.keras.applications.EfficientNetB0(include_top=False)\n",
        "base_model.trainable = True\n",
        "\n",
        "for layer in base_model.layers[:-10]:\n",
        "  layer.trainable = False\n",
        "\n",
        "inputs = tf.keras.layers.Input(shape = (512, 512, 3))\n",
        "\n",
        "x = data_aug_layer(inputs, training = True)\n",
        "x = base_model(x, training = False)\n",
        "\n",
        "x = GlobalAveragePooling2D()(x)\n",
        "\n",
        "outputs = tf.keras.layers.Dense(4, activation = 'softmax')(x)\n",
        "\n",
        "model2 = tf.keras.Model(inputs = inputs, outputs = outputs)"
      ],
      "metadata": {
        "id": "GQs0BnUv4gwC"
      },
      "execution_count": null,
      "outputs": []
    },
    {
      "cell_type": "code",
      "source": [
        "model2.load_weights(checkpoint_path2)"
      ],
      "metadata": {
        "colab": {
          "base_uri": "https://localhost:8080/"
        },
        "id": "ySzQaQR24jno",
        "outputId": "86206358-c3e3-4243-d9cb-b33bbc4d3e14"
      },
      "execution_count": null,
      "outputs": [
        {
          "output_type": "execute_result",
          "data": {
            "text/plain": [
              "<tensorflow.python.checkpoint.checkpoint.CheckpointLoadStatus at 0x7faae5d78be0>"
            ]
          },
          "metadata": {},
          "execution_count": 112
        }
      ]
    },
    {
      "cell_type": "code",
      "source": [
        "model2.compile(loss=tf.keras.losses.categorical_crossentropy,\n",
        "               optimizer = tf.keras.optimizers.Adam(learning_rate=0.0001), # when fine tuning you typically lower the learning rate by some amount\n",
        "               metrics = ['accuracy'])"
      ],
      "metadata": {
        "id": "0BSLa_BP1ire"
      },
      "execution_count": null,
      "outputs": []
    },
    {
      "cell_type": "code",
      "source": [
        "# fine tune for another 5 epochs\n",
        "fine_tune_epochs = 15 + 15\n",
        "history4 = model2.fit(train_data,\n",
        "                      epochs = fine_tune_epochs,\n",
        "           steps_per_epoch=len(train_data),\n",
        "           validation_data=valid_data,\n",
        "           validation_steps=len(valid_data),\n",
        "           callbacks=[create_tensorboard_callback(\"tensorflow_hub\", \"model4_EfficientNetB0\"),create_checkpoint(\"model4_weights/checkpoints4.cktp\")],\n",
        "           initial_epoch = history2.epoch[-1])"
      ],
      "metadata": {
        "colab": {
          "base_uri": "https://localhost:8080/"
        },
        "id": "3KpEoo-rnRmX",
        "outputId": "84c7b7eb-5e95-47b8-8d55-124bce444d3c"
      },
      "execution_count": null,
      "outputs": [
        {
          "output_type": "stream",
          "name": "stderr",
          "text": [
            "WARNING:tensorflow:Model failed to serialize as JSON. Ignoring... Unable to serialize [2.0896919 2.1128857 2.1081853] to JSON. Unrecognized type <class 'tensorflow.python.framework.ops.EagerTensor'>.\n"
          ]
        },
        {
          "output_type": "stream",
          "name": "stdout",
          "text": [
            "saving TensorBoard log files to : tensorflow_hub/model4_EfficientNetB0\n",
            "Epoch 15/30\n",
            "18/18 [==============================] - ETA: 0s - loss: 1.6233 - accuracy: 0.3117\n",
            "Epoch 15: val_loss improved from inf to 1.39578, saving model to model4_weights/checkpoints4.cktp\n",
            "18/18 [==============================] - 53s 2s/step - loss: 1.6233 - accuracy: 0.3117 - val_loss: 1.3958 - val_accuracy: 0.2313\n",
            "Epoch 16/30\n",
            "18/18 [==============================] - ETA: 0s - loss: 1.3350 - accuracy: 0.3573\n",
            "Epoch 16: val_loss did not improve from 1.39578\n",
            "18/18 [==============================] - 37s 2s/step - loss: 1.3350 - accuracy: 0.3573 - val_loss: 1.4148 - val_accuracy: 0.3375\n",
            "Epoch 17/30\n",
            "18/18 [==============================] - ETA: 0s - loss: 1.3154 - accuracy: 0.3608\n",
            "Epoch 17: val_loss did not improve from 1.39578\n",
            "18/18 [==============================] - 35s 2s/step - loss: 1.3154 - accuracy: 0.3608 - val_loss: 1.4171 - val_accuracy: 0.3063\n",
            "Epoch 18/30\n",
            "18/18 [==============================] - ETA: 0s - loss: 1.2824 - accuracy: 0.4046\n",
            "Epoch 18: val_loss improved from 1.39578 to 1.39508, saving model to model4_weights/checkpoints4.cktp\n",
            "18/18 [==============================] - 37s 2s/step - loss: 1.2824 - accuracy: 0.4046 - val_loss: 1.3951 - val_accuracy: 0.3438\n",
            "Epoch 19/30\n",
            "18/18 [==============================] - ETA: 0s - loss: 1.2152 - accuracy: 0.4571\n",
            "Epoch 19: val_loss improved from 1.39508 to 1.39242, saving model to model4_weights/checkpoints4.cktp\n",
            "18/18 [==============================] - 35s 2s/step - loss: 1.2152 - accuracy: 0.4571 - val_loss: 1.3924 - val_accuracy: 0.3375\n",
            "Epoch 20/30\n",
            "18/18 [==============================] - ETA: 0s - loss: 1.2106 - accuracy: 0.4553\n",
            "Epoch 20: val_loss improved from 1.39242 to 1.37715, saving model to model4_weights/checkpoints4.cktp\n",
            "18/18 [==============================] - 38s 2s/step - loss: 1.2106 - accuracy: 0.4553 - val_loss: 1.3772 - val_accuracy: 0.3750\n",
            "Epoch 21/30\n",
            "18/18 [==============================] - ETA: 0s - loss: 1.1808 - accuracy: 0.4781\n",
            "Epoch 21: val_loss improved from 1.37715 to 1.34398, saving model to model4_weights/checkpoints4.cktp\n",
            "18/18 [==============================] - 40s 2s/step - loss: 1.1808 - accuracy: 0.4781 - val_loss: 1.3440 - val_accuracy: 0.4000\n",
            "Epoch 22/30\n",
            "18/18 [==============================] - ETA: 0s - loss: 1.1616 - accuracy: 0.4501\n",
            "Epoch 22: val_loss did not improve from 1.34398\n",
            "18/18 [==============================] - 36s 2s/step - loss: 1.1616 - accuracy: 0.4501 - val_loss: 1.4363 - val_accuracy: 0.3000\n",
            "Epoch 23/30\n",
            "18/18 [==============================] - ETA: 0s - loss: 1.1480 - accuracy: 0.5061\n",
            "Epoch 23: val_loss did not improve from 1.34398\n",
            "18/18 [==============================] - 30s 2s/step - loss: 1.1480 - accuracy: 0.5061 - val_loss: 1.3665 - val_accuracy: 0.3625\n",
            "Epoch 24/30\n",
            "18/18 [==============================] - ETA: 0s - loss: 1.1232 - accuracy: 0.5166\n",
            "Epoch 24: val_loss improved from 1.34398 to 1.32210, saving model to model4_weights/checkpoints4.cktp\n",
            "18/18 [==============================] - 35s 2s/step - loss: 1.1232 - accuracy: 0.5166 - val_loss: 1.3221 - val_accuracy: 0.3938\n",
            "Epoch 25/30\n",
            "18/18 [==============================] - ETA: 0s - loss: 1.1123 - accuracy: 0.4851\n",
            "Epoch 25: val_loss improved from 1.32210 to 1.26261, saving model to model4_weights/checkpoints4.cktp\n",
            "18/18 [==============================] - 32s 2s/step - loss: 1.1123 - accuracy: 0.4851 - val_loss: 1.2626 - val_accuracy: 0.3812\n",
            "Epoch 26/30\n",
            "18/18 [==============================] - ETA: 0s - loss: 1.0933 - accuracy: 0.4991\n",
            "Epoch 26: val_loss did not improve from 1.26261\n",
            "18/18 [==============================] - 33s 2s/step - loss: 1.0933 - accuracy: 0.4991 - val_loss: 1.2767 - val_accuracy: 0.4062\n",
            "Epoch 27/30\n",
            "18/18 [==============================] - ETA: 0s - loss: 1.0842 - accuracy: 0.5359\n",
            "Epoch 27: val_loss did not improve from 1.26261\n",
            "18/18 [==============================] - 29s 1s/step - loss: 1.0842 - accuracy: 0.5359 - val_loss: 1.3883 - val_accuracy: 0.3750\n",
            "Epoch 28/30\n",
            "18/18 [==============================] - ETA: 0s - loss: 1.1152 - accuracy: 0.5009\n",
            "Epoch 28: val_loss did not improve from 1.26261\n",
            "18/18 [==============================] - 34s 2s/step - loss: 1.1152 - accuracy: 0.5009 - val_loss: 1.3980 - val_accuracy: 0.4000\n",
            "Epoch 29/30\n",
            "18/18 [==============================] - ETA: 0s - loss: 1.0866 - accuracy: 0.5114\n",
            "Epoch 29: val_loss did not improve from 1.26261\n",
            "18/18 [==============================] - 38s 2s/step - loss: 1.0866 - accuracy: 0.5114 - val_loss: 1.2857 - val_accuracy: 0.4125\n",
            "Epoch 30/30\n",
            "18/18 [==============================] - ETA: 0s - loss: 1.0824 - accuracy: 0.5079\n",
            "Epoch 30: val_loss did not improve from 1.26261\n",
            "18/18 [==============================] - 29s 2s/step - loss: 1.0824 - accuracy: 0.5079 - val_loss: 1.3121 - val_accuracy: 0.3750\n"
          ]
        }
      ]
    },
    {
      "cell_type": "code",
      "source": [
        "model2.evaluate(test_data)"
      ],
      "metadata": {
        "colab": {
          "base_uri": "https://localhost:8080/"
        },
        "id": "0QOxzfDltyyj",
        "outputId": "dfb48ad9-43c5-4856-bb82-4f643719fdd8"
      },
      "execution_count": null,
      "outputs": [
        {
          "output_type": "stream",
          "name": "stdout",
          "text": [
            "8/8 [==============================] - 11s 935ms/step - loss: 1.4893 - accuracy: 0.2500\n"
          ]
        },
        {
          "output_type": "execute_result",
          "data": {
            "text/plain": [
              "[1.4893412590026855, 0.25]"
            ]
          },
          "metadata": {},
          "execution_count": 68
        }
      ]
    },
    {
      "cell_type": "code",
      "source": [
        "model2.summary()"
      ],
      "metadata": {
        "colab": {
          "base_uri": "https://localhost:8080/"
        },
        "id": "EAVPuKfet1DC",
        "outputId": "ff1864a1-fdd4-4f10-91be-0ebac8c73064"
      },
      "execution_count": null,
      "outputs": [
        {
          "output_type": "stream",
          "name": "stdout",
          "text": [
            "Model: \"model_7\"\n",
            "_________________________________________________________________\n",
            " Layer (type)                Output Shape              Param #   \n",
            "=================================================================\n",
            " input_16 (InputLayer)       [(None, 512, 512, 3)]     0         \n",
            "                                                                 \n",
            " data_aug_layer (Sequential)  (None, None, None, 3)    0         \n",
            "                                                                 \n",
            " efficientnetb0 (Functional)  (None, None, None, 1280)  4049571  \n",
            "                                                                 \n",
            " global_average_pooling2d_7   (None, 1280)             0         \n",
            " (GlobalAveragePooling2D)                                        \n",
            "                                                                 \n",
            " dense_7 (Dense)             (None, 4)                 5124      \n",
            "                                                                 \n",
            "=================================================================\n",
            "Total params: 4,054,695\n",
            "Trainable params: 898,356\n",
            "Non-trainable params: 3,156,339\n",
            "_________________________________________________________________\n"
          ]
        }
      ]
    },
    {
      "cell_type": "code",
      "source": [
        "plot_loss_curves(history4)"
      ],
      "metadata": {
        "colab": {
          "base_uri": "https://localhost:8080/",
          "height": 927
        },
        "id": "ew2uAtJYt48X",
        "outputId": "5d741b88-b19f-45c5-cefb-1ba122471aa3"
      },
      "execution_count": null,
      "outputs": [
        {
          "output_type": "display_data",
          "data": {
            "text/plain": [
              "<Figure size 640x480 with 1 Axes>"
            ],
            "image/png": "[encoded data removed]"
          },
          "metadata": {}
        },
        {
          "output_type": "display_data",
          "data": {
            "text/plain": [
              "<Figure size 640x480 with 1 Axes>"
            ],
            "image/png": "[encoded data removed]"
          },
          "metadata": {}
        }
      ]
    },
    {
      "cell_type": "markdown",
      "source": [
        "Model 5 - top 20 trainable layers without data augmentation"
      ],
      "metadata": {
        "id": "pr-GRwVUtkjw"
      }
    },
    {
      "cell_type": "code",
      "source": [
        "base_model = tf.keras.applications.EfficientNetB0(include_top=False)\n",
        "base_model.trainable = True\n",
        "\n",
        "# Freeze all layers except for the last 10\n",
        "for layer in base_model.layers[:-20]:\n",
        "  layer.trainable = False\n",
        "\n",
        "inputs = tf.keras.layers.Input(shape=(512, 512, 3))\n",
        "\n",
        "x = base_model(inputs)\n",
        "\n",
        "x = GlobalAveragePooling2D()(x)\n",
        "\n",
        "x = Dense(4, activation = 'softmax')(x)\n",
        "\n",
        "model1 = tf.keras.Model(inputs = inputs, outputs = x)"
      ],
      "metadata": {
        "id": "7JvzohJg3gQX"
      },
      "execution_count": null,
      "outputs": []
    },
    {
      "cell_type": "code",
      "source": [
        "model1.load_weights('model3_weights/checkpoints3.cktp')"
      ],
      "metadata": {
        "colab": {
          "base_uri": "https://localhost:8080/"
        },
        "id": "LF0nVfkg3qny",
        "outputId": "3c1a0c4d-decb-42ca-c0aa-25c9fcac2215"
      },
      "execution_count": null,
      "outputs": [
        {
          "output_type": "execute_result",
          "data": {
            "text/plain": [
              "<tensorflow.python.checkpoint.checkpoint.CheckpointLoadStatus at 0x7fcc300edfa0>"
            ]
          },
          "metadata": {},
          "execution_count": 7
        }
      ]
    },
    {
      "cell_type": "code",
      "source": [
        "model1.compile(loss=tf.keras.losses.categorical_crossentropy,\n",
        "               optimizer = tf.keras.optimizers.Adam(learning_rate=0.0001), # when fine tuning you typically lower the learning rate by some amount\n",
        "               metrics = ['accuracy'])"
      ],
      "metadata": {
        "id": "RM5W7F_51Xoo"
      },
      "execution_count": null,
      "outputs": []
    },
    {
      "cell_type": "code",
      "source": [
        "# fine tune for another 5 epochs\n",
        "fine_tune_epochs = 15 + 15 + 30\n",
        "history5 = model1.fit(train_data,\n",
        "                      epochs = fine_tune_epochs,\n",
        "           steps_per_epoch=len(train_data),\n",
        "           validation_data=valid_data,\n",
        "           validation_steps=len(valid_data),\n",
        "           callbacks=[create_tensorboard_callback(\"tensorflow_hub\", \"model5_EfficientNetB0\"), create_checkpoint(\"model5_weights/checkpoints5.cktp\")],\n",
        "           initial_epoch = 30)"
      ],
      "metadata": {
        "colab": {
          "base_uri": "https://localhost:8080/"
        },
        "id": "G1YBBLdm1Xl8",
        "outputId": "75db5ead-6b09-42df-d2a7-40d9a321e068"
      },
      "execution_count": null,
      "outputs": [
        {
          "output_type": "stream",
          "name": "stderr",
          "text": [
            "WARNING:tensorflow:Model failed to serialize as JSON. Ignoring... Unable to serialize [2.0896919 2.1128857 2.1081853] to JSON. Unrecognized type <class 'tensorflow.python.framework.ops.EagerTensor'>.\n"
          ]
        },
        {
          "output_type": "stream",
          "name": "stdout",
          "text": [
            "saving TensorBoard log files to : tensorflow_hub/model5_EfficientNetB0\n",
            "Epoch 31/60\n",
            "18/18 [==============================] - ETA: 0s - loss: 0.9470 - accuracy: 0.6200\n",
            "Epoch 31: val_loss improved from inf to 1.28148, saving model to model5_weights/checkpoints5.cktp\n",
            "18/18 [==============================] - 38s 852ms/step - loss: 0.9470 - accuracy: 0.6200 - val_loss: 1.2815 - val_accuracy: 0.4812\n",
            "Epoch 32/60\n",
            "18/18 [==============================] - ETA: 0s - loss: 0.8334 - accuracy: 0.6953\n",
            "Epoch 32: val_loss improved from 1.28148 to 1.18424, saving model to model5_weights/checkpoints5.cktp\n",
            "18/18 [==============================] - 14s 621ms/step - loss: 0.8334 - accuracy: 0.6953 - val_loss: 1.1842 - val_accuracy: 0.4688\n",
            "Epoch 33/60\n",
            "18/18 [==============================] - ETA: 0s - loss: 0.7191 - accuracy: 0.7583\n",
            "Epoch 33: val_loss did not improve from 1.18424\n",
            "18/18 [==============================] - 13s 561ms/step - loss: 0.7191 - accuracy: 0.7583 - val_loss: 1.2113 - val_accuracy: 0.4812\n",
            "Epoch 34/60\n",
            "18/18 [==============================] - ETA: 0s - loss: 0.6730 - accuracy: 0.7811\n",
            "Epoch 34: val_loss did not improve from 1.18424\n",
            "18/18 [==============================] - 16s 670ms/step - loss: 0.6730 - accuracy: 0.7811 - val_loss: 1.2994 - val_accuracy: 0.4563\n",
            "Epoch 35/60\n",
            "18/18 [==============================] - ETA: 0s - loss: 0.6136 - accuracy: 0.7898\n",
            "Epoch 35: val_loss did not improve from 1.18424\n",
            "18/18 [==============================] - 14s 604ms/step - loss: 0.6136 - accuracy: 0.7898 - val_loss: 1.1915 - val_accuracy: 0.4875\n",
            "Epoch 36/60\n",
            "18/18 [==============================] - ETA: 0s - loss: 0.5705 - accuracy: 0.8371\n",
            "Epoch 36: val_loss did not improve from 1.18424\n",
            "18/18 [==============================] - 13s 559ms/step - loss: 0.5705 - accuracy: 0.8371 - val_loss: 1.3148 - val_accuracy: 0.4062\n",
            "Epoch 37/60\n",
            "18/18 [==============================] - ETA: 0s - loss: 0.5436 - accuracy: 0.8354\n",
            "Epoch 37: val_loss improved from 1.18424 to 1.17187, saving model to model5_weights/checkpoints5.cktp\n",
            "18/18 [==============================] - 14s 602ms/step - loss: 0.5436 - accuracy: 0.8354 - val_loss: 1.1719 - val_accuracy: 0.5437\n",
            "Epoch 38/60\n",
            "18/18 [==============================] - ETA: 0s - loss: 0.5139 - accuracy: 0.8371\n",
            "Epoch 38: val_loss did not improve from 1.17187\n",
            "18/18 [==============================] - 14s 613ms/step - loss: 0.5139 - accuracy: 0.8371 - val_loss: 1.2784 - val_accuracy: 0.5250\n",
            "Epoch 39/60\n",
            "18/18 [==============================] - ETA: 0s - loss: 0.4731 - accuracy: 0.8704\n",
            "Epoch 39: val_loss did not improve from 1.17187\n",
            "18/18 [==============================] - 14s 604ms/step - loss: 0.4731 - accuracy: 0.8704 - val_loss: 1.3072 - val_accuracy: 0.4250\n",
            "Epoch 40/60\n",
            "18/18 [==============================] - ETA: 0s - loss: 0.4435 - accuracy: 0.8774\n",
            "Epoch 40: val_loss did not improve from 1.17187\n",
            "18/18 [==============================] - 13s 541ms/step - loss: 0.4435 - accuracy: 0.8774 - val_loss: 1.3258 - val_accuracy: 0.4875\n",
            "Epoch 41/60\n",
            "18/18 [==============================] - ETA: 0s - loss: 0.4304 - accuracy: 0.8739\n",
            "Epoch 41: val_loss did not improve from 1.17187\n",
            "18/18 [==============================] - 14s 583ms/step - loss: 0.4304 - accuracy: 0.8739 - val_loss: 1.2368 - val_accuracy: 0.5437\n",
            "Epoch 42/60\n",
            "18/18 [==============================] - ETA: 0s - loss: 0.4014 - accuracy: 0.8897\n",
            "Epoch 42: val_loss did not improve from 1.17187\n",
            "18/18 [==============================] - 14s 574ms/step - loss: 0.4014 - accuracy: 0.8897 - val_loss: 1.2962 - val_accuracy: 0.4875\n",
            "Epoch 43/60\n",
            "18/18 [==============================] - ETA: 0s - loss: 0.3286 - accuracy: 0.9282\n",
            "Epoch 43: val_loss did not improve from 1.17187\n",
            "18/18 [==============================] - 14s 550ms/step - loss: 0.3286 - accuracy: 0.9282 - val_loss: 1.3506 - val_accuracy: 0.5375\n",
            "Epoch 44/60\n",
            "18/18 [==============================] - ETA: 0s - loss: 0.3586 - accuracy: 0.9037\n",
            "Epoch 44: val_loss did not improve from 1.17187\n",
            "18/18 [==============================] - 14s 548ms/step - loss: 0.3586 - accuracy: 0.9037 - val_loss: 1.2199 - val_accuracy: 0.5437\n",
            "Epoch 45/60\n",
            "18/18 [==============================] - ETA: 0s - loss: 0.3218 - accuracy: 0.9405\n",
            "Epoch 45: val_loss did not improve from 1.17187\n",
            "18/18 [==============================] - 14s 606ms/step - loss: 0.3218 - accuracy: 0.9405 - val_loss: 1.3340 - val_accuracy: 0.5188\n",
            "Epoch 46/60\n",
            "18/18 [==============================] - ETA: 0s - loss: 0.2849 - accuracy: 0.9545\n",
            "Epoch 46: val_loss did not improve from 1.17187\n",
            "18/18 [==============================] - 13s 549ms/step - loss: 0.2849 - accuracy: 0.9545 - val_loss: 1.2666 - val_accuracy: 0.5437\n",
            "Epoch 47/60\n",
            "18/18 [==============================] - ETA: 0s - loss: 0.2929 - accuracy: 0.9335\n",
            "Epoch 47: val_loss did not improve from 1.17187\n",
            "18/18 [==============================] - 13s 549ms/step - loss: 0.2929 - accuracy: 0.9335 - val_loss: 1.3002 - val_accuracy: 0.5437\n",
            "Epoch 48/60\n",
            "18/18 [==============================] - ETA: 0s - loss: 0.2873 - accuracy: 0.9247\n",
            "Epoch 48: val_loss did not improve from 1.17187\n",
            "18/18 [==============================] - 13s 578ms/step - loss: 0.2873 - accuracy: 0.9247 - val_loss: 1.3746 - val_accuracy: 0.5688\n",
            "Epoch 49/60\n",
            "18/18 [==============================] - ETA: 0s - loss: 0.2521 - accuracy: 0.9510\n",
            "Epoch 49: val_loss did not improve from 1.17187\n",
            "18/18 [==============================] - 13s 589ms/step - loss: 0.2521 - accuracy: 0.9510 - val_loss: 1.5056 - val_accuracy: 0.5312\n",
            "Epoch 50/60\n",
            "18/18 [==============================] - ETA: 0s - loss: 0.2592 - accuracy: 0.9247\n",
            "Epoch 50: val_loss did not improve from 1.17187\n",
            "18/18 [==============================] - 13s 559ms/step - loss: 0.2592 - accuracy: 0.9247 - val_loss: 1.5287 - val_accuracy: 0.5312\n",
            "Epoch 51/60\n",
            "18/18 [==============================] - ETA: 0s - loss: 0.2250 - accuracy: 0.9510\n",
            "Epoch 51: val_loss did not improve from 1.17187\n",
            "18/18 [==============================] - 13s 554ms/step - loss: 0.2250 - accuracy: 0.9510 - val_loss: 1.3738 - val_accuracy: 0.5500\n",
            "Epoch 52/60\n",
            "18/18 [==============================] - ETA: 0s - loss: 0.2209 - accuracy: 0.9562\n",
            "Epoch 52: val_loss did not improve from 1.17187\n",
            "18/18 [==============================] - 13s 569ms/step - loss: 0.2209 - accuracy: 0.9562 - val_loss: 1.4754 - val_accuracy: 0.5500\n",
            "Epoch 53/60\n",
            "18/18 [==============================] - ETA: 0s - loss: 0.2025 - accuracy: 0.9562\n",
            "Epoch 53: val_loss did not improve from 1.17187\n",
            "18/18 [==============================] - 14s 602ms/step - loss: 0.2025 - accuracy: 0.9562 - val_loss: 1.4787 - val_accuracy: 0.5375\n",
            "Epoch 54/60\n",
            "18/18 [==============================] - ETA: 0s - loss: 0.1893 - accuracy: 0.9597\n",
            "Epoch 54: val_loss did not improve from 1.17187\n",
            "18/18 [==============================] - 14s 537ms/step - loss: 0.1893 - accuracy: 0.9597 - val_loss: 1.5031 - val_accuracy: 0.5375\n",
            "Epoch 55/60\n",
            "18/18 [==============================] - ETA: 0s - loss: 0.2030 - accuracy: 0.9562\n",
            "Epoch 55: val_loss did not improve from 1.17187\n",
            "18/18 [==============================] - 14s 605ms/step - loss: 0.2030 - accuracy: 0.9562 - val_loss: 1.3709 - val_accuracy: 0.5688\n",
            "Epoch 56/60\n",
            "18/18 [==============================] - ETA: 0s - loss: 0.2080 - accuracy: 0.9475\n",
            "Epoch 56: val_loss did not improve from 1.17187\n",
            "18/18 [==============================] - 14s 598ms/step - loss: 0.2080 - accuracy: 0.9475 - val_loss: 1.5488 - val_accuracy: 0.5437\n",
            "Epoch 57/60\n",
            "18/18 [==============================] - ETA: 0s - loss: 0.1887 - accuracy: 0.9510\n",
            "Epoch 57: val_loss did not improve from 1.17187\n",
            "18/18 [==============================] - 14s 588ms/step - loss: 0.1887 - accuracy: 0.9510 - val_loss: 1.3878 - val_accuracy: 0.5312\n",
            "Epoch 58/60\n",
            "18/18 [==============================] - ETA: 0s - loss: 0.1581 - accuracy: 0.9702\n",
            "Epoch 58: val_loss did not improve from 1.17187\n",
            "18/18 [==============================] - 14s 543ms/step - loss: 0.1581 - accuracy: 0.9702 - val_loss: 1.7150 - val_accuracy: 0.5500\n",
            "Epoch 59/60\n",
            "18/18 [==============================] - ETA: 0s - loss: 0.1674 - accuracy: 0.9597\n",
            "Epoch 59: val_loss did not improve from 1.17187\n",
            "18/18 [==============================] - 16s 675ms/step - loss: 0.1674 - accuracy: 0.9597 - val_loss: 1.6201 - val_accuracy: 0.5312\n",
            "Epoch 60/60\n",
            "18/18 [==============================] - ETA: 0s - loss: 0.1381 - accuracy: 0.9755\n",
            "Epoch 60: val_loss did not improve from 1.17187\n",
            "18/18 [==============================] - 13s 550ms/step - loss: 0.1381 - accuracy: 0.9755 - val_loss: 1.5915 - val_accuracy: 0.5437\n"
          ]
        }
      ]
    },
    {
      "cell_type": "code",
      "source": [
        "model1.evaluate(test_data)"
      ],
      "metadata": {
        "colab": {
          "base_uri": "https://localhost:8080/"
        },
        "id": "xBv6Sx3A1Xic",
        "outputId": "cd686e2a-8acb-4154-88f0-47de1055f802"
      },
      "execution_count": null,
      "outputs": [
        {
          "output_type": "stream",
          "name": "stdout",
          "text": [
            "8/8 [==============================] - 7s 423ms/step - loss: 2.4824 - accuracy: 0.2625\n"
          ]
        },
        {
          "output_type": "execute_result",
          "data": {
            "text/plain": [
              "[2.482421875, 0.26249998807907104]"
            ]
          },
          "metadata": {},
          "execution_count": 19
        }
      ]
    },
    {
      "cell_type": "code",
      "source": [
        "model1.summary()"
      ],
      "metadata": {
        "colab": {
          "base_uri": "https://localhost:8080/"
        },
        "id": "a1etA8AA1XcS",
        "outputId": "327c6e97-5a45-41ea-b7b4-feda4da89709"
      },
      "execution_count": null,
      "outputs": [
        {
          "output_type": "stream",
          "name": "stdout",
          "text": [
            "Model: \"model_5\"\n",
            "_________________________________________________________________\n",
            " Layer (type)                Output Shape              Param #   \n",
            "=================================================================\n",
            " input_12 (InputLayer)       [(None, 512, 512, 3)]     0         \n",
            "                                                                 \n",
            " efficientnetb0 (Functional)  (None, None, None, 1280)  4049571  \n",
            "                                                                 \n",
            " global_average_pooling2d_5   (None, 1280)             0         \n",
            " (GlobalAveragePooling2D)                                        \n",
            "                                                                 \n",
            " dense_5 (Dense)             (None, 4)                 5124      \n",
            "                                                                 \n",
            "=================================================================\n",
            "Total params: 4,054,695\n",
            "Trainable params: 1,356,084\n",
            "Non-trainable params: 2,698,611\n",
            "_________________________________________________________________\n"
          ]
        }
      ]
    },
    {
      "cell_type": "code",
      "source": [
        "plot_loss_curves(history5)"
      ],
      "metadata": {
        "colab": {
          "base_uri": "https://localhost:8080/",
          "height": 927
        },
        "id": "zwRliuFT1XYP",
        "outputId": "1ace41ad-6300-4abd-ac9a-251a194be8c1"
      },
      "execution_count": null,
      "outputs": [
        {
          "output_type": "display_data",
          "data": {
            "text/plain": [
              "<Figure size 640x480 with 1 Axes>"
            ],
            "image/png": "[encoded data removed]"
          },
          "metadata": {}
        },
        {
          "output_type": "display_data",
          "data": {
            "text/plain": [
              "<Figure size 640x480 with 1 Axes>"
            ],
            "image/png": "[encoded data removed]"
          },
          "metadata": {}
        }
      ]
    },
    {
      "cell_type": "markdown",
      "source": [
        "## Model 6 - top 20 trainable layers with data augmentation"
      ],
      "metadata": {
        "id": "myZHfTAAvhTl"
      }
    },
    {
      "cell_type": "code",
      "source": [
        "base_model = tf.keras.applications.EfficientNetB0(include_top=False)\n",
        "base_model.trainable = True\n",
        "\n",
        "for layer in base_model.layers[:-20]:\n",
        "  layer.trainable = False\n",
        "\n",
        "inputs = tf.keras.layers.Input(shape = (512, 512, 3))\n",
        "\n",
        "x = data_aug_layer(inputs, training = True)\n",
        "x = base_model(x, training = False)\n",
        "\n",
        "x = GlobalAveragePooling2D()(x)\n",
        "\n",
        "outputs = tf.keras.layers.Dense(4, activation = 'softmax')(x)\n",
        "\n",
        "model2 = tf.keras.Model(inputs = inputs, outputs = outputs)"
      ],
      "metadata": {
        "id": "5lXGwNyIv_mR"
      },
      "execution_count": null,
      "outputs": []
    },
    {
      "cell_type": "code",
      "source": [
        "model2.load_weights(\"model4_weights/checkpoints4.cktp\")"
      ],
      "metadata": {
        "colab": {
          "base_uri": "https://localhost:8080/"
        },
        "id": "6MCtcny58Nlv",
        "outputId": "c830588c-c789-40c9-82cd-5c2ff3cbe4c8"
      },
      "execution_count": null,
      "outputs": [
        {
          "output_type": "execute_result",
          "data": {
            "text/plain": [
              "<tensorflow.python.checkpoint.checkpoint.CheckpointLoadStatus at 0x7fcba94eab80>"
            ]
          },
          "metadata": {},
          "execution_count": 21
        }
      ]
    },
    {
      "cell_type": "code",
      "source": [
        "model2.compile(loss=tf.keras.losses.categorical_crossentropy,\n",
        "               optimizer = tf.keras.optimizers.Adam(learning_rate=0.0001), # when fine tuning you typically lower the learning rate by some amount\n",
        "               metrics = ['accuracy'])"
      ],
      "metadata": {
        "id": "-Xo0qQXK8YNO"
      },
      "execution_count": null,
      "outputs": []
    },
    {
      "cell_type": "code",
      "source": [
        "# fine tune for another 5 epochs\n",
        "fine_tune_epochs = 15 + 15 + 45\n",
        "history6 = model2.fit(train_data,\n",
        "                      epochs = fine_tune_epochs,\n",
        "           steps_per_epoch=len(train_data),\n",
        "           validation_data=valid_data,\n",
        "           validation_steps=len(valid_data),\n",
        "           callbacks=[create_tensorboard_callback(\"tensorflow_hub\", \"model6_EfficientNetB0\"),create_checkpoint(\"model6_weights/checkpoints6.cktp\")],\n",
        "           initial_epoch = 30)"
      ],
      "metadata": {
        "colab": {
          "base_uri": "https://localhost:8080/"
        },
        "id": "Ku4aTdDf9J5f",
        "outputId": "5ffb4e17-7fec-4148-cf58-d19180bd744e"
      },
      "execution_count": null,
      "outputs": [
        {
          "output_type": "stream",
          "name": "stderr",
          "text": [
            "WARNING:tensorflow:Model failed to serialize as JSON. Ignoring... Unable to serialize [2.0896919 2.1128857 2.1081853] to JSON. Unrecognized type <class 'tensorflow.python.framework.ops.EagerTensor'>.\n"
          ]
        },
        {
          "output_type": "stream",
          "name": "stdout",
          "text": [
            "saving TensorBoard log files to : tensorflow_hub/model6_EfficientNetB0\n",
            "Epoch 31/75\n",
            "18/18 [==============================] - ETA: 0s - loss: 1.4720 - accuracy: 0.3117\n",
            "Epoch 31: val_loss improved from inf to 1.42985, saving model to model6_weights/checkpoints6.cktp\n",
            "18/18 [==============================] - 83s 4s/step - loss: 1.4720 - accuracy: 0.3117 - val_loss: 1.4299 - val_accuracy: 0.2500\n",
            "Epoch 32/75\n",
            "18/18 [==============================] - ETA: 0s - loss: 1.3899 - accuracy: 0.2750\n",
            "Epoch 32: val_loss improved from 1.42985 to 1.37370, saving model to model6_weights/checkpoints6.cktp\n",
            "18/18 [==============================] - 50s 3s/step - loss: 1.3899 - accuracy: 0.2750 - val_loss: 1.3737 - val_accuracy: 0.3187\n",
            "Epoch 33/75\n",
            "18/18 [==============================] - ETA: 0s - loss: 1.3442 - accuracy: 0.3433\n",
            "Epoch 33: val_loss did not improve from 1.37370\n",
            "18/18 [==============================] - 52s 3s/step - loss: 1.3442 - accuracy: 0.3433 - val_loss: 1.3915 - val_accuracy: 0.3438\n",
            "Epoch 34/75\n",
            "18/18 [==============================] - ETA: 0s - loss: 1.3282 - accuracy: 0.3222\n",
            "Epoch 34: val_loss did not improve from 1.37370\n",
            "18/18 [==============================] - 48s 3s/step - loss: 1.3282 - accuracy: 0.3222 - val_loss: 1.3815 - val_accuracy: 0.3313\n",
            "Epoch 35/75\n",
            "18/18 [==============================] - ETA: 0s - loss: 1.3151 - accuracy: 0.3398\n",
            "Epoch 35: val_loss improved from 1.37370 to 1.34246, saving model to model6_weights/checkpoints6.cktp\n",
            "18/18 [==============================] - 45s 2s/step - loss: 1.3151 - accuracy: 0.3398 - val_loss: 1.3425 - val_accuracy: 0.3375\n",
            "Epoch 36/75\n",
            "18/18 [==============================] - ETA: 0s - loss: 1.3006 - accuracy: 0.3625\n",
            "Epoch 36: val_loss did not improve from 1.34246\n",
            "18/18 [==============================] - 47s 2s/step - loss: 1.3006 - accuracy: 0.3625 - val_loss: 1.3702 - val_accuracy: 0.3187\n",
            "Epoch 37/75\n",
            "18/18 [==============================] - ETA: 0s - loss: 1.2551 - accuracy: 0.3713\n",
            "Epoch 37: val_loss did not improve from 1.34246\n",
            "18/18 [==============================] - 48s 3s/step - loss: 1.2551 - accuracy: 0.3713 - val_loss: 1.4559 - val_accuracy: 0.2688\n",
            "Epoch 38/75\n",
            "18/18 [==============================] - ETA: 0s - loss: 1.2540 - accuracy: 0.3835\n",
            "Epoch 38: val_loss did not improve from 1.34246\n",
            "18/18 [==============================] - 57s 3s/step - loss: 1.2540 - accuracy: 0.3835 - val_loss: 1.4394 - val_accuracy: 0.2688\n",
            "Epoch 39/75\n",
            "18/18 [==============================] - ETA: 0s - loss: 1.2491 - accuracy: 0.4098\n",
            "Epoch 39: val_loss did not improve from 1.34246\n",
            "18/18 [==============================] - 46s 2s/step - loss: 1.2491 - accuracy: 0.4098 - val_loss: 1.3873 - val_accuracy: 0.2500\n",
            "Epoch 40/75\n",
            "18/18 [==============================] - ETA: 0s - loss: 1.2426 - accuracy: 0.4133\n",
            "Epoch 40: val_loss did not improve from 1.34246\n",
            "18/18 [==============================] - 43s 2s/step - loss: 1.2426 - accuracy: 0.4133 - val_loss: 1.4004 - val_accuracy: 0.3125\n",
            "Epoch 41/75\n",
            "18/18 [==============================] - ETA: 0s - loss: 1.2526 - accuracy: 0.3800\n",
            "Epoch 41: val_loss did not improve from 1.34246\n",
            "18/18 [==============================] - 39s 2s/step - loss: 1.2526 - accuracy: 0.3800 - val_loss: 1.3945 - val_accuracy: 0.2562\n",
            "Epoch 42/75\n",
            "18/18 [==============================] - ETA: 0s - loss: 1.2413 - accuracy: 0.3818\n",
            "Epoch 42: val_loss improved from 1.34246 to 1.33302, saving model to model6_weights/checkpoints6.cktp\n",
            "18/18 [==============================] - 42s 2s/step - loss: 1.2413 - accuracy: 0.3818 - val_loss: 1.3330 - val_accuracy: 0.2812\n",
            "Epoch 43/75\n",
            "18/18 [==============================] - ETA: 0s - loss: 1.2149 - accuracy: 0.4151\n",
            "Epoch 43: val_loss did not improve from 1.33302\n",
            "18/18 [==============================] - 42s 2s/step - loss: 1.2149 - accuracy: 0.4151 - val_loss: 1.4548 - val_accuracy: 0.2875\n",
            "Epoch 44/75\n",
            "18/18 [==============================] - ETA: 0s - loss: 1.2253 - accuracy: 0.4063\n",
            "Epoch 44: val_loss did not improve from 1.33302\n",
            "18/18 [==============================] - 42s 2s/step - loss: 1.2253 - accuracy: 0.4063 - val_loss: 1.4890 - val_accuracy: 0.2625\n",
            "Epoch 45/75\n",
            "18/18 [==============================] - ETA: 0s - loss: 1.2363 - accuracy: 0.4151\n",
            "Epoch 45: val_loss did not improve from 1.33302\n",
            "18/18 [==============================] - 39s 2s/step - loss: 1.2363 - accuracy: 0.4151 - val_loss: 1.4753 - val_accuracy: 0.3000\n",
            "Epoch 46/75\n",
            "18/18 [==============================] - ETA: 0s - loss: 1.2098 - accuracy: 0.4378\n",
            "Epoch 46: val_loss did not improve from 1.33302\n",
            "18/18 [==============================] - 38s 2s/step - loss: 1.2098 - accuracy: 0.4378 - val_loss: 1.3775 - val_accuracy: 0.3750\n",
            "Epoch 47/75\n",
            "18/18 [==============================] - ETA: 0s - loss: 1.1743 - accuracy: 0.4483\n",
            "Epoch 47: val_loss did not improve from 1.33302\n",
            "18/18 [==============================] - 38s 2s/step - loss: 1.1743 - accuracy: 0.4483 - val_loss: 1.4064 - val_accuracy: 0.3313\n",
            "Epoch 48/75\n",
            "18/18 [==============================] - ETA: 0s - loss: 1.1866 - accuracy: 0.4466\n",
            "Epoch 48: val_loss did not improve from 1.33302\n",
            "18/18 [==============================] - 39s 2s/step - loss: 1.1866 - accuracy: 0.4466 - val_loss: 1.4609 - val_accuracy: 0.3187\n",
            "Epoch 49/75\n",
            "18/18 [==============================] - ETA: 0s - loss: 1.2030 - accuracy: 0.4518\n",
            "Epoch 49: val_loss did not improve from 1.33302\n",
            "18/18 [==============================] - 41s 2s/step - loss: 1.2030 - accuracy: 0.4518 - val_loss: 1.3729 - val_accuracy: 0.3000\n",
            "Epoch 50/75\n",
            "18/18 [==============================] - ETA: 0s - loss: 1.1941 - accuracy: 0.4571\n",
            "Epoch 50: val_loss did not improve from 1.33302\n",
            "18/18 [==============================] - 41s 2s/step - loss: 1.1941 - accuracy: 0.4571 - val_loss: 1.3692 - val_accuracy: 0.3187\n",
            "Epoch 51/75\n",
            "18/18 [==============================] - ETA: 0s - loss: 1.1729 - accuracy: 0.4729\n",
            "Epoch 51: val_loss did not improve from 1.33302\n",
            "18/18 [==============================] - 39s 2s/step - loss: 1.1729 - accuracy: 0.4729 - val_loss: 1.4222 - val_accuracy: 0.4000\n",
            "Epoch 52/75\n",
            "18/18 [==============================] - ETA: 0s - loss: 1.1647 - accuracy: 0.4641\n",
            "Epoch 52: val_loss did not improve from 1.33302\n",
            "18/18 [==============================] - 39s 2s/step - loss: 1.1647 - accuracy: 0.4641 - val_loss: 1.3638 - val_accuracy: 0.3938\n",
            "Epoch 53/75\n",
            "18/18 [==============================] - ETA: 0s - loss: 1.1228 - accuracy: 0.4921\n",
            "Epoch 53: val_loss did not improve from 1.33302\n",
            "18/18 [==============================] - 41s 2s/step - loss: 1.1228 - accuracy: 0.4921 - val_loss: 1.3988 - val_accuracy: 0.3812\n",
            "Epoch 54/75\n",
            "18/18 [==============================] - ETA: 0s - loss: 1.1576 - accuracy: 0.4869\n",
            "Epoch 54: val_loss did not improve from 1.33302\n",
            "18/18 [==============================] - 38s 2s/step - loss: 1.1576 - accuracy: 0.4869 - val_loss: 1.3512 - val_accuracy: 0.3500\n",
            "Epoch 55/75\n",
            "18/18 [==============================] - ETA: 0s - loss: 1.1834 - accuracy: 0.4343\n",
            "Epoch 55: val_loss did not improve from 1.33302\n",
            "18/18 [==============================] - 35s 2s/step - loss: 1.1834 - accuracy: 0.4343 - val_loss: 1.3351 - val_accuracy: 0.3187\n",
            "Epoch 56/75\n",
            "18/18 [==============================] - ETA: 0s - loss: 1.1064 - accuracy: 0.5131\n",
            "Epoch 56: val_loss did not improve from 1.33302\n",
            "18/18 [==============================] - 38s 2s/step - loss: 1.1064 - accuracy: 0.5131 - val_loss: 1.3851 - val_accuracy: 0.3750\n",
            "Epoch 57/75\n",
            "18/18 [==============================] - ETA: 0s - loss: 1.1333 - accuracy: 0.4904\n",
            "Epoch 57: val_loss improved from 1.33302 to 1.27122, saving model to model6_weights/checkpoints6.cktp\n",
            "18/18 [==============================] - 37s 2s/step - loss: 1.1333 - accuracy: 0.4904 - val_loss: 1.2712 - val_accuracy: 0.4000\n",
            "Epoch 58/75\n",
            "18/18 [==============================] - ETA: 0s - loss: 1.0637 - accuracy: 0.5236\n",
            "Epoch 58: val_loss did not improve from 1.27122\n",
            "18/18 [==============================] - 36s 2s/step - loss: 1.0637 - accuracy: 0.5236 - val_loss: 1.2778 - val_accuracy: 0.4437\n",
            "Epoch 59/75\n",
            "18/18 [==============================] - ETA: 0s - loss: 1.0624 - accuracy: 0.5096\n",
            "Epoch 59: val_loss did not improve from 1.27122\n",
            "18/18 [==============================] - 33s 2s/step - loss: 1.0624 - accuracy: 0.5096 - val_loss: 1.2758 - val_accuracy: 0.4563\n",
            "Epoch 60/75\n",
            "18/18 [==============================] - ETA: 0s - loss: 1.0624 - accuracy: 0.5289\n",
            "Epoch 60: val_loss did not improve from 1.27122\n",
            "18/18 [==============================] - 35s 2s/step - loss: 1.0624 - accuracy: 0.5289 - val_loss: 1.2895 - val_accuracy: 0.3750\n",
            "Epoch 61/75\n",
            "18/18 [==============================] - ETA: 0s - loss: 1.1105 - accuracy: 0.4764\n",
            "Epoch 61: val_loss did not improve from 1.27122\n",
            "18/18 [==============================] - 36s 2s/step - loss: 1.1105 - accuracy: 0.4764 - val_loss: 1.3367 - val_accuracy: 0.3625\n",
            "Epoch 62/75\n",
            "18/18 [==============================] - ETA: 0s - loss: 1.0275 - accuracy: 0.5412\n",
            "Epoch 62: val_loss did not improve from 1.27122\n",
            "18/18 [==============================] - 32s 2s/step - loss: 1.0275 - accuracy: 0.5412 - val_loss: 1.3657 - val_accuracy: 0.3750\n",
            "Epoch 63/75\n",
            "18/18 [==============================] - ETA: 0s - loss: 1.1171 - accuracy: 0.5061\n",
            "Epoch 63: val_loss improved from 1.27122 to 1.19765, saving model to model6_weights/checkpoints6.cktp\n",
            "18/18 [==============================] - 38s 2s/step - loss: 1.1171 - accuracy: 0.5061 - val_loss: 1.1976 - val_accuracy: 0.4313\n",
            "Epoch 64/75\n",
            "18/18 [==============================] - ETA: 0s - loss: 1.0694 - accuracy: 0.5166\n",
            "Epoch 64: val_loss did not improve from 1.19765\n",
            "18/18 [==============================] - 34s 2s/step - loss: 1.0694 - accuracy: 0.5166 - val_loss: 1.3158 - val_accuracy: 0.3688\n",
            "Epoch 65/75\n",
            "18/18 [==============================] - ETA: 0s - loss: 1.0335 - accuracy: 0.5517\n",
            "Epoch 65: val_loss did not improve from 1.19765\n",
            "18/18 [==============================] - 37s 2s/step - loss: 1.0335 - accuracy: 0.5517 - val_loss: 1.3155 - val_accuracy: 0.4000\n",
            "Epoch 66/75\n",
            "18/18 [==============================] - ETA: 0s - loss: 0.9911 - accuracy: 0.5709\n",
            "Epoch 66: val_loss did not improve from 1.19765\n",
            "18/18 [==============================] - 33s 2s/step - loss: 0.9911 - accuracy: 0.5709 - val_loss: 1.3206 - val_accuracy: 0.4313\n",
            "Epoch 67/75\n",
            "18/18 [==============================] - ETA: 0s - loss: 0.9976 - accuracy: 0.5622\n",
            "Epoch 67: val_loss did not improve from 1.19765\n",
            "18/18 [==============================] - 38s 2s/step - loss: 0.9976 - accuracy: 0.5622 - val_loss: 1.2307 - val_accuracy: 0.4062\n",
            "Epoch 68/75\n",
            "18/18 [==============================] - ETA: 0s - loss: 1.0438 - accuracy: 0.5569\n",
            "Epoch 68: val_loss did not improve from 1.19765\n",
            "18/18 [==============================] - 34s 2s/step - loss: 1.0438 - accuracy: 0.5569 - val_loss: 1.2977 - val_accuracy: 0.4437\n",
            "Epoch 69/75\n",
            "18/18 [==============================] - ETA: 0s - loss: 0.9925 - accuracy: 0.5429\n",
            "Epoch 69: val_loss did not improve from 1.19765\n",
            "18/18 [==============================] - 37s 2s/step - loss: 0.9925 - accuracy: 0.5429 - val_loss: 1.3732 - val_accuracy: 0.4062\n",
            "Epoch 70/75\n",
            "18/18 [==============================] - ETA: 0s - loss: 0.9713 - accuracy: 0.5587\n",
            "Epoch 70: val_loss did not improve from 1.19765\n",
            "18/18 [==============================] - 31s 2s/step - loss: 0.9713 - accuracy: 0.5587 - val_loss: 1.3318 - val_accuracy: 0.4625\n",
            "Epoch 71/75\n",
            "18/18 [==============================] - ETA: 0s - loss: 0.9564 - accuracy: 0.5744\n",
            "Epoch 71: val_loss did not improve from 1.19765\n",
            "18/18 [==============================] - 36s 2s/step - loss: 0.9564 - accuracy: 0.5744 - val_loss: 1.2190 - val_accuracy: 0.4000\n",
            "Epoch 72/75\n",
            "18/18 [==============================] - ETA: 0s - loss: 0.9192 - accuracy: 0.5884\n",
            "Epoch 72: val_loss did not improve from 1.19765\n",
            "18/18 [==============================] - 32s 2s/step - loss: 0.9192 - accuracy: 0.5884 - val_loss: 1.3764 - val_accuracy: 0.3938\n",
            "Epoch 73/75\n",
            "18/18 [==============================] - ETA: 0s - loss: 0.9088 - accuracy: 0.6112\n",
            "Epoch 73: val_loss did not improve from 1.19765\n",
            "18/18 [==============================] - 35s 2s/step - loss: 0.9088 - accuracy: 0.6112 - val_loss: 1.3574 - val_accuracy: 0.4563\n",
            "Epoch 74/75\n",
            "18/18 [==============================] - ETA: 0s - loss: 0.9157 - accuracy: 0.6112\n",
            "Epoch 74: val_loss did not improve from 1.19765\n",
            "18/18 [==============================] - 35s 2s/step - loss: 0.9157 - accuracy: 0.6112 - val_loss: 1.2568 - val_accuracy: 0.4313\n",
            "Epoch 75/75\n",
            "18/18 [==============================] - ETA: 0s - loss: 0.9327 - accuracy: 0.5814\n",
            "Epoch 75: val_loss did not improve from 1.19765\n",
            "18/18 [==============================] - 33s 2s/step - loss: 0.9327 - accuracy: 0.5814 - val_loss: 1.3839 - val_accuracy: 0.4375\n"
          ]
        }
      ]
    },
    {
      "cell_type": "code",
      "source": [
        "model2.summary()"
      ],
      "metadata": {
        "colab": {
          "base_uri": "https://localhost:8080/"
        },
        "id": "dRY-Fint9gyL",
        "outputId": "f5f0f8b4-15b7-4b3d-afbf-43f4984cca6d"
      },
      "execution_count": null,
      "outputs": [
        {
          "output_type": "stream",
          "name": "stdout",
          "text": [
            "Model: \"model_8\"\n",
            "_________________________________________________________________\n",
            " Layer (type)                Output Shape              Param #   \n",
            "=================================================================\n",
            " input_18 (InputLayer)       [(None, 512, 512, 3)]     0         \n",
            "                                                                 \n",
            " data_aug_layer (Sequential)  (None, None, None, 3)    0         \n",
            "                                                                 \n",
            " efficientnetb0 (Functional)  (None, None, None, 1280)  4049571  \n",
            "                                                                 \n",
            " global_average_pooling2d_8   (None, 1280)             0         \n",
            " (GlobalAveragePooling2D)                                        \n",
            "                                                                 \n",
            " dense_8 (Dense)             (None, 4)                 5124      \n",
            "                                                                 \n",
            "=================================================================\n",
            "Total params: 4,054,695\n",
            "Trainable params: 1,356,084\n",
            "Non-trainable params: 2,698,611\n",
            "_________________________________________________________________\n"
          ]
        }
      ]
    },
    {
      "cell_type": "code",
      "source": [],
      "metadata": {
        "id": "8pHGEUaJ9i8z"
      },
      "execution_count": null,
      "outputs": []
    }
  ]
}