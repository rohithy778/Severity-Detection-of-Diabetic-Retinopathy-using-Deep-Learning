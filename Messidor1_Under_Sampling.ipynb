{
  "nbformat": 4,
  "nbformat_minor": 0,
  "metadata": {
    "colab": {
      "provenance": [],
      "gpuClass": "premium"
    },
    "kernelspec": {
      "name": "python3",
      "display_name": "Python 3"
    },
    "language_info": {
      "name": "python"
    },
    "gpuClass": "premium"
  },
  "cells": [
    {
      "cell_type": "code",
      "execution_count": null,
      "metadata": {
        "colab": {
          "base_uri": "https://localhost:8080/"
        },
        "id": "KKOdboeuKhAj",
        "outputId": "9960445d-a192-4bee-9f63-33c6a876c7e6"
      },
      "outputs": [
        {
          "output_type": "stream",
          "name": "stdout",
          "text": [
            "/usr/local/lib/python3.9/dist-packages/gdown/cli.py:121: FutureWarning: Option `--id` was deprecated in version 4.3.1 and will be removed in 5.0. You don't need to pass it anymore to use a file ID.\n",
            "  warnings.warn(\n",
            "Downloading...\n",
            "From: https://drive.google.com/uc?id=1ZkAd2URfLRUrXEQ2mres4me8Rw5hsuOm\n",
            "To: /content/messidor.zip\n",
            "100% 550M/550M [00:03<00:00, 142MB/s]\n"
          ]
        }
      ],
      "source": [
        "! gdown --id 1ZkAd2URfLRUrXEQ2mres4me8Rw5hsuOm"
      ]
    },
    {
      "cell_type": "code",
      "source": [
        "from zipfile import ZipFile\n",
        "file_name = \"/content/messidor.zip\"\n",
        "\n",
        "with ZipFile(file_name,'r') as openZip:\n",
        "  openZip.extractall()\n",
        "  print('Done')"
      ],
      "metadata": {
        "colab": {
          "base_uri": "https://localhost:8080/"
        },
        "id": "77NsdnJfKvLQ",
        "outputId": "b41d32c3-3b9a-4012-f686-7bc91a1d6d36"
      },
      "execution_count": null,
      "outputs": [
        {
          "output_type": "stream",
          "name": "stdout",
          "text": [
            "Done\n"
          ]
        }
      ]
    },
    {
      "cell_type": "code",
      "source": [
        "import tensorflow as tf\n",
        "import pandas as pd\n",
        "import matplotlib.pyplot as plt"
      ],
      "metadata": {
        "id": "7QR_IMpRK3OL"
      },
      "execution_count": null,
      "outputs": []
    },
    {
      "cell_type": "code",
      "source": [
        "from tensorflow.keras.preprocessing.image import ImageDataGenerator\n",
        "\n",
        "tf.random.set_seed(42)\n",
        "\n",
        "train_datagen = ImageDataGenerator()\n",
        "valid_datagen = ImageDataGenerator()\n",
        "test_datagen = ImageDataGenerator()\n",
        "\n",
        "train_data = train_datagen.flow_from_directory(directory = '/content/messidor/train_data',\n",
        "                                                  batch_size = 32,\n",
        "                                                  target_size = (512, 512),\n",
        "                                                  class_mode = 'categorical',\n",
        "                                                  seed = 42)\n",
        "\n",
        "valid_data = valid_datagen.flow_from_directory(directory = '/content/messidor/validation_data',\n",
        "                                                 batch_size = 32,\n",
        "                                                 target_size = (512, 512),\n",
        "                                                 class_mode = 'categorical',\n",
        "                                                 seed = 42)\n",
        "\n",
        "test_data = test_datagen.flow_from_directory(directory = '/content/messidor/test_data',\n",
        "                                                classes=['0','1', '2', '3'],\n",
        "                                                 batch_size = 32,\n",
        "                                                 target_size = (512, 512),\n",
        "                                                 class_mode = 'categorical',\n",
        "                                                 seed = 42)"
      ],
      "metadata": {
        "colab": {
          "base_uri": "https://localhost:8080/"
        },
        "id": "5884kD1wKxu_",
        "outputId": "0468ed03-174c-4d9b-8522-b86616013842"
      },
      "execution_count": null,
      "outputs": [
        {
          "output_type": "stream",
          "name": "stdout",
          "text": [
            "Found 1613 images belonging to 4 classes.\n",
            "Found 160 images belonging to 4 classes.\n",
            "Found 240 images belonging to 4 classes.\n"
          ]
        }
      ]
    },
    {
      "cell_type": "code",
      "source": [
        "import tensorflow_hub as hub\n",
        "from tensorflow.keras import layers"
      ],
      "metadata": {
        "id": "W_KVY9s5Kxsg"
      },
      "execution_count": null,
      "outputs": []
    },
    {
      "cell_type": "code",
      "source": [
        "# create tensorboard callback\n",
        "\n",
        "import datetime\n",
        "\n",
        "def create_tensorboard_callback(dir_name, experiment_name):\n",
        "  log_dir = dir_name + \"/\" + experiment_name + \"/\" + datetime.datetime.now().strftime(\"%Y%m%d-%H%M\")\n",
        "  tensorboard_callbacks = tf.keras.callbacks.TensorBoard(log_dir= log_dir)\n",
        "  return tensorboard_callbacks"
      ],
      "metadata": {
        "id": "jlcdQYibLFGE"
      },
      "execution_count": null,
      "outputs": []
    },
    {
      "cell_type": "code",
      "source": [],
      "metadata": {
        "id": "TA54B91CPcWn"
      },
      "execution_count": null,
      "outputs": []
    },
    {
      "cell_type": "code",
      "source": [
        "def create_model(model_url, num_classes = 4):\n",
        "  '''\n",
        "  Takes a Tensorflow hub urla nd creates a keras Sequential model with it\n",
        "\n",
        "  Args:\n",
        "    model_url(str): A tensorflow hub feature extraction URL.\n",
        "    num_classes (int): Number of output neuraons in the output layer,\n",
        "      should be equal to Number of target classes, default 10.\n",
        "\n",
        "  Return:\n",
        "     An uncompiled Keras Sequentail model with model_url as feature extractor\n",
        "     layer and Dense output layer with num_classes output neurons.\n",
        "  '''\n",
        "  feature_extractor_layer = hub.KerasLayer(model_url,\n",
        "                                          trainable = False,\n",
        "                                          name = 'feature_extration_layer',\n",
        "                                          input_shape = (512, 512, 3)) # Freeze the already learned patterns\n",
        "\n",
        "  model = tf.keras.Sequential([\n",
        "      feature_extractor_layer,\n",
        "      layers.Dense(num_classes, activation = 'softmax', name = 'output_layer')\n",
        "  ])\n",
        "\n",
        "  return model"
      ],
      "metadata": {
        "id": "mFFgwZY6Kxpt"
      },
      "execution_count": null,
      "outputs": []
    },
    {
      "cell_type": "code",
      "source": [
        "resenet_url = \"https://tfhub.dev/google/imagenet/resnet_v1_50/feature_vector/5\"\n",
        "resnet = create_model(resenet_url,\n",
        "                      num_classes=4)"
      ],
      "metadata": {
        "id": "HtKL6J7jKxm6"
      },
      "execution_count": null,
      "outputs": []
    },
    {
      "cell_type": "code",
      "source": [
        "resnet.compile(loss = tf.keras.losses.categorical_crossentropy,\n",
        "               optimizer = tf.keras.optimizers.Adam(),\n",
        "               metrics = ['accuracy'])"
      ],
      "metadata": {
        "id": "vdA2mHH_LasL"
      },
      "execution_count": null,
      "outputs": []
    },
    {
      "cell_type": "code",
      "source": [
        "from keras import callbacks\n",
        "resnet.fit(train_data,\n",
        "           steps_per_epoch=len(train_data),\n",
        "           callbacks = create_tensorboard_callback(\"/content/tensoflow_callbacks\", \"resnet_10_percent\"),\n",
        "           validation_data=test_data,\n",
        "           epochs=5)"
      ],
      "metadata": {
        "colab": {
          "base_uri": "https://localhost:8080/",
          "height": 487
        },
        "id": "OdRKASenKxkb",
        "outputId": "331f77ee-90e3-4862-a9c7-4f1c4059beaf"
      },
      "execution_count": null,
      "outputs": [
        {
          "output_type": "stream",
          "name": "stdout",
          "text": [
            "Epoch 1/5\n",
            "51/51 [==============================] - 101s 2s/step - loss: 103.8158 - accuracy: 0.2455 - val_loss: 11.7266 - val_accuracy: 0.2958\n",
            "Epoch 2/5\n",
            "29/51 [================>.............] - ETA: 34s - loss: 27.8446 - accuracy: 0.2420"
          ]
        },
        {
          "output_type": "error",
          "ename": "KeyboardInterrupt",
          "evalue": "ignored",
          "traceback": [
            "\u001b[0;31m---------------------------------------------------------------------------\u001b[0m",
            "\u001b[0;31mKeyboardInterrupt\u001b[0m                         Traceback (most recent call last)",
            "\u001b[0;32m<ipython-input-12-550602e940b9>\u001b[0m in \u001b[0;36m<cell line: 2>\u001b[0;34m()\u001b[0m\n\u001b[1;32m      1\u001b[0m \u001b[0;32mfrom\u001b[0m \u001b[0mkeras\u001b[0m \u001b[0;32mimport\u001b[0m \u001b[0mcallbacks\u001b[0m\u001b[0;34m\u001b[0m\u001b[0;34m\u001b[0m\u001b[0m\n\u001b[0;32m----> 2\u001b[0;31m resnet.fit(train_data,\n\u001b[0m\u001b[1;32m      3\u001b[0m            \u001b[0msteps_per_epoch\u001b[0m\u001b[0;34m=\u001b[0m\u001b[0mlen\u001b[0m\u001b[0;34m(\u001b[0m\u001b[0mtrain_data\u001b[0m\u001b[0;34m)\u001b[0m\u001b[0;34m,\u001b[0m\u001b[0;34m\u001b[0m\u001b[0;34m\u001b[0m\u001b[0m\n\u001b[1;32m      4\u001b[0m            \u001b[0mcallbacks\u001b[0m \u001b[0;34m=\u001b[0m \u001b[0mcreate_tensorboard_callback\u001b[0m\u001b[0;34m(\u001b[0m\u001b[0;34m\"/content/tensoflow_callbacks\"\u001b[0m\u001b[0;34m,\u001b[0m \u001b[0;34m\"resnet_10_percent\"\u001b[0m\u001b[0;34m)\u001b[0m\u001b[0;34m,\u001b[0m\u001b[0;34m\u001b[0m\u001b[0;34m\u001b[0m\u001b[0m\n\u001b[1;32m      5\u001b[0m            \u001b[0mvalidation_data\u001b[0m\u001b[0;34m=\u001b[0m\u001b[0mtest_data\u001b[0m\u001b[0;34m,\u001b[0m\u001b[0;34m\u001b[0m\u001b[0;34m\u001b[0m\u001b[0m\n",
            "\u001b[0;32m/usr/local/lib/python3.9/dist-packages/keras/utils/traceback_utils.py\u001b[0m in \u001b[0;36merror_handler\u001b[0;34m(*args, **kwargs)\u001b[0m\n\u001b[1;32m     63\u001b[0m         \u001b[0mfiltered_tb\u001b[0m \u001b[0;34m=\u001b[0m \u001b[0;32mNone\u001b[0m\u001b[0;34m\u001b[0m\u001b[0;34m\u001b[0m\u001b[0m\n\u001b[1;32m     64\u001b[0m         \u001b[0;32mtry\u001b[0m\u001b[0;34m:\u001b[0m\u001b[0;34m\u001b[0m\u001b[0;34m\u001b[0m\u001b[0m\n\u001b[0;32m---> 65\u001b[0;31m             \u001b[0;32mreturn\u001b[0m \u001b[0mfn\u001b[0m\u001b[0;34m(\u001b[0m\u001b[0;34m*\u001b[0m\u001b[0margs\u001b[0m\u001b[0;34m,\u001b[0m \u001b[0;34m**\u001b[0m\u001b[0mkwargs\u001b[0m\u001b[0;34m)\u001b[0m\u001b[0;34m\u001b[0m\u001b[0;34m\u001b[0m\u001b[0m\n\u001b[0m\u001b[1;32m     66\u001b[0m         \u001b[0;32mexcept\u001b[0m \u001b[0mException\u001b[0m \u001b[0;32mas\u001b[0m \u001b[0me\u001b[0m\u001b[0;34m:\u001b[0m\u001b[0;34m\u001b[0m\u001b[0;34m\u001b[0m\u001b[0m\n\u001b[1;32m     67\u001b[0m             \u001b[0mfiltered_tb\u001b[0m \u001b[0;34m=\u001b[0m \u001b[0m_process_traceback_frames\u001b[0m\u001b[0;34m(\u001b[0m\u001b[0me\u001b[0m\u001b[0;34m.\u001b[0m\u001b[0m__traceback__\u001b[0m\u001b[0;34m)\u001b[0m\u001b[0;34m\u001b[0m\u001b[0;34m\u001b[0m\u001b[0m\n",
            "\u001b[0;32m/usr/local/lib/python3.9/dist-packages/keras/engine/training.py\u001b[0m in \u001b[0;36mfit\u001b[0;34m(self, x, y, batch_size, epochs, verbose, callbacks, validation_split, validation_data, shuffle, class_weight, sample_weight, initial_epoch, steps_per_epoch, validation_steps, validation_batch_size, validation_freq, max_queue_size, workers, use_multiprocessing)\u001b[0m\n\u001b[1;32m   1683\u001b[0m                         ):\n\u001b[1;32m   1684\u001b[0m                             \u001b[0mcallbacks\u001b[0m\u001b[0;34m.\u001b[0m\u001b[0mon_train_batch_begin\u001b[0m\u001b[0;34m(\u001b[0m\u001b[0mstep\u001b[0m\u001b[0;34m)\u001b[0m\u001b[0;34m\u001b[0m\u001b[0;34m\u001b[0m\u001b[0m\n\u001b[0;32m-> 1685\u001b[0;31m                             \u001b[0mtmp_logs\u001b[0m \u001b[0;34m=\u001b[0m \u001b[0mself\u001b[0m\u001b[0;34m.\u001b[0m\u001b[0mtrain_function\u001b[0m\u001b[0;34m(\u001b[0m\u001b[0miterator\u001b[0m\u001b[0;34m)\u001b[0m\u001b[0;34m\u001b[0m\u001b[0;34m\u001b[0m\u001b[0m\n\u001b[0m\u001b[1;32m   1686\u001b[0m                             \u001b[0;32mif\u001b[0m \u001b[0mdata_handler\u001b[0m\u001b[0;34m.\u001b[0m\u001b[0mshould_sync\u001b[0m\u001b[0;34m:\u001b[0m\u001b[0;34m\u001b[0m\u001b[0;34m\u001b[0m\u001b[0m\n\u001b[1;32m   1687\u001b[0m                                 \u001b[0mcontext\u001b[0m\u001b[0;34m.\u001b[0m\u001b[0masync_wait\u001b[0m\u001b[0;34m(\u001b[0m\u001b[0;34m)\u001b[0m\u001b[0;34m\u001b[0m\u001b[0;34m\u001b[0m\u001b[0m\n",
            "\u001b[0;32m/usr/local/lib/python3.9/dist-packages/tensorflow/python/util/traceback_utils.py\u001b[0m in \u001b[0;36merror_handler\u001b[0;34m(*args, **kwargs)\u001b[0m\n\u001b[1;32m    148\u001b[0m     \u001b[0mfiltered_tb\u001b[0m \u001b[0;34m=\u001b[0m \u001b[0;32mNone\u001b[0m\u001b[0;34m\u001b[0m\u001b[0;34m\u001b[0m\u001b[0m\n\u001b[1;32m    149\u001b[0m     \u001b[0;32mtry\u001b[0m\u001b[0;34m:\u001b[0m\u001b[0;34m\u001b[0m\u001b[0;34m\u001b[0m\u001b[0m\n\u001b[0;32m--> 150\u001b[0;31m       \u001b[0;32mreturn\u001b[0m \u001b[0mfn\u001b[0m\u001b[0;34m(\u001b[0m\u001b[0;34m*\u001b[0m\u001b[0margs\u001b[0m\u001b[0;34m,\u001b[0m \u001b[0;34m**\u001b[0m\u001b[0mkwargs\u001b[0m\u001b[0;34m)\u001b[0m\u001b[0;34m\u001b[0m\u001b[0;34m\u001b[0m\u001b[0m\n\u001b[0m\u001b[1;32m    151\u001b[0m     \u001b[0;32mexcept\u001b[0m \u001b[0mException\u001b[0m \u001b[0;32mas\u001b[0m \u001b[0me\u001b[0m\u001b[0;34m:\u001b[0m\u001b[0;34m\u001b[0m\u001b[0;34m\u001b[0m\u001b[0m\n\u001b[1;32m    152\u001b[0m       \u001b[0mfiltered_tb\u001b[0m \u001b[0;34m=\u001b[0m \u001b[0m_process_traceback_frames\u001b[0m\u001b[0;34m(\u001b[0m\u001b[0me\u001b[0m\u001b[0;34m.\u001b[0m\u001b[0m__traceback__\u001b[0m\u001b[0;34m)\u001b[0m\u001b[0;34m\u001b[0m\u001b[0;34m\u001b[0m\u001b[0m\n",
            "\u001b[0;32m/usr/local/lib/python3.9/dist-packages/tensorflow/python/eager/polymorphic_function/polymorphic_function.py\u001b[0m in \u001b[0;36m__call__\u001b[0;34m(self, *args, **kwds)\u001b[0m\n\u001b[1;32m    892\u001b[0m \u001b[0;34m\u001b[0m\u001b[0m\n\u001b[1;32m    893\u001b[0m       \u001b[0;32mwith\u001b[0m \u001b[0mOptionalXlaContext\u001b[0m\u001b[0;34m(\u001b[0m\u001b[0mself\u001b[0m\u001b[0;34m.\u001b[0m\u001b[0m_jit_compile\u001b[0m\u001b[0;34m)\u001b[0m\u001b[0;34m:\u001b[0m\u001b[0;34m\u001b[0m\u001b[0;34m\u001b[0m\u001b[0m\n\u001b[0;32m--> 894\u001b[0;31m         \u001b[0mresult\u001b[0m \u001b[0;34m=\u001b[0m \u001b[0mself\u001b[0m\u001b[0;34m.\u001b[0m\u001b[0m_call\u001b[0m\u001b[0;34m(\u001b[0m\u001b[0;34m*\u001b[0m\u001b[0margs\u001b[0m\u001b[0;34m,\u001b[0m \u001b[0;34m**\u001b[0m\u001b[0mkwds\u001b[0m\u001b[0;34m)\u001b[0m\u001b[0;34m\u001b[0m\u001b[0;34m\u001b[0m\u001b[0m\n\u001b[0m\u001b[1;32m    895\u001b[0m \u001b[0;34m\u001b[0m\u001b[0m\n\u001b[1;32m    896\u001b[0m       \u001b[0mnew_tracing_count\u001b[0m \u001b[0;34m=\u001b[0m \u001b[0mself\u001b[0m\u001b[0;34m.\u001b[0m\u001b[0mexperimental_get_tracing_count\u001b[0m\u001b[0;34m(\u001b[0m\u001b[0;34m)\u001b[0m\u001b[0;34m\u001b[0m\u001b[0;34m\u001b[0m\u001b[0m\n",
            "\u001b[0;32m/usr/local/lib/python3.9/dist-packages/tensorflow/python/eager/polymorphic_function/polymorphic_function.py\u001b[0m in \u001b[0;36m_call\u001b[0;34m(self, *args, **kwds)\u001b[0m\n\u001b[1;32m    924\u001b[0m       \u001b[0;31m# In this case we have created variables on the first call, so we run the\u001b[0m\u001b[0;34m\u001b[0m\u001b[0;34m\u001b[0m\u001b[0m\n\u001b[1;32m    925\u001b[0m       \u001b[0;31m# defunned version which is guaranteed to never create variables.\u001b[0m\u001b[0;34m\u001b[0m\u001b[0;34m\u001b[0m\u001b[0m\n\u001b[0;32m--> 926\u001b[0;31m       \u001b[0;32mreturn\u001b[0m \u001b[0mself\u001b[0m\u001b[0;34m.\u001b[0m\u001b[0m_no_variable_creation_fn\u001b[0m\u001b[0;34m(\u001b[0m\u001b[0;34m*\u001b[0m\u001b[0margs\u001b[0m\u001b[0;34m,\u001b[0m \u001b[0;34m**\u001b[0m\u001b[0mkwds\u001b[0m\u001b[0;34m)\u001b[0m  \u001b[0;31m# pylint: disable=not-callable\u001b[0m\u001b[0;34m\u001b[0m\u001b[0;34m\u001b[0m\u001b[0m\n\u001b[0m\u001b[1;32m    927\u001b[0m     \u001b[0;32melif\u001b[0m \u001b[0mself\u001b[0m\u001b[0;34m.\u001b[0m\u001b[0m_variable_creation_fn\u001b[0m \u001b[0;32mis\u001b[0m \u001b[0;32mnot\u001b[0m \u001b[0;32mNone\u001b[0m\u001b[0;34m:\u001b[0m\u001b[0;34m\u001b[0m\u001b[0;34m\u001b[0m\u001b[0m\n\u001b[1;32m    928\u001b[0m       \u001b[0;31m# Release the lock early so that multiple threads can perform the call\u001b[0m\u001b[0;34m\u001b[0m\u001b[0;34m\u001b[0m\u001b[0m\n",
            "\u001b[0;32m/usr/local/lib/python3.9/dist-packages/tensorflow/python/eager/polymorphic_function/tracing_compiler.py\u001b[0m in \u001b[0;36m__call__\u001b[0;34m(self, *args, **kwargs)\u001b[0m\n\u001b[1;32m    141\u001b[0m       (concrete_function,\n\u001b[1;32m    142\u001b[0m        filtered_flat_args) = self._maybe_define_function(args, kwargs)\n\u001b[0;32m--> 143\u001b[0;31m     return concrete_function._call_flat(\n\u001b[0m\u001b[1;32m    144\u001b[0m         filtered_flat_args, captured_inputs=concrete_function.captured_inputs)  # pylint: disable=protected-access\n\u001b[1;32m    145\u001b[0m \u001b[0;34m\u001b[0m\u001b[0m\n",
            "\u001b[0;32m/usr/local/lib/python3.9/dist-packages/tensorflow/python/eager/polymorphic_function/monomorphic_function.py\u001b[0m in \u001b[0;36m_call_flat\u001b[0;34m(self, args, captured_inputs, cancellation_manager)\u001b[0m\n\u001b[1;32m   1755\u001b[0m         and executing_eagerly):\n\u001b[1;32m   1756\u001b[0m       \u001b[0;31m# No tape is watching; skip to running the function.\u001b[0m\u001b[0;34m\u001b[0m\u001b[0;34m\u001b[0m\u001b[0m\n\u001b[0;32m-> 1757\u001b[0;31m       return self._build_call_outputs(self._inference_function.call(\n\u001b[0m\u001b[1;32m   1758\u001b[0m           ctx, args, cancellation_manager=cancellation_manager))\n\u001b[1;32m   1759\u001b[0m     forward_backward = self._select_forward_and_backward_functions(\n",
            "\u001b[0;32m/usr/local/lib/python3.9/dist-packages/tensorflow/python/eager/polymorphic_function/monomorphic_function.py\u001b[0m in \u001b[0;36mcall\u001b[0;34m(self, ctx, args, cancellation_manager)\u001b[0m\n\u001b[1;32m    379\u001b[0m       \u001b[0;32mwith\u001b[0m \u001b[0m_InterpolateFunctionError\u001b[0m\u001b[0;34m(\u001b[0m\u001b[0mself\u001b[0m\u001b[0;34m)\u001b[0m\u001b[0;34m:\u001b[0m\u001b[0;34m\u001b[0m\u001b[0;34m\u001b[0m\u001b[0m\n\u001b[1;32m    380\u001b[0m         \u001b[0;32mif\u001b[0m \u001b[0mcancellation_manager\u001b[0m \u001b[0;32mis\u001b[0m \u001b[0;32mNone\u001b[0m\u001b[0;34m:\u001b[0m\u001b[0;34m\u001b[0m\u001b[0;34m\u001b[0m\u001b[0m\n\u001b[0;32m--> 381\u001b[0;31m           outputs = execute.execute(\n\u001b[0m\u001b[1;32m    382\u001b[0m               \u001b[0mstr\u001b[0m\u001b[0;34m(\u001b[0m\u001b[0mself\u001b[0m\u001b[0;34m.\u001b[0m\u001b[0msignature\u001b[0m\u001b[0;34m.\u001b[0m\u001b[0mname\u001b[0m\u001b[0;34m)\u001b[0m\u001b[0;34m,\u001b[0m\u001b[0;34m\u001b[0m\u001b[0;34m\u001b[0m\u001b[0m\n\u001b[1;32m    383\u001b[0m               \u001b[0mnum_outputs\u001b[0m\u001b[0;34m=\u001b[0m\u001b[0mself\u001b[0m\u001b[0;34m.\u001b[0m\u001b[0m_num_outputs\u001b[0m\u001b[0;34m,\u001b[0m\u001b[0;34m\u001b[0m\u001b[0;34m\u001b[0m\u001b[0m\n",
            "\u001b[0;32m/usr/local/lib/python3.9/dist-packages/tensorflow/python/eager/execute.py\u001b[0m in \u001b[0;36mquick_execute\u001b[0;34m(op_name, num_outputs, inputs, attrs, ctx, name)\u001b[0m\n\u001b[1;32m     50\u001b[0m   \u001b[0;32mtry\u001b[0m\u001b[0;34m:\u001b[0m\u001b[0;34m\u001b[0m\u001b[0;34m\u001b[0m\u001b[0m\n\u001b[1;32m     51\u001b[0m     \u001b[0mctx\u001b[0m\u001b[0;34m.\u001b[0m\u001b[0mensure_initialized\u001b[0m\u001b[0;34m(\u001b[0m\u001b[0;34m)\u001b[0m\u001b[0;34m\u001b[0m\u001b[0;34m\u001b[0m\u001b[0m\n\u001b[0;32m---> 52\u001b[0;31m     tensors = pywrap_tfe.TFE_Py_Execute(ctx._handle, device_name, op_name,\n\u001b[0m\u001b[1;32m     53\u001b[0m                                         inputs, attrs, num_outputs)\n\u001b[1;32m     54\u001b[0m   \u001b[0;32mexcept\u001b[0m \u001b[0mcore\u001b[0m\u001b[0;34m.\u001b[0m\u001b[0m_NotOkStatusException\u001b[0m \u001b[0;32mas\u001b[0m \u001b[0me\u001b[0m\u001b[0;34m:\u001b[0m\u001b[0;34m\u001b[0m\u001b[0;34m\u001b[0m\u001b[0m\n",
            "\u001b[0;31mKeyboardInterrupt\u001b[0m: "
          ]
        }
      ]
    },
    {
      "cell_type": "code",
      "source": [
        "efficient_net_url = \"https://tfhub.dev/google/imagenet/inception_v1/feature_vector/5\"\n",
        "E_net = create_model(resenet_url,\n",
        "                      num_classes=4)"
      ],
      "metadata": {
        "id": "nMl7OvBuKxhy"
      },
      "execution_count": null,
      "outputs": []
    },
    {
      "cell_type": "code",
      "source": [
        "E_net.compile(loss = tf.keras.losses.categorical_crossentropy,\n",
        "               optimizer = tf.keras.optimizers.Adam(),\n",
        "               metrics = ['accuracy'])"
      ],
      "metadata": {
        "id": "MYCwU9P8Kxe1"
      },
      "execution_count": null,
      "outputs": []
    },
    {
      "cell_type": "code",
      "source": [
        "from keras import callbacks\n",
        "E_net.fit(train_data,\n",
        "           steps_per_epoch=len(train_data),\n",
        "           callbacks = create_tensorboard_callback(\"/content/tensoflow_callbacks\", \"resnet_10_percent\"),\n",
        "           validation_data=test_data,\n",
        "           epochs=5)"
      ],
      "metadata": {
        "colab": {
          "base_uri": "https://localhost:8080/"
        },
        "id": "87V5JYcKKxZA",
        "outputId": "89d95a49-2884-4973-8ef4-0c0c7edd6ccd"
      },
      "execution_count": null,
      "outputs": [
        {
          "output_type": "stream",
          "name": "stdout",
          "text": [
            "Epoch 1/5\n",
            "51/51 [==============================] - 71s 1s/step - loss: 70.9226 - accuracy: 0.2858 - val_loss: 18.9738 - val_accuracy: 0.2667\n",
            "Epoch 2/5\n",
            "51/51 [==============================] - 65s 1s/step - loss: 19.9318 - accuracy: 0.2994 - val_loss: 12.3656 - val_accuracy: 0.3417\n",
            "Epoch 3/5\n",
            "51/51 [==============================] - 65s 1s/step - loss: 28.6833 - accuracy: 0.2864 - val_loss: 18.4931 - val_accuracy: 0.3542\n",
            "Epoch 4/5\n",
            "51/51 [==============================] - 65s 1s/step - loss: 35.4666 - accuracy: 0.2821 - val_loss: 8.3764 - val_accuracy: 0.3083\n",
            "Epoch 5/5\n",
            "51/51 [==============================] - 65s 1s/step - loss: 37.9486 - accuracy: 0.2889 - val_loss: 60.1420 - val_accuracy: 0.1458\n"
          ]
        },
        {
          "output_type": "execute_result",
          "data": {
            "text/plain": [
              "<keras.callbacks.History at 0x7f88706cb490>"
            ]
          },
          "metadata": {},
          "execution_count": 14
        }
      ]
    },
    {
      "cell_type": "code",
      "source": [
        "E_net.summary()"
      ],
      "metadata": {
        "colab": {
          "base_uri": "https://localhost:8080/"
        },
        "id": "68DaCjHIKxWi",
        "outputId": "f98c8081-089e-4e65-c7a4-a28250e1953c"
      },
      "execution_count": null,
      "outputs": [
        {
          "output_type": "stream",
          "name": "stdout",
          "text": [
            "Model: \"sequential_1\"\n",
            "_________________________________________________________________\n",
            " Layer (type)                Output Shape              Param #   \n",
            "=================================================================\n",
            " feature_extration_layer (Ke  (None, 2048)             23561152  \n",
            " rasLayer)                                                       \n",
            "                                                                 \n",
            " output_layer (Dense)        (None, 4)                 8196      \n",
            "                                                                 \n",
            "=================================================================\n",
            "Total params: 23,569,348\n",
            "Trainable params: 8,196\n",
            "Non-trainable params: 23,561,152\n",
            "_________________________________________________________________\n"
          ]
        }
      ]
    },
    {
      "cell_type": "code",
      "source": [
        "! gdown --id 1jOePlBj7WzMzZ3uPC4g6Ny-eC3yFTbrN"
      ],
      "metadata": {
        "id": "-zE0iELcKxTk",
        "colab": {
          "base_uri": "https://localhost:8080/"
        },
        "outputId": "028ed39e-055d-4f23-e030-6c4927655b1a"
      },
      "execution_count": null,
      "outputs": [
        {
          "output_type": "stream",
          "name": "stdout",
          "text": [
            "/usr/local/lib/python3.9/dist-packages/gdown/cli.py:121: FutureWarning: Option `--id` was deprecated in version 4.3.1 and will be removed in 5.0. You don't need to pass it anymore to use a file ID.\n",
            "  warnings.warn(\n",
            "Downloading...\n",
            "From: https://drive.google.com/uc?id=1jOePlBj7WzMzZ3uPC4g6Ny-eC3yFTbrN\n",
            "To: /content/messidor_150.zip\n",
            "100% 375M/375M [00:05<00:00, 70.2MB/s]\n"
          ]
        }
      ]
    },
    {
      "cell_type": "code",
      "source": [
        " ! wget https://raw.githubusercontent.com/mrdbourke/tensorflow-deep-learning/main/extras/helper_functions.py"
      ],
      "metadata": {
        "id": "ZL6zwR26KxQv",
        "colab": {
          "base_uri": "https://localhost:8080/"
        },
        "outputId": "578a1fcd-15b2-43b8-f3ee-cb3204777c9e"
      },
      "execution_count": null,
      "outputs": [
        {
          "output_type": "stream",
          "name": "stdout",
          "text": [
            "--2023-04-27 00:14:40--  https://raw.githubusercontent.com/mrdbourke/tensorflow-deep-learning/main/extras/helper_functions.py\n",
            "Resolving raw.githubusercontent.com (raw.githubusercontent.com)... 185.199.108.133, 185.199.109.133, 185.199.110.133, ...\n",
            "Connecting to raw.githubusercontent.com (raw.githubusercontent.com)|185.199.108.133|:443... connected.\n",
            "HTTP request sent, awaiting response... 200 OK\n",
            "Length: 10246 (10K) [text/plain]\n",
            "Saving to: ‘helper_functions.py’\n",
            "\n",
            "\rhelper_functions.py   0%[                    ]       0  --.-KB/s               \rhelper_functions.py 100%[===================>]  10.01K  --.-KB/s    in 0s      \n",
            "\n",
            "2023-04-27 00:14:41 (70.3 MB/s) - ‘helper_functions.py’ saved [10246/10246]\n",
            "\n"
          ]
        }
      ]
    },
    {
      "cell_type": "code",
      "source": [
        "! gdown --id 1_KrmbjSPeGCVsjAj-dUpyeffW9mde7ap"
      ],
      "metadata": {
        "colab": {
          "base_uri": "https://localhost:8080/"
        },
        "id": "k1itZb4NMgCb",
        "outputId": "4ed83ed6-43c1-4b72-ce70-d26653cea67f"
      },
      "execution_count": null,
      "outputs": [
        {
          "output_type": "stream",
          "name": "stdout",
          "text": [
            "/usr/local/lib/python3.9/dist-packages/gdown/cli.py:121: FutureWarning: Option `--id` was deprecated in version 4.3.1 and will be removed in 5.0. You don't need to pass it anymore to use a file ID.\n",
            "  warnings.warn(\n",
            "Downloading...\n",
            "From: https://drive.google.com/uc?id=1_KrmbjSPeGCVsjAj-dUpyeffW9mde7ap\n",
            "To: /content/test_data.zip\n",
            "100% 99.9M/99.9M [00:01<00:00, 64.6MB/s]\n"
          ]
        }
      ]
    },
    {
      "cell_type": "code",
      "source": [
        "from helper_functions import create_tensorboard_callback, plot_loss_curves, unzip_data, walk_through_dir"
      ],
      "metadata": {
        "id": "YpWpnFNlKxNw"
      },
      "execution_count": null,
      "outputs": []
    },
    {
      "cell_type": "code",
      "source": [
        "unzip_data('messidor_150.zip')"
      ],
      "metadata": {
        "id": "Tbkk6Cm0KxKl"
      },
      "execution_count": null,
      "outputs": []
    },
    {
      "cell_type": "code",
      "source": [
        "unzip_data('test_data.zip')"
      ],
      "metadata": {
        "id": "PEseC5T9Ml10"
      },
      "execution_count": null,
      "outputs": []
    },
    {
      "cell_type": "code",
      "source": [
        "train_dir = \"/content/messidor_150/train_data\"\n",
        "valid_dir = \"/content/messidor_150/validation_data\"\n",
        "test_dir = \"/content/test_data\""
      ],
      "metadata": {
        "id": "rqtV6CqtKxFr"
      },
      "execution_count": null,
      "outputs": []
    },
    {
      "cell_type": "code",
      "source": [
        "import tensorflow as tf"
      ],
      "metadata": {
        "id": "2MyyJsYoGk2K"
      },
      "execution_count": null,
      "outputs": []
    },
    {
      "cell_type": "code",
      "source": [
        "Img_size = (512, 512)\n",
        "Batch_size = 32\n",
        "\n",
        "train_data = tf.keras.preprocessing.image_dataset_from_directory(train_dir,\n",
        "                                                                 label_mode = 'categorical',\n",
        "                                                                 batch_size=Batch_size,\n",
        "                                                                 image_size=Img_size,)\n",
        "\n",
        "valid_data = tf.keras.preprocessing.image_dataset_from_directory(valid_dir,\n",
        "                                                                 label_mode='categorical',\n",
        "                                                                 batch_size = Batch_size,\n",
        "                                                                 image_size = Img_size)\n",
        "\n",
        "test_data = tf.keras.preprocessing.image_dataset_from_directory(test_dir,\n",
        "                                                                class_names=['0','1','2','3'],\n",
        "                                                                label_mode='categorical',\n",
        "                                                                batch_size=Batch_size,\n",
        "                                                                image_size=Img_size)"
      ],
      "metadata": {
        "colab": {
          "base_uri": "https://localhost:8080/"
        },
        "id": "0ssdSjH0GZ1r",
        "outputId": "67af81da-995d-4e79-c272-ca9e37e50968"
      },
      "execution_count": null,
      "outputs": [
        {
          "output_type": "stream",
          "name": "stdout",
          "text": [
            "Found 571 files belonging to 4 classes.\n",
            "Found 160 files belonging to 4 classes.\n",
            "Found 240 files belonging to 4 classes.\n"
          ]
        }
      ]
    },
    {
      "cell_type": "code",
      "source": [
        "def create_tensorboard_callback(dir_name, experiment_name):\n",
        "  log_dir = dir_name+'/'+experiment_name\n",
        "  tensorboard_callback = tf.keras.callbacks.TensorBoard(log_dir)\n",
        "  print(f'saving TensorBoard log files to : {log_dir}')\n",
        "  return tensorboard_callback"
      ],
      "metadata": {
        "id": "GV3nwa3DNBCV"
      },
      "execution_count": null,
      "outputs": []
    },
    {
      "cell_type": "code",
      "source": [
        "checkpoint_path1 = \"model1_weights/checkpoint.ckpt\"\n",
        "\n",
        "checkpoint_callback = tf.keras.callbacks.ModelCheckpoint(filepath = checkpoint_path1,\n",
        "                                                         monitor='val_loss',\n",
        "                                                         verbose = 1,\n",
        "                                                         save_weights_only=True,\n",
        "                                                         save_best_only=True)\n",
        "checkpoint_path2 = \"model2_weights/checkpoint.ckpt\"\n",
        "\n",
        "checkpoint_callback2 = tf.keras.callbacks.ModelCheckpoint(filepath = checkpoint_path2,\n",
        "                                                         monitor='val_loss',\n",
        "                                                         verbose = 1,\n",
        "                                                         save_weights_only=True,\n",
        "                                                         save_best_only=True)"
      ],
      "metadata": {
        "id": "zl1vcH8qPz9s"
      },
      "execution_count": null,
      "outputs": []
    },
    {
      "cell_type": "code",
      "source": [
        "def create_checkpoint(checkpoint_path):\n",
        "  return tf.keras.callbacks.ModelCheckpoint(filepath = checkpoint_path,\n",
        "                                            monitory = 'val_loss',\n",
        "                                            verbose = 1,\n",
        "                                            save_weights_only = True,\n",
        "                                            save_best_only = True)"
      ],
      "metadata": {
        "id": "MYYNbcl7scj6"
      },
      "execution_count": null,
      "outputs": []
    },
    {
      "cell_type": "markdown",
      "source": [
        "## Model 1 - 150 each class, except class 1(118) - No Data Augmentation, feature extractor\n",
        "\n",
        "ResNet50V2\n"
      ],
      "metadata": {
        "id": "-7dqWjzgH-tT"
      }
    },
    {
      "cell_type": "code",
      "source": [
        "from tensorflow.keras.layers import Input, Dense, GlobalAveragePooling2D"
      ],
      "metadata": {
        "id": "K_z9o1gbKjVx"
      },
      "execution_count": null,
      "outputs": []
    },
    {
      "cell_type": "code",
      "source": [
        "base_model = tf.keras.applications.ResNet50V2(include_top=False)\n",
        "base_model.trainable = False\n",
        "\n",
        "inputs = tf.keras.layers.Input(shape=(512, 512, 3))\n",
        "\n",
        "x = base_model(inputs)\n",
        "\n",
        "x = GlobalAveragePooling2D()(x)\n",
        "\n",
        "x = Dense(4, activation = 'softmax')(x)\n",
        "\n",
        "model1 = tf.keras.Model(inputs = inputs, outputs = x)"
      ],
      "metadata": {
        "colab": {
          "base_uri": "https://localhost:8080/"
        },
        "id": "nxXW-QrkHeGC",
        "outputId": "ffe28313-4465-4a51-f795-d5d6da0255e0"
      },
      "execution_count": null,
      "outputs": [
        {
          "output_type": "stream",
          "name": "stdout",
          "text": [
            "Downloading data from https://storage.googleapis.com/tensorflow/keras-applications/resnet/resnet50v2_weights_tf_dim_ordering_tf_kernels_notop.h5\n",
            "94668760/94668760 [==============================] - 5s 0us/step\n"
          ]
        }
      ]
    },
    {
      "cell_type": "code",
      "source": [
        "model1.compile(loss = tf.keras.losses.categorical_crossentropy,\n",
        "               optimizer = tf.keras.optimizers.Adam(),\n",
        "               metrics = ['accuracy'])"
      ],
      "metadata": {
        "id": "1HmQF40oK897"
      },
      "execution_count": null,
      "outputs": []
    },
    {
      "cell_type": "code",
      "source": [
        "history1 = model1.fit(train_data,\n",
        "                      epochs = 15,\n",
        "                      steps_per_epoch=len(train_data),\n",
        "                      validation_data=valid_data,\n",
        "                      validation_steps=len(valid_data),\n",
        "                      callbacks = [create_tensorboard_callback('tensorboard/','model1_feature_extracter'),checkpoint_callback]\n",
        "           )"
      ],
      "metadata": {
        "colab": {
          "base_uri": "https://localhost:8080/"
        },
        "id": "xZBOIdBpL_UL",
        "outputId": "0df1046c-1131-424f-d08d-cd1c2ebfdf14"
      },
      "execution_count": null,
      "outputs": [
        {
          "output_type": "stream",
          "name": "stdout",
          "text": [
            "saving TensorBoard log files to : tensorboard//model1_feature_extracter\n",
            "Epoch 1/15\n",
            "18/18 [==============================] - ETA: 0s - loss: 14.3720 - accuracy: 0.2539\n",
            "Epoch 1: val_loss improved from inf to 3.36422, saving model to model1_weights/checkpoint.ckpt\n",
            "18/18 [==============================] - 38s 960ms/step - loss: 14.3720 - accuracy: 0.2539 - val_loss: 3.3642 - val_accuracy: 0.3562\n",
            "Epoch 2/15\n",
            "18/18 [==============================] - ETA: 0s - loss: 4.3195 - accuracy: 0.2715\n",
            "Epoch 2: val_loss did not improve from 3.36422\n",
            "18/18 [==============================] - 16s 687ms/step - loss: 4.3195 - accuracy: 0.2715 - val_loss: 5.5754 - val_accuracy: 0.2812\n",
            "Epoch 3/15\n",
            "18/18 [==============================] - ETA: 0s - loss: 3.1960 - accuracy: 0.2644\n",
            "Epoch 3: val_loss did not improve from 3.36422\n",
            "18/18 [==============================] - 15s 656ms/step - loss: 3.1960 - accuracy: 0.2644 - val_loss: 3.4057 - val_accuracy: 0.2562\n",
            "Epoch 4/15\n",
            "18/18 [==============================] - ETA: 0s - loss: 3.0412 - accuracy: 0.2785\n",
            "Epoch 4: val_loss did not improve from 3.36422\n",
            "18/18 [==============================] - 16s 681ms/step - loss: 3.0412 - accuracy: 0.2785 - val_loss: 3.6021 - val_accuracy: 0.2937\n",
            "Epoch 5/15\n",
            "18/18 [==============================] - ETA: 0s - loss: 3.0125 - accuracy: 0.3310\n",
            "Epoch 5: val_loss did not improve from 3.36422\n",
            "18/18 [==============================] - 14s 634ms/step - loss: 3.0125 - accuracy: 0.3310 - val_loss: 4.8966 - val_accuracy: 0.3875\n",
            "Epoch 6/15\n",
            "18/18 [==============================] - ETA: 0s - loss: 3.0901 - accuracy: 0.3520\n",
            "Epoch 6: val_loss did not improve from 3.36422\n",
            "18/18 [==============================] - 16s 680ms/step - loss: 3.0901 - accuracy: 0.3520 - val_loss: 4.1338 - val_accuracy: 0.2625\n",
            "Epoch 7/15\n",
            "18/18 [==============================] - ETA: 0s - loss: 3.8699 - accuracy: 0.3257\n",
            "Epoch 7: val_loss did not improve from 3.36422\n",
            "18/18 [==============================] - 15s 654ms/step - loss: 3.8699 - accuracy: 0.3257 - val_loss: 4.1033 - val_accuracy: 0.2625\n",
            "Epoch 8/15\n",
            "18/18 [==============================] - ETA: 0s - loss: 2.7636 - accuracy: 0.3643\n",
            "Epoch 8: val_loss improved from 3.36422 to 3.08879, saving model to model1_weights/checkpoint.ckpt\n",
            "18/18 [==============================] - 16s 690ms/step - loss: 2.7636 - accuracy: 0.3643 - val_loss: 3.0888 - val_accuracy: 0.2875\n",
            "Epoch 9/15\n",
            "18/18 [==============================] - ETA: 0s - loss: 3.2576 - accuracy: 0.3030\n",
            "Epoch 9: val_loss did not improve from 3.08879\n",
            "18/18 [==============================] - 15s 692ms/step - loss: 3.2576 - accuracy: 0.3030 - val_loss: 8.0443 - val_accuracy: 0.2562\n",
            "Epoch 10/15\n",
            "18/18 [==============================] - ETA: 0s - loss: 3.3678 - accuracy: 0.3625\n",
            "Epoch 10: val_loss did not improve from 3.08879\n",
            "18/18 [==============================] - 14s 649ms/step - loss: 3.3678 - accuracy: 0.3625 - val_loss: 4.4859 - val_accuracy: 0.2438\n",
            "Epoch 11/15\n",
            "18/18 [==============================] - ETA: 0s - loss: 2.4355 - accuracy: 0.3520\n",
            "Epoch 11: val_loss did not improve from 3.08879\n",
            "18/18 [==============================] - 16s 708ms/step - loss: 2.4355 - accuracy: 0.3520 - val_loss: 3.5656 - val_accuracy: 0.3438\n",
            "Epoch 12/15\n",
            "18/18 [==============================] - ETA: 0s - loss: 2.5477 - accuracy: 0.3608\n",
            "Epoch 12: val_loss did not improve from 3.08879\n",
            "18/18 [==============================] - 15s 689ms/step - loss: 2.5477 - accuracy: 0.3608 - val_loss: 4.6453 - val_accuracy: 0.3500\n",
            "Epoch 13/15\n",
            "18/18 [==============================] - ETA: 0s - loss: 2.7172 - accuracy: 0.3503\n",
            "Epoch 13: val_loss did not improve from 3.08879\n",
            "18/18 [==============================] - 16s 652ms/step - loss: 2.7172 - accuracy: 0.3503 - val_loss: 4.1272 - val_accuracy: 0.3125\n",
            "Epoch 14/15\n",
            "18/18 [==============================] - ETA: 0s - loss: 2.9747 - accuracy: 0.3573\n",
            "Epoch 14: val_loss did not improve from 3.08879\n",
            "18/18 [==============================] - 15s 681ms/step - loss: 2.9747 - accuracy: 0.3573 - val_loss: 4.3846 - val_accuracy: 0.2688\n",
            "Epoch 15/15\n",
            "18/18 [==============================] - ETA: 0s - loss: 2.8372 - accuracy: 0.3485\n",
            "Epoch 15: val_loss did not improve from 3.08879\n",
            "18/18 [==============================] - 16s 645ms/step - loss: 2.8372 - accuracy: 0.3485 - val_loss: 4.5885 - val_accuracy: 0.2875\n"
          ]
        }
      ]
    },
    {
      "cell_type": "code",
      "source": [
        "model1.evaluate(test_data)"
      ],
      "metadata": {
        "colab": {
          "base_uri": "https://localhost:8080/"
        },
        "id": "V2336egXYQLM",
        "outputId": "64ed6ef4-ad0e-4f7b-e18e-1f2abcc7d0d9"
      },
      "execution_count": null,
      "outputs": [
        {
          "output_type": "stream",
          "name": "stdout",
          "text": [
            "8/8 [==============================] - 9s 818ms/step - loss: 4.3914 - accuracy: 0.2208\n"
          ]
        },
        {
          "output_type": "execute_result",
          "data": {
            "text/plain": [
              "[4.391376972198486, 0.22083333134651184]"
            ]
          },
          "metadata": {},
          "execution_count": 17
        }
      ]
    },
    {
      "cell_type": "code",
      "source": [
        "model1.summary()"
      ],
      "metadata": {
        "colab": {
          "base_uri": "https://localhost:8080/"
        },
        "id": "Y_4a6Y1gNF18",
        "outputId": "23661ec9-77ce-4f11-f8f3-b39c6d97963b"
      },
      "execution_count": null,
      "outputs": [
        {
          "output_type": "stream",
          "name": "stdout",
          "text": [
            "Model: \"model\"\n",
            "_________________________________________________________________\n",
            " Layer (type)                Output Shape              Param #   \n",
            "=================================================================\n",
            " input_2 (InputLayer)        [(None, 512, 512, 3)]     0         \n",
            "                                                                 \n",
            " resnet50v2 (Functional)     (None, None, None, 2048)  23564800  \n",
            "                                                                 \n",
            " global_average_pooling2d (G  (None, 2048)             0         \n",
            " lobalAveragePooling2D)                                          \n",
            "                                                                 \n",
            " dense (Dense)               (None, 4)                 8196      \n",
            "                                                                 \n",
            "=================================================================\n",
            "Total params: 23,572,996\n",
            "Trainable params: 8,196\n",
            "Non-trainable params: 23,564,800\n",
            "_________________________________________________________________\n"
          ]
        }
      ]
    },
    {
      "cell_type": "code",
      "source": [
        "plot_loss_curves(history1)"
      ],
      "metadata": {
        "colab": {
          "base_uri": "https://localhost:8080/",
          "height": 927
        },
        "id": "v-fKdCGxRIga",
        "outputId": "00afe1c7-6808-43d7-b879-e4a950a98dfb"
      },
      "execution_count": null,
      "outputs": [
        {
          "output_type": "display_data",
          "data": {
            "text/plain": [
              "<Figure size 640x480 with 1 Axes>"
            ],
            "image/png": "[encoded data removed]"
          },
          "metadata": {}
        },
        {
          "output_type": "display_data",
          "data": {
            "text/plain": [
              "<Figure size 640x480 with 1 Axes>"
            ],
            "image/png": "[encoded data removed]"
          },
          "metadata": {}
        }
      ]
    },
    {
      "cell_type": "markdown",
      "source": [
        "## Model2 - Feature Extracter - with Data augmentation, ResNet50B2"
      ],
      "metadata": {
        "id": "0glSfcrITWMS"
      }
    },
    {
      "cell_type": "code",
      "source": [
        "from tensorflow.keras.models import Sequential\n",
        "from tensorflow.keras.layers.experimental import preprocessing"
      ],
      "metadata": {
        "id": "ncAgXqYEUWam"
      },
      "execution_count": null,
      "outputs": []
    },
    {
      "cell_type": "code",
      "source": [
        "data_aug_layer = Sequential([\n",
        "    preprocessing.RandomFlip('horizontal'),\n",
        "    preprocessing.RandomRotation(0.2),\n",
        "    preprocessing.RandomZoom(0.2),\n",
        "    preprocessing.RandomHeight(0.2),\n",
        "    preprocessing.RandomWidth(0.2)\n",
        "    #preprocessing.Rescale(1./255)\n",
        "], name = 'data_aug_layer')"
      ],
      "metadata": {
        "id": "RPmti8u4Ugd_"
      },
      "execution_count": null,
      "outputs": []
    },
    {
      "cell_type": "code",
      "source": [
        "base_model = tf.keras.applications.ResNet50V2(include_top=False)\n",
        "base_model.trainable = False\n",
        "\n",
        "inputs = tf.keras.layers.Input(shape = (512, 512, 3))\n",
        "\n",
        "x = data_aug_layer(inputs, training = True)\n",
        "x = base_model(x, training = False)\n",
        "\n",
        "x = GlobalAveragePooling2D()(x)\n",
        "\n",
        "outputs = tf.keras.layers.Dense(4, activation = 'softmax')(x)\n",
        "\n",
        "model2 = tf.keras.Model(inputs = inputs, outputs = outputs)\n"
      ],
      "metadata": {
        "id": "6tYAkxOzSDr7"
      },
      "execution_count": null,
      "outputs": []
    },
    {
      "cell_type": "code",
      "source": [
        "model2.compile(loss = tf.keras.losses.categorical_crossentropy,\n",
        "               optimizer = tf.keras.optimizers.Adam(),\n",
        "               metrics = ['accuracy'])"
      ],
      "metadata": {
        "id": "dSD2kIu0XAh7"
      },
      "execution_count": null,
      "outputs": []
    },
    {
      "cell_type": "code",
      "source": [
        "history2 = model2.fit(train_data,\n",
        "                      epochs = 15,\n",
        "                      steps_per_epoch=len(train_data),\n",
        "                      validation_data=valid_data,\n",
        "                      validation_steps=len(valid_data),\n",
        "                      callbacks = [create_tensorboard_callback('tensorboard/','model2_feature_extracter'),checkpoint_callback2]\n",
        "           )"
      ],
      "metadata": {
        "colab": {
          "base_uri": "https://localhost:8080/"
        },
        "id": "f-cBkbSEXKq8",
        "outputId": "ee87dbcb-611a-49a5-e4a3-bb4619900172"
      },
      "execution_count": null,
      "outputs": [
        {
          "output_type": "stream",
          "name": "stdout",
          "text": [
            "saving TensorBoard log files to : tensorboard//model2_feature_extracter\n",
            "Epoch 1/15\n",
            "18/18 [==============================] - ETA: 0s - loss: 16.3572 - accuracy: 0.2487\n",
            "Epoch 1: val_loss improved from inf to 11.59533, saving model to model2_weights/checkpoint.ckpt\n",
            "18/18 [==============================] - 141s 8s/step - loss: 16.3572 - accuracy: 0.2487 - val_loss: 11.5953 - val_accuracy: 0.2250\n",
            "Epoch 2/15\n",
            "18/18 [==============================] - ETA: 0s - loss: 8.2234 - accuracy: 0.2697\n",
            "Epoch 2: val_loss improved from 11.59533 to 4.83760, saving model to model2_weights/checkpoint.ckpt\n",
            "18/18 [==============================] - 128s 7s/step - loss: 8.2234 - accuracy: 0.2697 - val_loss: 4.8376 - val_accuracy: 0.2875\n",
            "Epoch 3/15\n",
            "18/18 [==============================] - ETA: 0s - loss: 5.9330 - accuracy: 0.2907\n",
            "Epoch 3: val_loss did not improve from 4.83760\n",
            "18/18 [==============================] - 125s 7s/step - loss: 5.9330 - accuracy: 0.2907 - val_loss: 7.0981 - val_accuracy: 0.2562\n",
            "Epoch 4/15\n",
            "18/18 [==============================] - ETA: 0s - loss: 4.6208 - accuracy: 0.2644\n",
            "Epoch 4: val_loss improved from 4.83760 to 3.81747, saving model to model2_weights/checkpoint.ckpt\n",
            "18/18 [==============================] - 111s 6s/step - loss: 4.6208 - accuracy: 0.2644 - val_loss: 3.8175 - val_accuracy: 0.2625\n",
            "Epoch 5/15\n",
            "18/18 [==============================] - ETA: 0s - loss: 3.8498 - accuracy: 0.2434\n",
            "Epoch 5: val_loss improved from 3.81747 to 3.19266, saving model to model2_weights/checkpoint.ckpt\n",
            "18/18 [==============================] - 119s 6s/step - loss: 3.8498 - accuracy: 0.2434 - val_loss: 3.1927 - val_accuracy: 0.2438\n",
            "Epoch 6/15\n",
            "18/18 [==============================] - ETA: 0s - loss: 2.7949 - accuracy: 0.2960\n",
            "Epoch 6: val_loss did not improve from 3.19266\n",
            "18/18 [==============================] - 102s 6s/step - loss: 2.7949 - accuracy: 0.2960 - val_loss: 3.6967 - val_accuracy: 0.2937\n",
            "Epoch 7/15\n",
            "18/18 [==============================] - ETA: 0s - loss: 3.3611 - accuracy: 0.3065\n",
            "Epoch 7: val_loss improved from 3.19266 to 2.62228, saving model to model2_weights/checkpoint.ckpt\n",
            "18/18 [==============================] - 98s 5s/step - loss: 3.3611 - accuracy: 0.3065 - val_loss: 2.6223 - val_accuracy: 0.3000\n",
            "Epoch 8/15\n",
            "18/18 [==============================] - ETA: 0s - loss: 3.3585 - accuracy: 0.2785\n",
            "Epoch 8: val_loss did not improve from 2.62228\n",
            "18/18 [==============================] - 95s 5s/step - loss: 3.3585 - accuracy: 0.2785 - val_loss: 2.7187 - val_accuracy: 0.2125\n",
            "Epoch 9/15\n",
            "18/18 [==============================] - ETA: 0s - loss: 3.7770 - accuracy: 0.2907\n",
            "Epoch 9: val_loss did not improve from 2.62228\n",
            "18/18 [==============================] - 80s 4s/step - loss: 3.7770 - accuracy: 0.2907 - val_loss: 3.0098 - val_accuracy: 0.3250\n",
            "Epoch 10/15\n",
            "18/18 [==============================] - ETA: 0s - loss: 3.9647 - accuracy: 0.3082\n",
            "Epoch 10: val_loss did not improve from 2.62228\n",
            "18/18 [==============================] - 87s 5s/step - loss: 3.9647 - accuracy: 0.3082 - val_loss: 3.5917 - val_accuracy: 0.3313\n",
            "Epoch 11/15\n",
            "18/18 [==============================] - ETA: 0s - loss: 3.1355 - accuracy: 0.2855\n",
            "Epoch 11: val_loss did not improve from 2.62228\n",
            "18/18 [==============================] - 83s 4s/step - loss: 3.1355 - accuracy: 0.2855 - val_loss: 3.1590 - val_accuracy: 0.3187\n",
            "Epoch 12/15\n",
            "18/18 [==============================] - ETA: 0s - loss: 3.5669 - accuracy: 0.3187\n",
            "Epoch 12: val_loss did not improve from 2.62228\n",
            "18/18 [==============================] - 89s 5s/step - loss: 3.5669 - accuracy: 0.3187 - val_loss: 2.7568 - val_accuracy: 0.2937\n",
            "Epoch 13/15\n",
            "18/18 [==============================] - ETA: 0s - loss: 3.1113 - accuracy: 0.3047\n",
            "Epoch 13: val_loss did not improve from 2.62228\n",
            "18/18 [==============================] - 85s 5s/step - loss: 3.1113 - accuracy: 0.3047 - val_loss: 2.7565 - val_accuracy: 0.2812\n",
            "Epoch 14/15\n",
            "18/18 [==============================] - ETA: 0s - loss: 2.5624 - accuracy: 0.3310\n",
            "Epoch 14: val_loss improved from 2.62228 to 2.32385, saving model to model2_weights/checkpoint.ckpt\n",
            "18/18 [==============================] - 83s 4s/step - loss: 2.5624 - accuracy: 0.3310 - val_loss: 2.3239 - val_accuracy: 0.3313\n",
            "Epoch 15/15\n",
            "18/18 [==============================] - ETA: 0s - loss: 2.5377 - accuracy: 0.3240\n",
            "Epoch 15: val_loss did not improve from 2.32385\n",
            "18/18 [==============================] - 81s 4s/step - loss: 2.5377 - accuracy: 0.3240 - val_loss: 4.2151 - val_accuracy: 0.3250\n"
          ]
        }
      ]
    },
    {
      "cell_type": "code",
      "source": [
        "model2.evaluate(test_data)"
      ],
      "metadata": {
        "colab": {
          "base_uri": "https://localhost:8080/"
        },
        "id": "zyBsITBmbDaO",
        "outputId": "aeb7bbd2-7bc6-4234-cf36-2b005ebbb9c9"
      },
      "execution_count": null,
      "outputs": [
        {
          "output_type": "stream",
          "name": "stdout",
          "text": [
            "8/8 [==============================] - 34s 4s/step - loss: 3.7205 - accuracy: 0.3375\n"
          ]
        },
        {
          "output_type": "execute_result",
          "data": {
            "text/plain": [
              "[3.7205231189727783, 0.3375000059604645]"
            ]
          },
          "metadata": {},
          "execution_count": 25
        }
      ]
    },
    {
      "cell_type": "code",
      "source": [
        "model2.summary()"
      ],
      "metadata": {
        "colab": {
          "base_uri": "https://localhost:8080/"
        },
        "id": "qs6AJw4gXzFc",
        "outputId": "98437873-b944-42e1-b1f2-f9da4f8cf9f9"
      },
      "execution_count": null,
      "outputs": [
        {
          "output_type": "stream",
          "name": "stdout",
          "text": [
            "Model: \"model_1\"\n",
            "_________________________________________________________________\n",
            " Layer (type)                Output Shape              Param #   \n",
            "=================================================================\n",
            " input_4 (InputLayer)        [(None, 512, 512, 3)]     0         \n",
            "                                                                 \n",
            " data_aug_layer (Sequential)  (None, None, None, 3)    0         \n",
            "                                                                 \n",
            " resnet50v2 (Functional)     (None, None, None, 2048)  23564800  \n",
            "                                                                 \n",
            " global_average_pooling2d_1   (None, 2048)             0         \n",
            " (GlobalAveragePooling2D)                                        \n",
            "                                                                 \n",
            " dense_1 (Dense)             (None, 4)                 8196      \n",
            "                                                                 \n",
            "=================================================================\n",
            "Total params: 23,572,996\n",
            "Trainable params: 8,196\n",
            "Non-trainable params: 23,564,800\n",
            "_________________________________________________________________\n"
          ]
        }
      ]
    },
    {
      "cell_type": "code",
      "source": [
        "plot_loss_curves(history2)"
      ],
      "metadata": {
        "colab": {
          "base_uri": "https://localhost:8080/",
          "height": 927
        },
        "id": "EulGnqWnX4LU",
        "outputId": "e44097c5-d81c-4f75-d98d-f5ce137dca86"
      },
      "execution_count": null,
      "outputs": [
        {
          "output_type": "display_data",
          "data": {
            "text/plain": [
              "<Figure size 640x480 with 1 Axes>"
            ],
            "image/png": "[encoded data removed]"
          },
          "metadata": {}
        },
        {
          "output_type": "display_data",
          "data": {
            "text/plain": [
              "<Figure size 640x480 with 1 Axes>"
            ],
            "image/png": "[encoded data removed]"
          },
          "metadata": {}
        }
      ]
    },
    {
      "cell_type": "markdown",
      "source": [
        "## Model 3 - top 10 layers trainable - without data augmentation"
      ],
      "metadata": {
        "id": "4EouE3kbYPGi"
      }
    },
    {
      "cell_type": "code",
      "source": [
        "model1.load_weights(checkpoint_path1)"
      ],
      "metadata": {
        "colab": {
          "base_uri": "https://localhost:8080/"
        },
        "id": "xyub6btnZ4I8",
        "outputId": "efae7ff6-e895-4a06-fb1e-705353fe48b5"
      },
      "execution_count": null,
      "outputs": [
        {
          "output_type": "execute_result",
          "data": {
            "text/plain": [
              "<tensorflow.python.checkpoint.checkpoint.CheckpointLoadStatus at 0x7fadc18d9820>"
            ]
          },
          "metadata": {},
          "execution_count": 28
        }
      ]
    },
    {
      "cell_type": "code",
      "source": [
        "model1.layers"
      ],
      "metadata": {
        "colab": {
          "base_uri": "https://localhost:8080/"
        },
        "id": "XxWucyrbX8ZM",
        "outputId": "c386e9aa-cb37-445d-d7d9-7c2252a4500c"
      },
      "execution_count": null,
      "outputs": [
        {
          "output_type": "execute_result",
          "data": {
            "text/plain": [
              "[<keras.engine.input_layer.InputLayer at 0x7fae6046c520>,\n",
              " <keras.engine.functional.Functional at 0x7fae60483190>,\n",
              " <keras.layers.pooling.global_average_pooling2d.GlobalAveragePooling2D at 0x7fae6048cd60>,\n",
              " <keras.layers.core.dense.Dense at 0x7fae6048cdc0>]"
            ]
          },
          "metadata": {},
          "execution_count": 29
        }
      ]
    },
    {
      "cell_type": "code",
      "source": [
        "for layer in model1.layers:\n",
        "  print(layer, layer.trainable)"
      ],
      "metadata": {
        "colab": {
          "base_uri": "https://localhost:8080/"
        },
        "id": "TrTh3EL4ZQGs",
        "outputId": "07efcadb-8115-4679-ae54-88a795f19803"
      },
      "execution_count": null,
      "outputs": [
        {
          "output_type": "stream",
          "name": "stdout",
          "text": [
            "<keras.engine.input_layer.InputLayer object at 0x7fae6046c520> True\n",
            "<keras.engine.functional.Functional object at 0x7fae60483190> False\n",
            "<keras.layers.pooling.global_average_pooling2d.GlobalAveragePooling2D object at 0x7fae6048cd60> True\n",
            "<keras.layers.core.dense.Dense object at 0x7fae6048cdc0> True\n"
          ]
        }
      ]
    },
    {
      "cell_type": "code",
      "source": [
        "for i, layer in enumerate(model1.layers[1].layers):\n",
        "  print(i, layer.name, layer.trainable)"
      ],
      "metadata": {
        "colab": {
          "base_uri": "https://localhost:8080/"
        },
        "id": "ReplRD3BZaxC",
        "outputId": "e30afcc7-33b5-401b-c67a-9d7b79098bda"
      },
      "execution_count": null,
      "outputs": [
        {
          "output_type": "stream",
          "name": "stdout",
          "text": [
            "0 input_1 False\n",
            "1 conv1_pad False\n",
            "2 conv1_conv False\n",
            "3 pool1_pad False\n",
            "4 pool1_pool False\n",
            "5 conv2_block1_preact_bn False\n",
            "6 conv2_block1_preact_relu False\n",
            "7 conv2_block1_1_conv False\n",
            "8 conv2_block1_1_bn False\n",
            "9 conv2_block1_1_relu False\n",
            "10 conv2_block1_2_pad False\n",
            "11 conv2_block1_2_conv False\n",
            "12 conv2_block1_2_bn False\n",
            "13 conv2_block1_2_relu False\n",
            "14 conv2_block1_0_conv False\n",
            "15 conv2_block1_3_conv False\n",
            "16 conv2_block1_out False\n",
            "17 conv2_block2_preact_bn False\n",
            "18 conv2_block2_preact_relu False\n",
            "19 conv2_block2_1_conv False\n",
            "20 conv2_block2_1_bn False\n",
            "21 conv2_block2_1_relu False\n",
            "22 conv2_block2_2_pad False\n",
            "23 conv2_block2_2_conv False\n",
            "24 conv2_block2_2_bn False\n",
            "25 conv2_block2_2_relu False\n",
            "26 conv2_block2_3_conv False\n",
            "27 conv2_block2_out False\n",
            "28 conv2_block3_preact_bn False\n",
            "29 conv2_block3_preact_relu False\n",
            "30 conv2_block3_1_conv False\n",
            "31 conv2_block3_1_bn False\n",
            "32 conv2_block3_1_relu False\n",
            "33 conv2_block3_2_pad False\n",
            "34 conv2_block3_2_conv False\n",
            "35 conv2_block3_2_bn False\n",
            "36 conv2_block3_2_relu False\n",
            "37 max_pooling2d False\n",
            "38 conv2_block3_3_conv False\n",
            "39 conv2_block3_out False\n",
            "40 conv3_block1_preact_bn False\n",
            "41 conv3_block1_preact_relu False\n",
            "42 conv3_block1_1_conv False\n",
            "43 conv3_block1_1_bn False\n",
            "44 conv3_block1_1_relu False\n",
            "45 conv3_block1_2_pad False\n",
            "46 conv3_block1_2_conv False\n",
            "47 conv3_block1_2_bn False\n",
            "48 conv3_block1_2_relu False\n",
            "49 conv3_block1_0_conv False\n",
            "50 conv3_block1_3_conv False\n",
            "51 conv3_block1_out False\n",
            "52 conv3_block2_preact_bn False\n",
            "53 conv3_block2_preact_relu False\n",
            "54 conv3_block2_1_conv False\n",
            "55 conv3_block2_1_bn False\n",
            "56 conv3_block2_1_relu False\n",
            "57 conv3_block2_2_pad False\n",
            "58 conv3_block2_2_conv False\n",
            "59 conv3_block2_2_bn False\n",
            "60 conv3_block2_2_relu False\n",
            "61 conv3_block2_3_conv False\n",
            "62 conv3_block2_out False\n",
            "63 conv3_block3_preact_bn False\n",
            "64 conv3_block3_preact_relu False\n",
            "65 conv3_block3_1_conv False\n",
            "66 conv3_block3_1_bn False\n",
            "67 conv3_block3_1_relu False\n",
            "68 conv3_block3_2_pad False\n",
            "69 conv3_block3_2_conv False\n",
            "70 conv3_block3_2_bn False\n",
            "71 conv3_block3_2_relu False\n",
            "72 conv3_block3_3_conv False\n",
            "73 conv3_block3_out False\n",
            "74 conv3_block4_preact_bn False\n",
            "75 conv3_block4_preact_relu False\n",
            "76 conv3_block4_1_conv False\n",
            "77 conv3_block4_1_bn False\n",
            "78 conv3_block4_1_relu False\n",
            "79 conv3_block4_2_pad False\n",
            "80 conv3_block4_2_conv False\n",
            "81 conv3_block4_2_bn False\n",
            "82 conv3_block4_2_relu False\n",
            "83 max_pooling2d_1 False\n",
            "84 conv3_block4_3_conv False\n",
            "85 conv3_block4_out False\n",
            "86 conv4_block1_preact_bn False\n",
            "87 conv4_block1_preact_relu False\n",
            "88 conv4_block1_1_conv False\n",
            "89 conv4_block1_1_bn False\n",
            "90 conv4_block1_1_relu False\n",
            "91 conv4_block1_2_pad False\n",
            "92 conv4_block1_2_conv False\n",
            "93 conv4_block1_2_bn False\n",
            "94 conv4_block1_2_relu False\n",
            "95 conv4_block1_0_conv False\n",
            "96 conv4_block1_3_conv False\n",
            "97 conv4_block1_out False\n",
            "98 conv4_block2_preact_bn False\n",
            "99 conv4_block2_preact_relu False\n",
            "100 conv4_block2_1_conv False\n",
            "101 conv4_block2_1_bn False\n",
            "102 conv4_block2_1_relu False\n",
            "103 conv4_block2_2_pad False\n",
            "104 conv4_block2_2_conv False\n",
            "105 conv4_block2_2_bn False\n",
            "106 conv4_block2_2_relu False\n",
            "107 conv4_block2_3_conv False\n",
            "108 conv4_block2_out False\n",
            "109 conv4_block3_preact_bn False\n",
            "110 conv4_block3_preact_relu False\n",
            "111 conv4_block3_1_conv False\n",
            "112 conv4_block3_1_bn False\n",
            "113 conv4_block3_1_relu False\n",
            "114 conv4_block3_2_pad False\n",
            "115 conv4_block3_2_conv False\n",
            "116 conv4_block3_2_bn False\n",
            "117 conv4_block3_2_relu False\n",
            "118 conv4_block3_3_conv False\n",
            "119 conv4_block3_out False\n",
            "120 conv4_block4_preact_bn False\n",
            "121 conv4_block4_preact_relu False\n",
            "122 conv4_block4_1_conv False\n",
            "123 conv4_block4_1_bn False\n",
            "124 conv4_block4_1_relu False\n",
            "125 conv4_block4_2_pad False\n",
            "126 conv4_block4_2_conv False\n",
            "127 conv4_block4_2_bn False\n",
            "128 conv4_block4_2_relu False\n",
            "129 conv4_block4_3_conv False\n",
            "130 conv4_block4_out False\n",
            "131 conv4_block5_preact_bn False\n",
            "132 conv4_block5_preact_relu False\n",
            "133 conv4_block5_1_conv False\n",
            "134 conv4_block5_1_bn False\n",
            "135 conv4_block5_1_relu False\n",
            "136 conv4_block5_2_pad False\n",
            "137 conv4_block5_2_conv False\n",
            "138 conv4_block5_2_bn False\n",
            "139 conv4_block5_2_relu False\n",
            "140 conv4_block5_3_conv False\n",
            "141 conv4_block5_out False\n",
            "142 conv4_block6_preact_bn False\n",
            "143 conv4_block6_preact_relu False\n",
            "144 conv4_block6_1_conv False\n",
            "145 conv4_block6_1_bn False\n",
            "146 conv4_block6_1_relu False\n",
            "147 conv4_block6_2_pad False\n",
            "148 conv4_block6_2_conv False\n",
            "149 conv4_block6_2_bn False\n",
            "150 conv4_block6_2_relu False\n",
            "151 max_pooling2d_2 False\n",
            "152 conv4_block6_3_conv False\n",
            "153 conv4_block6_out False\n",
            "154 conv5_block1_preact_bn False\n",
            "155 conv5_block1_preact_relu False\n",
            "156 conv5_block1_1_conv False\n",
            "157 conv5_block1_1_bn False\n",
            "158 conv5_block1_1_relu False\n",
            "159 conv5_block1_2_pad False\n",
            "160 conv5_block1_2_conv False\n",
            "161 conv5_block1_2_bn False\n",
            "162 conv5_block1_2_relu False\n",
            "163 conv5_block1_0_conv False\n",
            "164 conv5_block1_3_conv False\n",
            "165 conv5_block1_out False\n",
            "166 conv5_block2_preact_bn False\n",
            "167 conv5_block2_preact_relu False\n",
            "168 conv5_block2_1_conv False\n",
            "169 conv5_block2_1_bn False\n",
            "170 conv5_block2_1_relu False\n",
            "171 conv5_block2_2_pad False\n",
            "172 conv5_block2_2_conv False\n",
            "173 conv5_block2_2_bn False\n",
            "174 conv5_block2_2_relu False\n",
            "175 conv5_block2_3_conv False\n",
            "176 conv5_block2_out False\n",
            "177 conv5_block3_preact_bn False\n",
            "178 conv5_block3_preact_relu False\n",
            "179 conv5_block3_1_conv False\n",
            "180 conv5_block3_1_bn False\n",
            "181 conv5_block3_1_relu False\n",
            "182 conv5_block3_2_pad False\n",
            "183 conv5_block3_2_conv False\n",
            "184 conv5_block3_2_bn False\n",
            "185 conv5_block3_2_relu False\n",
            "186 conv5_block3_3_conv False\n",
            "187 conv5_block3_out False\n",
            "188 post_bn False\n",
            "189 post_relu False\n"
          ]
        }
      ]
    },
    {
      "cell_type": "code",
      "source": [
        "base_model = tf.keras.applications.ResNet50V2(include_top=False)\n",
        "base_model.trainable = True\n",
        "\n",
        "# Freeze all layers except for the last 10\n",
        "for layer in base_model.layers[:-10]:\n",
        "  layer.trainable = False\n",
        "\n",
        "inputs = tf.keras.layers.Input(shape=(512, 512, 3))\n",
        "\n",
        "x = base_model(inputs)\n",
        "\n",
        "x = GlobalAveragePooling2D()(x)\n",
        "\n",
        "x = Dense(4, activation = 'softmax')(x)\n",
        "\n",
        "model1 = tf.keras.Model(inputs = inputs, outputs = x)"
      ],
      "metadata": {
        "id": "qkwVcLakhln5"
      },
      "execution_count": null,
      "outputs": []
    },
    {
      "cell_type": "code",
      "source": [
        "model1.compile(loss=tf.keras.losses.categorical_crossentropy,\n",
        "               optimizer = tf.keras.optimizers.Adam(learning_rate=0.0001), # when fine tuning you typically lower the learning rate by some amount\n",
        "               metrics = ['accuracy'])"
      ],
      "metadata": {
        "id": "zH1E1vLbhq3I"
      },
      "execution_count": null,
      "outputs": []
    },
    {
      "cell_type": "code",
      "source": [
        "for layer_number, layer in enumerate(model1.layers[1].layers):\n",
        "  print(layer_number, layer.name, layer.trainable)"
      ],
      "metadata": {
        "colab": {
          "base_uri": "https://localhost:8080/"
        },
        "id": "pDVuVbAFZbZc",
        "outputId": "dd15732f-0ce3-4b18-9e27-56e20fa01780"
      },
      "execution_count": null,
      "outputs": [
        {
          "output_type": "stream",
          "name": "stdout",
          "text": [
            "0 input_5 False\n",
            "1 conv1_pad False\n",
            "2 conv1_conv False\n",
            "3 pool1_pad False\n",
            "4 pool1_pool False\n",
            "5 conv2_block1_preact_bn False\n",
            "6 conv2_block1_preact_relu False\n",
            "7 conv2_block1_1_conv False\n",
            "8 conv2_block1_1_bn False\n",
            "9 conv2_block1_1_relu False\n",
            "10 conv2_block1_2_pad False\n",
            "11 conv2_block1_2_conv False\n",
            "12 conv2_block1_2_bn False\n",
            "13 conv2_block1_2_relu False\n",
            "14 conv2_block1_0_conv False\n",
            "15 conv2_block1_3_conv False\n",
            "16 conv2_block1_out False\n",
            "17 conv2_block2_preact_bn False\n",
            "18 conv2_block2_preact_relu False\n",
            "19 conv2_block2_1_conv False\n",
            "20 conv2_block2_1_bn False\n",
            "21 conv2_block2_1_relu False\n",
            "22 conv2_block2_2_pad False\n",
            "23 conv2_block2_2_conv False\n",
            "24 conv2_block2_2_bn False\n",
            "25 conv2_block2_2_relu False\n",
            "26 conv2_block2_3_conv False\n",
            "27 conv2_block2_out False\n",
            "28 conv2_block3_preact_bn False\n",
            "29 conv2_block3_preact_relu False\n",
            "30 conv2_block3_1_conv False\n",
            "31 conv2_block3_1_bn False\n",
            "32 conv2_block3_1_relu False\n",
            "33 conv2_block3_2_pad False\n",
            "34 conv2_block3_2_conv False\n",
            "35 conv2_block3_2_bn False\n",
            "36 conv2_block3_2_relu False\n",
            "37 max_pooling2d_6 False\n",
            "38 conv2_block3_3_conv False\n",
            "39 conv2_block3_out False\n",
            "40 conv3_block1_preact_bn False\n",
            "41 conv3_block1_preact_relu False\n",
            "42 conv3_block1_1_conv False\n",
            "43 conv3_block1_1_bn False\n",
            "44 conv3_block1_1_relu False\n",
            "45 conv3_block1_2_pad False\n",
            "46 conv3_block1_2_conv False\n",
            "47 conv3_block1_2_bn False\n",
            "48 conv3_block1_2_relu False\n",
            "49 conv3_block1_0_conv False\n",
            "50 conv3_block1_3_conv False\n",
            "51 conv3_block1_out False\n",
            "52 conv3_block2_preact_bn False\n",
            "53 conv3_block2_preact_relu False\n",
            "54 conv3_block2_1_conv False\n",
            "55 conv3_block2_1_bn False\n",
            "56 conv3_block2_1_relu False\n",
            "57 conv3_block2_2_pad False\n",
            "58 conv3_block2_2_conv False\n",
            "59 conv3_block2_2_bn False\n",
            "60 conv3_block2_2_relu False\n",
            "61 conv3_block2_3_conv False\n",
            "62 conv3_block2_out False\n",
            "63 conv3_block3_preact_bn False\n",
            "64 conv3_block3_preact_relu False\n",
            "65 conv3_block3_1_conv False\n",
            "66 conv3_block3_1_bn False\n",
            "67 conv3_block3_1_relu False\n",
            "68 conv3_block3_2_pad False\n",
            "69 conv3_block3_2_conv False\n",
            "70 conv3_block3_2_bn False\n",
            "71 conv3_block3_2_relu False\n",
            "72 conv3_block3_3_conv False\n",
            "73 conv3_block3_out False\n",
            "74 conv3_block4_preact_bn False\n",
            "75 conv3_block4_preact_relu False\n",
            "76 conv3_block4_1_conv False\n",
            "77 conv3_block4_1_bn False\n",
            "78 conv3_block4_1_relu False\n",
            "79 conv3_block4_2_pad False\n",
            "80 conv3_block4_2_conv False\n",
            "81 conv3_block4_2_bn False\n",
            "82 conv3_block4_2_relu False\n",
            "83 max_pooling2d_7 False\n",
            "84 conv3_block4_3_conv False\n",
            "85 conv3_block4_out False\n",
            "86 conv4_block1_preact_bn False\n",
            "87 conv4_block1_preact_relu False\n",
            "88 conv4_block1_1_conv False\n",
            "89 conv4_block1_1_bn False\n",
            "90 conv4_block1_1_relu False\n",
            "91 conv4_block1_2_pad False\n",
            "92 conv4_block1_2_conv False\n",
            "93 conv4_block1_2_bn False\n",
            "94 conv4_block1_2_relu False\n",
            "95 conv4_block1_0_conv False\n",
            "96 conv4_block1_3_conv False\n",
            "97 conv4_block1_out False\n",
            "98 conv4_block2_preact_bn False\n",
            "99 conv4_block2_preact_relu False\n",
            "100 conv4_block2_1_conv False\n",
            "101 conv4_block2_1_bn False\n",
            "102 conv4_block2_1_relu False\n",
            "103 conv4_block2_2_pad False\n",
            "104 conv4_block2_2_conv False\n",
            "105 conv4_block2_2_bn False\n",
            "106 conv4_block2_2_relu False\n",
            "107 conv4_block2_3_conv False\n",
            "108 conv4_block2_out False\n",
            "109 conv4_block3_preact_bn False\n",
            "110 conv4_block3_preact_relu False\n",
            "111 conv4_block3_1_conv False\n",
            "112 conv4_block3_1_bn False\n",
            "113 conv4_block3_1_relu False\n",
            "114 conv4_block3_2_pad False\n",
            "115 conv4_block3_2_conv False\n",
            "116 conv4_block3_2_bn False\n",
            "117 conv4_block3_2_relu False\n",
            "118 conv4_block3_3_conv False\n",
            "119 conv4_block3_out False\n",
            "120 conv4_block4_preact_bn False\n",
            "121 conv4_block4_preact_relu False\n",
            "122 conv4_block4_1_conv False\n",
            "123 conv4_block4_1_bn False\n",
            "124 conv4_block4_1_relu False\n",
            "125 conv4_block4_2_pad False\n",
            "126 conv4_block4_2_conv False\n",
            "127 conv4_block4_2_bn False\n",
            "128 conv4_block4_2_relu False\n",
            "129 conv4_block4_3_conv False\n",
            "130 conv4_block4_out False\n",
            "131 conv4_block5_preact_bn False\n",
            "132 conv4_block5_preact_relu False\n",
            "133 conv4_block5_1_conv False\n",
            "134 conv4_block5_1_bn False\n",
            "135 conv4_block5_1_relu False\n",
            "136 conv4_block5_2_pad False\n",
            "137 conv4_block5_2_conv False\n",
            "138 conv4_block5_2_bn False\n",
            "139 conv4_block5_2_relu False\n",
            "140 conv4_block5_3_conv False\n",
            "141 conv4_block5_out False\n",
            "142 conv4_block6_preact_bn False\n",
            "143 conv4_block6_preact_relu False\n",
            "144 conv4_block6_1_conv False\n",
            "145 conv4_block6_1_bn False\n",
            "146 conv4_block6_1_relu False\n",
            "147 conv4_block6_2_pad False\n",
            "148 conv4_block6_2_conv False\n",
            "149 conv4_block6_2_bn False\n",
            "150 conv4_block6_2_relu False\n",
            "151 max_pooling2d_8 False\n",
            "152 conv4_block6_3_conv False\n",
            "153 conv4_block6_out False\n",
            "154 conv5_block1_preact_bn False\n",
            "155 conv5_block1_preact_relu False\n",
            "156 conv5_block1_1_conv False\n",
            "157 conv5_block1_1_bn False\n",
            "158 conv5_block1_1_relu False\n",
            "159 conv5_block1_2_pad False\n",
            "160 conv5_block1_2_conv False\n",
            "161 conv5_block1_2_bn False\n",
            "162 conv5_block1_2_relu False\n",
            "163 conv5_block1_0_conv False\n",
            "164 conv5_block1_3_conv False\n",
            "165 conv5_block1_out False\n",
            "166 conv5_block2_preact_bn False\n",
            "167 conv5_block2_preact_relu False\n",
            "168 conv5_block2_1_conv False\n",
            "169 conv5_block2_1_bn False\n",
            "170 conv5_block2_1_relu False\n",
            "171 conv5_block2_2_pad False\n",
            "172 conv5_block2_2_conv False\n",
            "173 conv5_block2_2_bn False\n",
            "174 conv5_block2_2_relu False\n",
            "175 conv5_block2_3_conv False\n",
            "176 conv5_block2_out False\n",
            "177 conv5_block3_preact_bn False\n",
            "178 conv5_block3_preact_relu False\n",
            "179 conv5_block3_1_conv False\n",
            "180 conv5_block3_1_bn True\n",
            "181 conv5_block3_1_relu True\n",
            "182 conv5_block3_2_pad True\n",
            "183 conv5_block3_2_conv True\n",
            "184 conv5_block3_2_bn True\n",
            "185 conv5_block3_2_relu True\n",
            "186 conv5_block3_3_conv True\n",
            "187 conv5_block3_out True\n",
            "188 post_bn True\n",
            "189 post_relu True\n"
          ]
        }
      ]
    },
    {
      "cell_type": "code",
      "source": [
        "# fine tune for another 15 epochs\n",
        "fine_tune_epochs = 15 + 45\n",
        "history3 = model1.fit(train_data,\n",
        "                      epochs = fine_tune_epochs,\n",
        "           steps_per_epoch=len(train_data),\n",
        "           validation_data=valid_data,\n",
        "           validation_steps=len(valid_data),\n",
        "           callbacks=[create_tensorboard_callback(\"tensorflow_hub\", \"model3_EfficientNetB0\"), create_checkpoint(\"model3_weights/checkpoints3.cktp\")],\n",
        "           initial_epoch = history1.epoch[-1])"
      ],
      "metadata": {
        "id": "iIEhIQ1SZbTe",
        "colab": {
          "base_uri": "https://localhost:8080/"
        },
        "outputId": "223cf034-683c-4f57-8259-e0388e535d71"
      },
      "execution_count": null,
      "outputs": [
        {
          "output_type": "stream",
          "name": "stdout",
          "text": [
            "saving TensorBoard log files to : tensorflow_hub/model3_EfficientNetB0\n",
            "Epoch 15/60\n",
            "18/18 [==============================] - ETA: 0s - loss: 1.2172 - accuracy: 0.4781\n",
            "Epoch 15: val_loss improved from inf to 1.35363, saving model to model3_weights/checkpoints3.cktp\n",
            "18/18 [==============================] - 17s 773ms/step - loss: 1.2172 - accuracy: 0.4781 - val_loss: 1.3536 - val_accuracy: 0.3688\n",
            "Epoch 16/60\n",
            "18/18 [==============================] - ETA: 0s - loss: 1.2200 - accuracy: 0.4606\n",
            "Epoch 16: val_loss did not improve from 1.35363\n",
            "18/18 [==============================] - 15s 682ms/step - loss: 1.2200 - accuracy: 0.4606 - val_loss: 1.3577 - val_accuracy: 0.3438\n",
            "Epoch 17/60\n",
            "18/18 [==============================] - ETA: 0s - loss: 1.2074 - accuracy: 0.4694\n",
            "Epoch 17: val_loss improved from 1.35363 to 1.33790, saving model to model3_weights/checkpoints3.cktp\n",
            "18/18 [==============================] - 16s 738ms/step - loss: 1.2074 - accuracy: 0.4694 - val_loss: 1.3379 - val_accuracy: 0.3562\n",
            "Epoch 18/60\n",
            "18/18 [==============================] - ETA: 0s - loss: 1.2082 - accuracy: 0.4658\n",
            "Epoch 18: val_loss did not improve from 1.33790\n",
            "18/18 [==============================] - 15s 676ms/step - loss: 1.2082 - accuracy: 0.4658 - val_loss: 1.3468 - val_accuracy: 0.3625\n",
            "Epoch 19/60\n",
            "18/18 [==============================] - ETA: 0s - loss: 1.1902 - accuracy: 0.4851\n",
            "Epoch 19: val_loss did not improve from 1.33790\n",
            "18/18 [==============================] - 17s 729ms/step - loss: 1.1902 - accuracy: 0.4851 - val_loss: 1.3470 - val_accuracy: 0.3625\n",
            "Epoch 20/60\n",
            "18/18 [==============================] - ETA: 0s - loss: 1.2055 - accuracy: 0.4606\n",
            "Epoch 20: val_loss did not improve from 1.33790\n",
            "18/18 [==============================] - 16s 701ms/step - loss: 1.2055 - accuracy: 0.4606 - val_loss: 1.3515 - val_accuracy: 0.3500\n",
            "Epoch 21/60\n",
            "18/18 [==============================] - ETA: 0s - loss: 1.1888 - accuracy: 0.4851\n",
            "Epoch 21: val_loss did not improve from 1.33790\n",
            "18/18 [==============================] - 16s 714ms/step - loss: 1.1888 - accuracy: 0.4851 - val_loss: 1.3447 - val_accuracy: 0.3500\n",
            "Epoch 22/60\n",
            "18/18 [==============================] - ETA: 0s - loss: 1.1830 - accuracy: 0.4886\n",
            "Epoch 22: val_loss improved from 1.33790 to 1.33766, saving model to model3_weights/checkpoints3.cktp\n",
            "18/18 [==============================] - 17s 725ms/step - loss: 1.1830 - accuracy: 0.4886 - val_loss: 1.3377 - val_accuracy: 0.3562\n",
            "Epoch 23/60\n",
            "18/18 [==============================] - ETA: 0s - loss: 1.1936 - accuracy: 0.4816\n",
            "Epoch 23: val_loss did not improve from 1.33766\n",
            "18/18 [==============================] - 16s 707ms/step - loss: 1.1936 - accuracy: 0.4816 - val_loss: 1.3623 - val_accuracy: 0.3187\n",
            "Epoch 24/60\n",
            "18/18 [==============================] - ETA: 0s - loss: 1.1738 - accuracy: 0.4834\n",
            "Epoch 24: val_loss did not improve from 1.33766\n",
            "18/18 [==============================] - 15s 672ms/step - loss: 1.1738 - accuracy: 0.4834 - val_loss: 1.3652 - val_accuracy: 0.3125\n",
            "Epoch 25/60\n",
            "18/18 [==============================] - ETA: 0s - loss: 1.1757 - accuracy: 0.4851\n",
            "Epoch 25: val_loss did not improve from 1.33766\n",
            "18/18 [==============================] - 16s 721ms/step - loss: 1.1757 - accuracy: 0.4851 - val_loss: 1.3605 - val_accuracy: 0.3187\n",
            "Epoch 26/60\n",
            "18/18 [==============================] - ETA: 0s - loss: 1.1646 - accuracy: 0.5009\n",
            "Epoch 26: val_loss did not improve from 1.33766\n",
            "18/18 [==============================] - 16s 670ms/step - loss: 1.1646 - accuracy: 0.5009 - val_loss: 1.3557 - val_accuracy: 0.3250\n",
            "Epoch 27/60\n",
            "18/18 [==============================] - ETA: 0s - loss: 1.1627 - accuracy: 0.5114\n",
            "Epoch 27: val_loss did not improve from 1.33766\n",
            "18/18 [==============================] - 15s 683ms/step - loss: 1.1627 - accuracy: 0.5114 - val_loss: 1.3593 - val_accuracy: 0.3000\n",
            "Epoch 28/60\n",
            "18/18 [==============================] - ETA: 0s - loss: 1.1609 - accuracy: 0.5131\n",
            "Epoch 28: val_loss did not improve from 1.33766\n",
            "18/18 [==============================] - 15s 679ms/step - loss: 1.1609 - accuracy: 0.5131 - val_loss: 1.3666 - val_accuracy: 0.3125\n",
            "Epoch 29/60\n",
            "18/18 [==============================] - ETA: 0s - loss: 1.1554 - accuracy: 0.5061\n",
            "Epoch 29: val_loss did not improve from 1.33766\n",
            "18/18 [==============================] - 15s 688ms/step - loss: 1.1554 - accuracy: 0.5061 - val_loss: 1.3386 - val_accuracy: 0.3438\n",
            "Epoch 30/60\n",
            "18/18 [==============================] - ETA: 0s - loss: 1.1510 - accuracy: 0.5114\n",
            "Epoch 30: val_loss did not improve from 1.33766\n",
            "18/18 [==============================] - 16s 709ms/step - loss: 1.1510 - accuracy: 0.5114 - val_loss: 1.3530 - val_accuracy: 0.3125\n",
            "Epoch 31/60\n",
            "18/18 [==============================] - ETA: 0s - loss: 1.1447 - accuracy: 0.5131\n",
            "Epoch 31: val_loss did not improve from 1.33766\n",
            "18/18 [==============================] - 17s 692ms/step - loss: 1.1447 - accuracy: 0.5131 - val_loss: 1.3598 - val_accuracy: 0.2937\n",
            "Epoch 32/60\n",
            "18/18 [==============================] - ETA: 0s - loss: 1.1445 - accuracy: 0.5079\n",
            "Epoch 32: val_loss did not improve from 1.33766\n",
            "18/18 [==============================] - 15s 667ms/step - loss: 1.1445 - accuracy: 0.5079 - val_loss: 1.3626 - val_accuracy: 0.2937\n",
            "Epoch 33/60\n",
            "18/18 [==============================] - ETA: 0s - loss: 1.1285 - accuracy: 0.5166\n",
            "Epoch 33: val_loss did not improve from 1.33766\n",
            "18/18 [==============================] - 15s 695ms/step - loss: 1.1285 - accuracy: 0.5166 - val_loss: 1.3384 - val_accuracy: 0.3187\n",
            "Epoch 34/60\n",
            "18/18 [==============================] - ETA: 0s - loss: 1.1280 - accuracy: 0.5166\n",
            "Epoch 34: val_loss improved from 1.33766 to 1.33701, saving model to model3_weights/checkpoints3.cktp\n",
            "18/18 [==============================] - 15s 695ms/step - loss: 1.1280 - accuracy: 0.5166 - val_loss: 1.3370 - val_accuracy: 0.3063\n",
            "Epoch 35/60\n",
            "18/18 [==============================] - ETA: 0s - loss: 1.1307 - accuracy: 0.5324\n",
            "Epoch 35: val_loss did not improve from 1.33701\n",
            "18/18 [==============================] - 17s 706ms/step - loss: 1.1307 - accuracy: 0.5324 - val_loss: 1.3623 - val_accuracy: 0.2875\n",
            "Epoch 36/60\n",
            "18/18 [==============================] - ETA: 0s - loss: 1.1359 - accuracy: 0.5254\n",
            "Epoch 36: val_loss improved from 1.33701 to 1.32754, saving model to model3_weights/checkpoints3.cktp\n",
            "18/18 [==============================] - 17s 757ms/step - loss: 1.1359 - accuracy: 0.5254 - val_loss: 1.3275 - val_accuracy: 0.3313\n",
            "Epoch 37/60\n",
            "18/18 [==============================] - ETA: 0s - loss: 1.1219 - accuracy: 0.5219\n",
            "Epoch 37: val_loss did not improve from 1.32754\n",
            "18/18 [==============================] - 15s 660ms/step - loss: 1.1219 - accuracy: 0.5219 - val_loss: 1.3511 - val_accuracy: 0.3000\n",
            "Epoch 38/60\n",
            "18/18 [==============================] - ETA: 0s - loss: 1.1214 - accuracy: 0.5149\n",
            "Epoch 38: val_loss improved from 1.32754 to 1.31553, saving model to model3_weights/checkpoints3.cktp\n",
            "18/18 [==============================] - 16s 729ms/step - loss: 1.1214 - accuracy: 0.5149 - val_loss: 1.3155 - val_accuracy: 0.3625\n",
            "Epoch 39/60\n",
            "18/18 [==============================] - ETA: 0s - loss: 1.1076 - accuracy: 0.5499\n",
            "Epoch 39: val_loss did not improve from 1.31553\n",
            "18/18 [==============================] - 15s 660ms/step - loss: 1.1076 - accuracy: 0.5499 - val_loss: 1.3490 - val_accuracy: 0.3063\n",
            "Epoch 40/60\n",
            "18/18 [==============================] - ETA: 0s - loss: 1.0983 - accuracy: 0.5377\n",
            "Epoch 40: val_loss did not improve from 1.31553\n",
            "18/18 [==============================] - 15s 671ms/step - loss: 1.0983 - accuracy: 0.5377 - val_loss: 1.3173 - val_accuracy: 0.4000\n",
            "Epoch 41/60\n",
            "18/18 [==============================] - ETA: 0s - loss: 1.1057 - accuracy: 0.5394\n",
            "Epoch 41: val_loss did not improve from 1.31553\n",
            "18/18 [==============================] - 16s 721ms/step - loss: 1.1057 - accuracy: 0.5394 - val_loss: 1.3275 - val_accuracy: 0.3500\n",
            "Epoch 42/60\n",
            "18/18 [==============================] - ETA: 0s - loss: 1.0918 - accuracy: 0.5394\n",
            "Epoch 42: val_loss did not improve from 1.31553\n",
            "18/18 [==============================] - 18s 756ms/step - loss: 1.0918 - accuracy: 0.5394 - val_loss: 1.3450 - val_accuracy: 0.3187\n",
            "Epoch 43/60\n",
            "18/18 [==============================] - ETA: 0s - loss: 1.0925 - accuracy: 0.5464\n",
            "Epoch 43: val_loss did not improve from 1.31553\n",
            "18/18 [==============================] - 15s 673ms/step - loss: 1.0925 - accuracy: 0.5464 - val_loss: 1.3536 - val_accuracy: 0.3000\n",
            "Epoch 44/60\n",
            "18/18 [==============================] - ETA: 0s - loss: 1.0873 - accuracy: 0.5271\n",
            "Epoch 44: val_loss did not improve from 1.31553\n",
            "18/18 [==============================] - 16s 719ms/step - loss: 1.0873 - accuracy: 0.5271 - val_loss: 1.3297 - val_accuracy: 0.3750\n",
            "Epoch 45/60\n",
            "18/18 [==============================] - ETA: 0s - loss: 1.0802 - accuracy: 0.5482\n",
            "Epoch 45: val_loss did not improve from 1.31553\n",
            "18/18 [==============================] - 16s 668ms/step - loss: 1.0802 - accuracy: 0.5482 - val_loss: 1.3391 - val_accuracy: 0.3125\n",
            "Epoch 46/60\n",
            "18/18 [==============================] - ETA: 0s - loss: 1.0804 - accuracy: 0.5482\n",
            "Epoch 46: val_loss did not improve from 1.31553\n",
            "18/18 [==============================] - 15s 689ms/step - loss: 1.0804 - accuracy: 0.5482 - val_loss: 1.3579 - val_accuracy: 0.3000\n",
            "Epoch 47/60\n",
            "18/18 [==============================] - ETA: 0s - loss: 1.0814 - accuracy: 0.5342\n",
            "Epoch 47: val_loss did not improve from 1.31553\n",
            "18/18 [==============================] - 15s 673ms/step - loss: 1.0814 - accuracy: 0.5342 - val_loss: 1.3383 - val_accuracy: 0.3688\n",
            "Epoch 48/60\n",
            "18/18 [==============================] - ETA: 0s - loss: 1.0802 - accuracy: 0.5412\n",
            "Epoch 48: val_loss did not improve from 1.31553\n",
            "18/18 [==============================] - 16s 716ms/step - loss: 1.0802 - accuracy: 0.5412 - val_loss: 1.3644 - val_accuracy: 0.3000\n",
            "Epoch 49/60\n",
            "18/18 [==============================] - ETA: 0s - loss: 1.0797 - accuracy: 0.5394\n",
            "Epoch 49: val_loss did not improve from 1.31553\n",
            "18/18 [==============================] - 16s 698ms/step - loss: 1.0797 - accuracy: 0.5394 - val_loss: 1.3429 - val_accuracy: 0.3812\n",
            "Epoch 50/60\n",
            "18/18 [==============================] - ETA: 0s - loss: 1.0753 - accuracy: 0.5622\n",
            "Epoch 50: val_loss did not improve from 1.31553\n",
            "18/18 [==============================] - 16s 708ms/step - loss: 1.0753 - accuracy: 0.5622 - val_loss: 1.3522 - val_accuracy: 0.3125\n",
            "Epoch 51/60\n",
            "18/18 [==============================] - ETA: 0s - loss: 1.0751 - accuracy: 0.5412\n",
            "Epoch 51: val_loss did not improve from 1.31553\n",
            "18/18 [==============================] - 16s 668ms/step - loss: 1.0751 - accuracy: 0.5412 - val_loss: 1.3633 - val_accuracy: 0.3500\n",
            "Epoch 52/60\n",
            "18/18 [==============================] - ETA: 0s - loss: 1.0631 - accuracy: 0.5499\n",
            "Epoch 52: val_loss did not improve from 1.31553\n",
            "18/18 [==============================] - 16s 699ms/step - loss: 1.0631 - accuracy: 0.5499 - val_loss: 1.3658 - val_accuracy: 0.3375\n",
            "Epoch 53/60\n",
            "18/18 [==============================] - ETA: 0s - loss: 1.0584 - accuracy: 0.5464\n",
            "Epoch 53: val_loss did not improve from 1.31553\n",
            "18/18 [==============================] - 15s 656ms/step - loss: 1.0584 - accuracy: 0.5464 - val_loss: 1.3769 - val_accuracy: 0.2750\n",
            "Epoch 54/60\n",
            "18/18 [==============================] - ETA: 0s - loss: 1.0631 - accuracy: 0.5569\n",
            "Epoch 54: val_loss did not improve from 1.31553\n",
            "18/18 [==============================] - 16s 702ms/step - loss: 1.0631 - accuracy: 0.5569 - val_loss: 1.3537 - val_accuracy: 0.3063\n",
            "Epoch 55/60\n",
            "18/18 [==============================] - ETA: 0s - loss: 1.0551 - accuracy: 0.5552\n",
            "Epoch 55: val_loss did not improve from 1.31553\n",
            "18/18 [==============================] - 15s 668ms/step - loss: 1.0551 - accuracy: 0.5552 - val_loss: 1.3891 - val_accuracy: 0.3187\n",
            "Epoch 56/60\n",
            "18/18 [==============================] - ETA: 0s - loss: 1.0506 - accuracy: 0.5604\n",
            "Epoch 56: val_loss did not improve from 1.31553\n",
            "18/18 [==============================] - 15s 706ms/step - loss: 1.0506 - accuracy: 0.5604 - val_loss: 1.3967 - val_accuracy: 0.2562\n",
            "Epoch 57/60\n",
            "18/18 [==============================] - ETA: 0s - loss: 1.0492 - accuracy: 0.5744\n",
            "Epoch 57: val_loss did not improve from 1.31553\n",
            "18/18 [==============================] - 17s 782ms/step - loss: 1.0492 - accuracy: 0.5744 - val_loss: 1.3720 - val_accuracy: 0.2937\n",
            "Epoch 58/60\n",
            "18/18 [==============================] - ETA: 0s - loss: 1.0350 - accuracy: 0.5657\n",
            "Epoch 58: val_loss did not improve from 1.31553\n",
            "18/18 [==============================] - 15s 662ms/step - loss: 1.0350 - accuracy: 0.5657 - val_loss: 1.3673 - val_accuracy: 0.3625\n",
            "Epoch 59/60\n",
            "18/18 [==============================] - ETA: 0s - loss: 1.0250 - accuracy: 0.5727\n",
            "Epoch 59: val_loss did not improve from 1.31553\n",
            "18/18 [==============================] - 15s 661ms/step - loss: 1.0250 - accuracy: 0.5727 - val_loss: 1.3880 - val_accuracy: 0.3562\n",
            "Epoch 60/60\n",
            "18/18 [==============================] - ETA: 0s - loss: 1.0231 - accuracy: 0.5569\n",
            "Epoch 60: val_loss did not improve from 1.31553\n",
            "18/18 [==============================] - 15s 688ms/step - loss: 1.0231 - accuracy: 0.5569 - val_loss: 1.3808 - val_accuracy: 0.3375\n"
          ]
        }
      ]
    },
    {
      "cell_type": "code",
      "source": [
        "model1.evaluate(test_data)"
      ],
      "metadata": {
        "colab": {
          "base_uri": "https://localhost:8080/"
        },
        "id": "Jov0gQ4llFSC",
        "outputId": "a8d57c80-2eb3-402f-85aa-cbb30ffc24be"
      },
      "execution_count": null,
      "outputs": [
        {
          "output_type": "stream",
          "name": "stdout",
          "text": [
            "8/8 [==============================] - 7s 407ms/step - loss: 1.4181 - accuracy: 0.4000\n"
          ]
        },
        {
          "output_type": "execute_result",
          "data": {
            "text/plain": [
              "[1.4181021451950073, 0.4000000059604645]"
            ]
          },
          "metadata": {},
          "execution_count": 40
        }
      ]
    },
    {
      "cell_type": "code",
      "source": [
        "model1.summary()"
      ],
      "metadata": {
        "colab": {
          "base_uri": "https://localhost:8080/"
        },
        "id": "Sd672v2mmr9T",
        "outputId": "ab8ff627-eef6-4f10-b114-995e825380e8"
      },
      "execution_count": null,
      "outputs": [
        {
          "output_type": "stream",
          "name": "stdout",
          "text": [
            "Model: \"model_2\"\n",
            "_________________________________________________________________\n",
            " Layer (type)                Output Shape              Param #   \n",
            "=================================================================\n",
            " input_6 (InputLayer)        [(None, 512, 512, 3)]     0         \n",
            "                                                                 \n",
            " resnet50v2 (Functional)     (None, None, None, 2048)  23564800  \n",
            "                                                                 \n",
            " global_average_pooling2d_2   (None, 2048)             0         \n",
            " (GlobalAveragePooling2D)                                        \n",
            "                                                                 \n",
            " dense_2 (Dense)             (None, 4)                 8196      \n",
            "                                                                 \n",
            "=================================================================\n",
            "Total params: 23,572,996\n",
            "Trainable params: 3,424,260\n",
            "Non-trainable params: 20,148,736\n",
            "_________________________________________________________________\n"
          ]
        }
      ]
    },
    {
      "cell_type": "code",
      "source": [
        "plot_loss_curves(history3)"
      ],
      "metadata": {
        "colab": {
          "base_uri": "https://localhost:8080/",
          "height": 927
        },
        "id": "rlYzCf3hnCTM",
        "outputId": "6082abee-e4c4-4c10-ef61-d5303f1230e0"
      },
      "execution_count": null,
      "outputs": [
        {
          "output_type": "display_data",
          "data": {
            "text/plain": [
              "<Figure size 640x480 with 1 Axes>"
            ],
            "image/png": "[encoded data removed]"
          },
          "metadata": {}
        },
        {
          "output_type": "display_data",
          "data": {
            "text/plain": [
              "<Figure size 640x480 with 1 Axes>"
            ],
            "image/png": "[encoded data removed]"
          },
          "metadata": {}
        }
      ]
    },
    {
      "cell_type": "markdown",
      "source": [
        "## Model4 - top 10 layers trainable with data augmentation"
      ],
      "metadata": {
        "id": "2JDJ1h9gbEKc"
      }
    },
    {
      "cell_type": "code",
      "source": [
        "for layer in model2.layers:\n",
        "  print(layer)"
      ],
      "metadata": {
        "colab": {
          "base_uri": "https://localhost:8080/"
        },
        "id": "mC1Q-a1dY2ok",
        "outputId": "b8f80fea-ca9e-4c32-a882-f833b02b826e"
      },
      "execution_count": null,
      "outputs": [
        {
          "output_type": "stream",
          "name": "stdout",
          "text": [
            "<keras.engine.input_layer.InputLayer object at 0x7fae6031edc0>\n",
            "<keras.engine.sequential.Sequential object at 0x7fadd01dcca0>\n",
            "<keras.engine.functional.Functional object at 0x7fadc1ad8370>\n",
            "<keras.layers.pooling.global_average_pooling2d.GlobalAveragePooling2D object at 0x7fadd00dea30>\n",
            "<keras.layers.core.dense.Dense object at 0x7fadc19285e0>\n"
          ]
        }
      ]
    },
    {
      "cell_type": "code",
      "source": [
        "for i, layer in enumerate(model2.layers[2].layers):\n",
        "  print(i, layer.name, layer.trainable)"
      ],
      "metadata": {
        "colab": {
          "base_uri": "https://localhost:8080/"
        },
        "id": "pMrd0TpGZhsa",
        "outputId": "2b411d0e-6401-4567-e10c-db6be0262b1f"
      },
      "execution_count": null,
      "outputs": [
        {
          "output_type": "stream",
          "name": "stdout",
          "text": [
            "0 input_3 False\n",
            "1 conv1_pad False\n",
            "2 conv1_conv False\n",
            "3 pool1_pad False\n",
            "4 pool1_pool False\n",
            "5 conv2_block1_preact_bn False\n",
            "6 conv2_block1_preact_relu False\n",
            "7 conv2_block1_1_conv False\n",
            "8 conv2_block1_1_bn False\n",
            "9 conv2_block1_1_relu False\n",
            "10 conv2_block1_2_pad False\n",
            "11 conv2_block1_2_conv False\n",
            "12 conv2_block1_2_bn False\n",
            "13 conv2_block1_2_relu False\n",
            "14 conv2_block1_0_conv False\n",
            "15 conv2_block1_3_conv False\n",
            "16 conv2_block1_out False\n",
            "17 conv2_block2_preact_bn False\n",
            "18 conv2_block2_preact_relu False\n",
            "19 conv2_block2_1_conv False\n",
            "20 conv2_block2_1_bn False\n",
            "21 conv2_block2_1_relu False\n",
            "22 conv2_block2_2_pad False\n",
            "23 conv2_block2_2_conv False\n",
            "24 conv2_block2_2_bn False\n",
            "25 conv2_block2_2_relu False\n",
            "26 conv2_block2_3_conv False\n",
            "27 conv2_block2_out False\n",
            "28 conv2_block3_preact_bn False\n",
            "29 conv2_block3_preact_relu False\n",
            "30 conv2_block3_1_conv False\n",
            "31 conv2_block3_1_bn False\n",
            "32 conv2_block3_1_relu False\n",
            "33 conv2_block3_2_pad False\n",
            "34 conv2_block3_2_conv False\n",
            "35 conv2_block3_2_bn False\n",
            "36 conv2_block3_2_relu False\n",
            "37 max_pooling2d_3 False\n",
            "38 conv2_block3_3_conv False\n",
            "39 conv2_block3_out False\n",
            "40 conv3_block1_preact_bn False\n",
            "41 conv3_block1_preact_relu False\n",
            "42 conv3_block1_1_conv False\n",
            "43 conv3_block1_1_bn False\n",
            "44 conv3_block1_1_relu False\n",
            "45 conv3_block1_2_pad False\n",
            "46 conv3_block1_2_conv False\n",
            "47 conv3_block1_2_bn False\n",
            "48 conv3_block1_2_relu False\n",
            "49 conv3_block1_0_conv False\n",
            "50 conv3_block1_3_conv False\n",
            "51 conv3_block1_out False\n",
            "52 conv3_block2_preact_bn False\n",
            "53 conv3_block2_preact_relu False\n",
            "54 conv3_block2_1_conv False\n",
            "55 conv3_block2_1_bn False\n",
            "56 conv3_block2_1_relu False\n",
            "57 conv3_block2_2_pad False\n",
            "58 conv3_block2_2_conv False\n",
            "59 conv3_block2_2_bn False\n",
            "60 conv3_block2_2_relu False\n",
            "61 conv3_block2_3_conv False\n",
            "62 conv3_block2_out False\n",
            "63 conv3_block3_preact_bn False\n",
            "64 conv3_block3_preact_relu False\n",
            "65 conv3_block3_1_conv False\n",
            "66 conv3_block3_1_bn False\n",
            "67 conv3_block3_1_relu False\n",
            "68 conv3_block3_2_pad False\n",
            "69 conv3_block3_2_conv False\n",
            "70 conv3_block3_2_bn False\n",
            "71 conv3_block3_2_relu False\n",
            "72 conv3_block3_3_conv False\n",
            "73 conv3_block3_out False\n",
            "74 conv3_block4_preact_bn False\n",
            "75 conv3_block4_preact_relu False\n",
            "76 conv3_block4_1_conv False\n",
            "77 conv3_block4_1_bn False\n",
            "78 conv3_block4_1_relu False\n",
            "79 conv3_block4_2_pad False\n",
            "80 conv3_block4_2_conv False\n",
            "81 conv3_block4_2_bn False\n",
            "82 conv3_block4_2_relu False\n",
            "83 max_pooling2d_4 False\n",
            "84 conv3_block4_3_conv False\n",
            "85 conv3_block4_out False\n",
            "86 conv4_block1_preact_bn False\n",
            "87 conv4_block1_preact_relu False\n",
            "88 conv4_block1_1_conv False\n",
            "89 conv4_block1_1_bn False\n",
            "90 conv4_block1_1_relu False\n",
            "91 conv4_block1_2_pad False\n",
            "92 conv4_block1_2_conv False\n",
            "93 conv4_block1_2_bn False\n",
            "94 conv4_block1_2_relu False\n",
            "95 conv4_block1_0_conv False\n",
            "96 conv4_block1_3_conv False\n",
            "97 conv4_block1_out False\n",
            "98 conv4_block2_preact_bn False\n",
            "99 conv4_block2_preact_relu False\n",
            "100 conv4_block2_1_conv False\n",
            "101 conv4_block2_1_bn False\n",
            "102 conv4_block2_1_relu False\n",
            "103 conv4_block2_2_pad False\n",
            "104 conv4_block2_2_conv False\n",
            "105 conv4_block2_2_bn False\n",
            "106 conv4_block2_2_relu False\n",
            "107 conv4_block2_3_conv False\n",
            "108 conv4_block2_out False\n",
            "109 conv4_block3_preact_bn False\n",
            "110 conv4_block3_preact_relu False\n",
            "111 conv4_block3_1_conv False\n",
            "112 conv4_block3_1_bn False\n",
            "113 conv4_block3_1_relu False\n",
            "114 conv4_block3_2_pad False\n",
            "115 conv4_block3_2_conv False\n",
            "116 conv4_block3_2_bn False\n",
            "117 conv4_block3_2_relu False\n",
            "118 conv4_block3_3_conv False\n",
            "119 conv4_block3_out False\n",
            "120 conv4_block4_preact_bn False\n",
            "121 conv4_block4_preact_relu False\n",
            "122 conv4_block4_1_conv False\n",
            "123 conv4_block4_1_bn False\n",
            "124 conv4_block4_1_relu False\n",
            "125 conv4_block4_2_pad False\n",
            "126 conv4_block4_2_conv False\n",
            "127 conv4_block4_2_bn False\n",
            "128 conv4_block4_2_relu False\n",
            "129 conv4_block4_3_conv False\n",
            "130 conv4_block4_out False\n",
            "131 conv4_block5_preact_bn False\n",
            "132 conv4_block5_preact_relu False\n",
            "133 conv4_block5_1_conv False\n",
            "134 conv4_block5_1_bn False\n",
            "135 conv4_block5_1_relu False\n",
            "136 conv4_block5_2_pad False\n",
            "137 conv4_block5_2_conv False\n",
            "138 conv4_block5_2_bn False\n",
            "139 conv4_block5_2_relu False\n",
            "140 conv4_block5_3_conv False\n",
            "141 conv4_block5_out False\n",
            "142 conv4_block6_preact_bn False\n",
            "143 conv4_block6_preact_relu False\n",
            "144 conv4_block6_1_conv False\n",
            "145 conv4_block6_1_bn False\n",
            "146 conv4_block6_1_relu False\n",
            "147 conv4_block6_2_pad False\n",
            "148 conv4_block6_2_conv False\n",
            "149 conv4_block6_2_bn False\n",
            "150 conv4_block6_2_relu False\n",
            "151 max_pooling2d_5 False\n",
            "152 conv4_block6_3_conv False\n",
            "153 conv4_block6_out False\n",
            "154 conv5_block1_preact_bn False\n",
            "155 conv5_block1_preact_relu False\n",
            "156 conv5_block1_1_conv False\n",
            "157 conv5_block1_1_bn False\n",
            "158 conv5_block1_1_relu False\n",
            "159 conv5_block1_2_pad False\n",
            "160 conv5_block1_2_conv False\n",
            "161 conv5_block1_2_bn False\n",
            "162 conv5_block1_2_relu False\n",
            "163 conv5_block1_0_conv False\n",
            "164 conv5_block1_3_conv False\n",
            "165 conv5_block1_out False\n",
            "166 conv5_block2_preact_bn False\n",
            "167 conv5_block2_preact_relu False\n",
            "168 conv5_block2_1_conv False\n",
            "169 conv5_block2_1_bn False\n",
            "170 conv5_block2_1_relu False\n",
            "171 conv5_block2_2_pad False\n",
            "172 conv5_block2_2_conv False\n",
            "173 conv5_block2_2_bn False\n",
            "174 conv5_block2_2_relu False\n",
            "175 conv5_block2_3_conv False\n",
            "176 conv5_block2_out False\n",
            "177 conv5_block3_preact_bn False\n",
            "178 conv5_block3_preact_relu False\n",
            "179 conv5_block3_1_conv False\n",
            "180 conv5_block3_1_bn False\n",
            "181 conv5_block3_1_relu False\n",
            "182 conv5_block3_2_pad False\n",
            "183 conv5_block3_2_conv False\n",
            "184 conv5_block3_2_bn False\n",
            "185 conv5_block3_2_relu False\n",
            "186 conv5_block3_3_conv False\n",
            "187 conv5_block3_out False\n",
            "188 post_bn False\n",
            "189 post_relu False\n"
          ]
        }
      ]
    },
    {
      "cell_type": "code",
      "source": [
        "base_model = tf.keras.applications.ResNet50V2(include_top=False)\n",
        "base_model.trainable = True\n",
        "\n",
        "for layer in base_model.layers[:-10]:\n",
        "  layer.trainable = False\n",
        "\n",
        "inputs = tf.keras.layers.Input(shape = (512, 512, 3))\n",
        "\n",
        "x = data_aug_layer(inputs, training = True)\n",
        "x = base_model(x, training = False)\n",
        "\n",
        "x = GlobalAveragePooling2D()(x)\n",
        "\n",
        "outputs = tf.keras.layers.Dense(4, activation = 'softmax')(x)\n",
        "\n",
        "model2 = tf.keras.Model(inputs = inputs, outputs = outputs)"
      ],
      "metadata": {
        "id": "GQs0BnUv4gwC"
      },
      "execution_count": null,
      "outputs": []
    },
    {
      "cell_type": "code",
      "source": [
        "model2.load_weights(checkpoint_path2)"
      ],
      "metadata": {
        "colab": {
          "base_uri": "https://localhost:8080/"
        },
        "id": "ySzQaQR24jno",
        "outputId": "472281df-df59-4886-e75f-a74e00271211"
      },
      "execution_count": null,
      "outputs": [
        {
          "output_type": "execute_result",
          "data": {
            "text/plain": [
              "<tensorflow.python.checkpoint.checkpoint.CheckpointLoadStatus at 0x7fadd01b6b50>"
            ]
          },
          "metadata": {},
          "execution_count": 46
        }
      ]
    },
    {
      "cell_type": "code",
      "source": [
        "model2.compile(loss=tf.keras.losses.categorical_crossentropy,\n",
        "               optimizer = tf.keras.optimizers.Adam(learning_rate=0.0001), # when fine tuning you typically lower the learning rate by some amount\n",
        "               metrics = ['accuracy'])"
      ],
      "metadata": {
        "id": "0BSLa_BP1ire"
      },
      "execution_count": null,
      "outputs": []
    },
    {
      "cell_type": "code",
      "source": [
        "# fine tune for another 5 epochs\n",
        "fine_tune_epochs = 15 + 15\n",
        "history4 = model2.fit(train_data,\n",
        "                      epochs = fine_tune_epochs,\n",
        "           steps_per_epoch=len(train_data),\n",
        "           validation_data=valid_data,\n",
        "           validation_steps=len(valid_data),\n",
        "           callbacks=[create_tensorboard_callback(\"tensorflow_hub\", \"model4_EfficientNetB0\"),create_checkpoint(\"model4_weights/checkpoints4.cktp\")],\n",
        "           initial_epoch = history2.epoch[-1])"
      ],
      "metadata": {
        "colab": {
          "base_uri": "https://localhost:8080/"
        },
        "id": "3KpEoo-rnRmX",
        "outputId": "66d82ae9-67a5-4ef1-ff55-506c2b7e890c"
      },
      "execution_count": null,
      "outputs": [
        {
          "output_type": "stream",
          "name": "stdout",
          "text": [
            "saving TensorBoard log files to : tensorflow_hub/model4_EfficientNetB0\n",
            "Epoch 15/30\n",
            "18/18 [==============================] - ETA: 0s - loss: 44.0215 - accuracy: 0.3047\n",
            "Epoch 15: val_loss improved from inf to 3.14596, saving model to model4_weights/checkpoints4.cktp\n",
            "18/18 [==============================] - 98s 5s/step - loss: 44.0215 - accuracy: 0.3047 - val_loss: 3.1460 - val_accuracy: 0.2062\n",
            "Epoch 16/30\n",
            "18/18 [==============================] - ETA: 0s - loss: 5.9712 - accuracy: 0.2750\n",
            "Epoch 16: val_loss did not improve from 3.14596\n",
            "18/18 [==============================] - 95s 5s/step - loss: 5.9712 - accuracy: 0.2750 - val_loss: 4.8832 - val_accuracy: 0.2313\n",
            "Epoch 17/30\n",
            "18/18 [==============================] - ETA: 0s - loss: 3.7920 - accuracy: 0.2785\n",
            "Epoch 17: val_loss improved from 3.14596 to 1.96282, saving model to model4_weights/checkpoints4.cktp\n",
            "18/18 [==============================] - 84s 4s/step - loss: 3.7920 - accuracy: 0.2785 - val_loss: 1.9628 - val_accuracy: 0.2188\n",
            "Epoch 18/30\n",
            "18/18 [==============================] - ETA: 0s - loss: 1.8964 - accuracy: 0.2977\n",
            "Epoch 18: val_loss improved from 1.96282 to 1.68276, saving model to model4_weights/checkpoints4.cktp\n",
            "18/18 [==============================] - 82s 4s/step - loss: 1.8964 - accuracy: 0.2977 - val_loss: 1.6828 - val_accuracy: 0.2438\n",
            "Epoch 19/30\n",
            "18/18 [==============================] - ETA: 0s - loss: 1.7090 - accuracy: 0.3012\n",
            "Epoch 19: val_loss improved from 1.68276 to 1.60373, saving model to model4_weights/checkpoints4.cktp\n",
            "18/18 [==============================] - 80s 4s/step - loss: 1.7090 - accuracy: 0.3012 - val_loss: 1.6037 - val_accuracy: 0.2875\n",
            "Epoch 20/30\n",
            "18/18 [==============================] - ETA: 0s - loss: 1.5130 - accuracy: 0.3257\n",
            "Epoch 20: val_loss did not improve from 1.60373\n",
            "18/18 [==============================] - 66s 3s/step - loss: 1.5130 - accuracy: 0.3257 - val_loss: 1.8015 - val_accuracy: 0.3063\n",
            "Epoch 21/30\n",
            "18/18 [==============================] - ETA: 0s - loss: 1.5333 - accuracy: 0.3275\n",
            "Epoch 21: val_loss did not improve from 1.60373\n",
            "18/18 [==============================] - 75s 4s/step - loss: 1.5333 - accuracy: 0.3275 - val_loss: 1.9921 - val_accuracy: 0.2562\n",
            "Epoch 22/30\n",
            "18/18 [==============================] - ETA: 0s - loss: 1.7660 - accuracy: 0.3187\n",
            "Epoch 22: val_loss did not improve from 1.60373\n",
            "18/18 [==============================] - 72s 4s/step - loss: 1.7660 - accuracy: 0.3187 - val_loss: 1.6120 - val_accuracy: 0.1750\n",
            "Epoch 23/30\n",
            "18/18 [==============================] - ETA: 0s - loss: 1.4650 - accuracy: 0.3135\n",
            "Epoch 23: val_loss did not improve from 1.60373\n",
            "18/18 [==============================] - 73s 4s/step - loss: 1.4650 - accuracy: 0.3135 - val_loss: 1.7286 - val_accuracy: 0.2125\n",
            "Epoch 24/30\n",
            "18/18 [==============================] - ETA: 0s - loss: 1.7753 - accuracy: 0.2785\n",
            "Epoch 24: val_loss did not improve from 1.60373\n",
            "18/18 [==============================] - 70s 4s/step - loss: 1.7753 - accuracy: 0.2785 - val_loss: 1.8160 - val_accuracy: 0.2937\n",
            "Epoch 25/30\n",
            "18/18 [==============================] - ETA: 0s - loss: 1.6243 - accuracy: 0.2942\n",
            "Epoch 25: val_loss improved from 1.60373 to 1.52748, saving model to model4_weights/checkpoints4.cktp\n",
            "18/18 [==============================] - 75s 4s/step - loss: 1.6243 - accuracy: 0.2942 - val_loss: 1.5275 - val_accuracy: 0.2313\n",
            "Epoch 26/30\n",
            "18/18 [==============================] - ETA: 0s - loss: 1.4242 - accuracy: 0.3450\n",
            "Epoch 26: val_loss did not improve from 1.52748\n",
            "18/18 [==============================] - 62s 3s/step - loss: 1.4242 - accuracy: 0.3450 - val_loss: 1.7758 - val_accuracy: 0.2688\n",
            "Epoch 27/30\n",
            "18/18 [==============================] - ETA: 0s - loss: 1.4207 - accuracy: 0.3765\n",
            "Epoch 27: val_loss did not improve from 1.52748\n",
            "18/18 [==============================] - 72s 4s/step - loss: 1.4207 - accuracy: 0.3765 - val_loss: 1.6311 - val_accuracy: 0.2375\n",
            "Epoch 28/30\n",
            "18/18 [==============================] - ETA: 0s - loss: 1.5550 - accuracy: 0.3310\n",
            "Epoch 28: val_loss did not improve from 1.52748\n",
            "18/18 [==============================] - 69s 4s/step - loss: 1.5550 - accuracy: 0.3310 - val_loss: 1.6523 - val_accuracy: 0.2125\n",
            "Epoch 29/30\n",
            "18/18 [==============================] - ETA: 0s - loss: 1.4817 - accuracy: 0.3187\n",
            "Epoch 29: val_loss did not improve from 1.52748\n",
            "18/18 [==============================] - 68s 4s/step - loss: 1.4817 - accuracy: 0.3187 - val_loss: 1.6395 - val_accuracy: 0.2750\n",
            "Epoch 30/30\n",
            "18/18 [==============================] - ETA: 0s - loss: 1.5638 - accuracy: 0.3310\n",
            "Epoch 30: val_loss did not improve from 1.52748\n",
            "18/18 [==============================] - 56s 3s/step - loss: 1.5638 - accuracy: 0.3310 - val_loss: 1.5613 - val_accuracy: 0.2375\n"
          ]
        }
      ]
    },
    {
      "cell_type": "code",
      "source": [
        "model2.evaluate(test_data)"
      ],
      "metadata": {
        "colab": {
          "base_uri": "https://localhost:8080/"
        },
        "id": "0QOxzfDltyyj",
        "outputId": "b7958a7a-0e5a-46eb-d23e-78e790dab9e5"
      },
      "execution_count": null,
      "outputs": [
        {
          "output_type": "stream",
          "name": "stdout",
          "text": [
            "8/8 [==============================] - 25s 3s/step - loss: 2.0535 - accuracy: 0.1958\n"
          ]
        },
        {
          "output_type": "execute_result",
          "data": {
            "text/plain": [
              "[2.053506851196289, 0.19583334028720856]"
            ]
          },
          "metadata": {},
          "execution_count": 49
        }
      ]
    },
    {
      "cell_type": "code",
      "source": [
        "model2.summary()"
      ],
      "metadata": {
        "colab": {
          "base_uri": "https://localhost:8080/"
        },
        "id": "EAVPuKfet1DC",
        "outputId": "da8308e9-0a34-4196-9138-eaf31d3d65d7"
      },
      "execution_count": null,
      "outputs": [
        {
          "output_type": "stream",
          "name": "stdout",
          "text": [
            "Model: \"model_3\"\n",
            "_________________________________________________________________\n",
            " Layer (type)                Output Shape              Param #   \n",
            "=================================================================\n",
            " input_8 (InputLayer)        [(None, 512, 512, 3)]     0         \n",
            "                                                                 \n",
            " data_aug_layer (Sequential)  (None, None, None, 3)    0         \n",
            "                                                                 \n",
            " resnet50v2 (Functional)     (None, None, None, 2048)  23564800  \n",
            "                                                                 \n",
            " global_average_pooling2d_3   (None, 2048)             0         \n",
            " (GlobalAveragePooling2D)                                        \n",
            "                                                                 \n",
            " dense_3 (Dense)             (None, 4)                 8196      \n",
            "                                                                 \n",
            "=================================================================\n",
            "Total params: 23,572,996\n",
            "Trainable params: 3,424,260\n",
            "Non-trainable params: 20,148,736\n",
            "_________________________________________________________________\n"
          ]
        }
      ]
    },
    {
      "cell_type": "code",
      "source": [
        "plot_loss_curves(history4)"
      ],
      "metadata": {
        "colab": {
          "base_uri": "https://localhost:8080/",
          "height": 927
        },
        "id": "ew2uAtJYt48X",
        "outputId": "06dc3776-5cff-41c2-c9fa-3a52e5b5e3a2"
      },
      "execution_count": null,
      "outputs": [
        {
          "output_type": "display_data",
          "data": {
            "text/plain": [
              "<Figure size 640x480 with 1 Axes>"
            ],
            "image/png": "[encoded data removed]"
          },
          "metadata": {}
        },
        {
          "output_type": "display_data",
          "data": {
            "text/plain": [
              "<Figure size 640x480 with 1 Axes>"
            ],
            "image/png": "[encoded data removed]"
          },
          "metadata": {}
        }
      ]
    },
    {
      "cell_type": "markdown",
      "source": [
        "Model 5 - top 20 trainable layers without data augmentation"
      ],
      "metadata": {
        "id": "pr-GRwVUtkjw"
      }
    },
    {
      "cell_type": "code",
      "source": [
        "base_model = tf.keras.applications.ResNet50V2(include_top=False)\n",
        "base_model.trainable = True\n",
        "\n",
        "# Freeze all layers except for the last 10\n",
        "for layer in base_model.layers[:-20]:\n",
        "  layer.trainable = False\n",
        "\n",
        "inputs = tf.keras.layers.Input(shape=(512, 512, 3))\n",
        "\n",
        "x = base_model(inputs)\n",
        "\n",
        "x = GlobalAveragePooling2D()(x)\n",
        "\n",
        "x = Dense(4, activation = 'softmax')(x)\n",
        "\n",
        "model1 = tf.keras.Model(inputs = inputs, outputs = x)"
      ],
      "metadata": {
        "id": "7JvzohJg3gQX"
      },
      "execution_count": null,
      "outputs": []
    },
    {
      "cell_type": "code",
      "source": [
        "model1.load_weights('model3_weights/checkpoints3.cktp')"
      ],
      "metadata": {
        "colab": {
          "base_uri": "https://localhost:8080/"
        },
        "id": "LF0nVfkg3qny",
        "outputId": "6b924b45-3217-4ec3-ce19-4255210fa6a7"
      },
      "execution_count": null,
      "outputs": [
        {
          "output_type": "execute_result",
          "data": {
            "text/plain": [
              "<tensorflow.python.checkpoint.checkpoint.CheckpointLoadStatus at 0x7fad983d0f10>"
            ]
          },
          "metadata": {},
          "execution_count": 60
        }
      ]
    },
    {
      "cell_type": "code",
      "source": [
        "model1.compile(loss=tf.keras.losses.categorical_crossentropy,\n",
        "               optimizer = tf.keras.optimizers.Adam(learning_rate=0.0001), # when fine tuning you typically lower the learning rate by some amount\n",
        "               metrics = ['accuracy'])"
      ],
      "metadata": {
        "id": "RM5W7F_51Xoo"
      },
      "execution_count": null,
      "outputs": []
    },
    {
      "cell_type": "code",
      "source": [
        "# fine tune for another 5 epochs\n",
        "fine_tune_epochs = 15 + 15 + 45\n",
        "history5 = model1.fit(train_data,\n",
        "                      epochs = fine_tune_epochs,\n",
        "           steps_per_epoch=len(train_data),\n",
        "           validation_data=valid_data,\n",
        "           validation_steps=len(valid_data),\n",
        "           callbacks=[create_tensorboard_callback(\"tensorflow_hub\", \"model5_EfficientNetB0\"), create_checkpoint(\"model5_weights/checkpoints5.cktp\")],\n",
        "           initial_epoch = 45)"
      ],
      "metadata": {
        "colab": {
          "base_uri": "https://localhost:8080/"
        },
        "id": "G1YBBLdm1Xl8",
        "outputId": "df95cb19-3f14-448a-8654-c1ffa508f396"
      },
      "execution_count": null,
      "outputs": [
        {
          "output_type": "stream",
          "name": "stdout",
          "text": [
            "saving TensorBoard log files to : tensorflow_hub/model5_EfficientNetB0\n",
            "Epoch 46/75\n",
            "18/18 [==============================] - ETA: 0s - loss: 1.3075 - accuracy: 0.3485\n",
            "Epoch 46: val_loss improved from inf to 12.96459, saving model to model5_weights/checkpoints5.cktp\n",
            "18/18 [==============================] - 27s 950ms/step - loss: 1.3075 - accuracy: 0.3485 - val_loss: 12.9646 - val_accuracy: 0.2500\n",
            "Epoch 47/75\n",
            "18/18 [==============================] - ETA: 0s - loss: 1.2367 - accuracy: 0.4063\n",
            "Epoch 47: val_loss improved from 12.96459 to 5.87890, saving model to model5_weights/checkpoints5.cktp\n",
            "18/18 [==============================] - 17s 745ms/step - loss: 1.2367 - accuracy: 0.4063 - val_loss: 5.8789 - val_accuracy: 0.2500\n",
            "Epoch 48/75\n",
            "18/18 [==============================] - ETA: 0s - loss: 1.1721 - accuracy: 0.4834\n",
            "Epoch 48: val_loss improved from 5.87890 to 4.05351, saving model to model5_weights/checkpoints5.cktp\n",
            "18/18 [==============================] - 17s 781ms/step - loss: 1.1721 - accuracy: 0.4834 - val_loss: 4.0535 - val_accuracy: 0.2500\n",
            "Epoch 49/75\n",
            "18/18 [==============================] - ETA: 0s - loss: 1.1547 - accuracy: 0.4816\n",
            "Epoch 49: val_loss improved from 4.05351 to 2.00304, saving model to model5_weights/checkpoints5.cktp\n",
            "18/18 [==============================] - 19s 833ms/step - loss: 1.1547 - accuracy: 0.4816 - val_loss: 2.0030 - val_accuracy: 0.2500\n",
            "Epoch 50/75\n",
            "18/18 [==============================] - ETA: 0s - loss: 1.1131 - accuracy: 0.5149\n",
            "Epoch 50: val_loss improved from 2.00304 to 1.63419, saving model to model5_weights/checkpoints5.cktp\n",
            "18/18 [==============================] - 16s 747ms/step - loss: 1.1131 - accuracy: 0.5149 - val_loss: 1.6342 - val_accuracy: 0.2688\n",
            "Epoch 51/75\n",
            "18/18 [==============================] - ETA: 0s - loss: 1.1190 - accuracy: 0.5044\n",
            "Epoch 51: val_loss improved from 1.63419 to 1.57843, saving model to model5_weights/checkpoints5.cktp\n",
            "18/18 [==============================] - 17s 748ms/step - loss: 1.1190 - accuracy: 0.5044 - val_loss: 1.5784 - val_accuracy: 0.3625\n",
            "Epoch 52/75\n",
            "18/18 [==============================] - ETA: 0s - loss: 1.0737 - accuracy: 0.5079\n",
            "Epoch 52: val_loss improved from 1.57843 to 1.56273, saving model to model5_weights/checkpoints5.cktp\n",
            "18/18 [==============================] - 17s 773ms/step - loss: 1.0737 - accuracy: 0.5079 - val_loss: 1.5627 - val_accuracy: 0.4000\n",
            "Epoch 53/75\n",
            "18/18 [==============================] - ETA: 0s - loss: 1.0549 - accuracy: 0.5464\n",
            "Epoch 53: val_loss did not improve from 1.56273\n",
            "18/18 [==============================] - 17s 750ms/step - loss: 1.0549 - accuracy: 0.5464 - val_loss: 1.5646 - val_accuracy: 0.3063\n",
            "Epoch 54/75\n",
            "18/18 [==============================] - ETA: 0s - loss: 1.0258 - accuracy: 0.5499\n",
            "Epoch 54: val_loss improved from 1.56273 to 1.55894, saving model to model5_weights/checkpoints5.cktp\n",
            "18/18 [==============================] - 16s 754ms/step - loss: 1.0258 - accuracy: 0.5499 - val_loss: 1.5589 - val_accuracy: 0.2937\n",
            "Epoch 55/75\n",
            "18/18 [==============================] - ETA: 0s - loss: 1.0018 - accuracy: 0.5709\n",
            "Epoch 55: val_loss did not improve from 1.55894\n",
            "18/18 [==============================] - 17s 746ms/step - loss: 1.0018 - accuracy: 0.5709 - val_loss: 1.5707 - val_accuracy: 0.2750\n",
            "Epoch 56/75\n",
            "18/18 [==============================] - ETA: 0s - loss: 0.9730 - accuracy: 0.5762\n",
            "Epoch 56: val_loss did not improve from 1.55894\n",
            "18/18 [==============================] - 16s 739ms/step - loss: 0.9730 - accuracy: 0.5762 - val_loss: 1.5630 - val_accuracy: 0.2688\n",
            "Epoch 57/75\n",
            "18/18 [==============================] - ETA: 0s - loss: 0.9652 - accuracy: 0.5709\n",
            "Epoch 57: val_loss did not improve from 1.55894\n",
            "18/18 [==============================] - 16s 706ms/step - loss: 0.9652 - accuracy: 0.5709 - val_loss: 1.5883 - val_accuracy: 0.2937\n",
            "Epoch 58/75\n",
            "18/18 [==============================] - ETA: 0s - loss: 0.9224 - accuracy: 0.6112\n",
            "Epoch 58: val_loss did not improve from 1.55894\n",
            "18/18 [==============================] - 17s 732ms/step - loss: 0.9224 - accuracy: 0.6112 - val_loss: 1.5879 - val_accuracy: 0.3187\n",
            "Epoch 59/75\n",
            "18/18 [==============================] - ETA: 0s - loss: 0.8833 - accuracy: 0.6322\n",
            "Epoch 59: val_loss did not improve from 1.55894\n",
            "18/18 [==============================] - 16s 740ms/step - loss: 0.8833 - accuracy: 0.6322 - val_loss: 1.5776 - val_accuracy: 0.3125\n",
            "Epoch 60/75\n",
            "18/18 [==============================] - ETA: 0s - loss: 0.8352 - accuracy: 0.6462\n",
            "Epoch 60: val_loss did not improve from 1.55894\n",
            "18/18 [==============================] - 16s 698ms/step - loss: 0.8352 - accuracy: 0.6462 - val_loss: 1.5888 - val_accuracy: 0.3125\n",
            "Epoch 61/75\n",
            "18/18 [==============================] - ETA: 0s - loss: 0.7742 - accuracy: 0.6953\n",
            "Epoch 61: val_loss did not improve from 1.55894\n",
            "18/18 [==============================] - 16s 746ms/step - loss: 0.7742 - accuracy: 0.6953 - val_loss: 1.5981 - val_accuracy: 0.3375\n",
            "Epoch 62/75\n",
            "18/18 [==============================] - ETA: 0s - loss: 0.7472 - accuracy: 0.7128\n",
            "Epoch 62: val_loss did not improve from 1.55894\n",
            "18/18 [==============================] - 17s 744ms/step - loss: 0.7472 - accuracy: 0.7128 - val_loss: 1.6073 - val_accuracy: 0.3500\n",
            "Epoch 63/75\n",
            "18/18 [==============================] - ETA: 0s - loss: 0.7072 - accuracy: 0.7128\n",
            "Epoch 63: val_loss did not improve from 1.55894\n",
            "18/18 [==============================] - 16s 702ms/step - loss: 0.7072 - accuracy: 0.7128 - val_loss: 1.6213 - val_accuracy: 0.3562\n",
            "Epoch 64/75\n",
            "18/18 [==============================] - ETA: 0s - loss: 0.7078 - accuracy: 0.7391\n",
            "Epoch 64: val_loss did not improve from 1.55894\n",
            "18/18 [==============================] - 16s 740ms/step - loss: 0.7078 - accuracy: 0.7391 - val_loss: 1.6124 - val_accuracy: 0.3812\n",
            "Epoch 65/75\n",
            "18/18 [==============================] - ETA: 0s - loss: 0.6456 - accuracy: 0.7513\n",
            "Epoch 65: val_loss did not improve from 1.55894\n",
            "18/18 [==============================] - 16s 701ms/step - loss: 0.6456 - accuracy: 0.7513 - val_loss: 1.6245 - val_accuracy: 0.3500\n",
            "Epoch 66/75\n",
            "18/18 [==============================] - ETA: 0s - loss: 0.6189 - accuracy: 0.7776\n",
            "Epoch 66: val_loss did not improve from 1.55894\n",
            "18/18 [==============================] - 16s 749ms/step - loss: 0.6189 - accuracy: 0.7776 - val_loss: 1.6352 - val_accuracy: 0.3812\n",
            "Epoch 67/75\n",
            "18/18 [==============================] - ETA: 0s - loss: 0.6045 - accuracy: 0.7671\n",
            "Epoch 67: val_loss did not improve from 1.55894\n",
            "18/18 [==============================] - 17s 741ms/step - loss: 0.6045 - accuracy: 0.7671 - val_loss: 1.6284 - val_accuracy: 0.3938\n",
            "Epoch 68/75\n",
            "18/18 [==============================] - ETA: 0s - loss: 0.5449 - accuracy: 0.7811\n",
            "Epoch 68: val_loss did not improve from 1.55894\n",
            "18/18 [==============================] - 16s 738ms/step - loss: 0.5449 - accuracy: 0.7811 - val_loss: 1.6463 - val_accuracy: 0.4000\n",
            "Epoch 69/75\n",
            "18/18 [==============================] - ETA: 0s - loss: 0.4945 - accuracy: 0.8196\n",
            "Epoch 69: val_loss did not improve from 1.55894\n",
            "18/18 [==============================] - 18s 767ms/step - loss: 0.4945 - accuracy: 0.8196 - val_loss: 1.6592 - val_accuracy: 0.4000\n",
            "Epoch 70/75\n",
            "18/18 [==============================] - ETA: 0s - loss: 0.4321 - accuracy: 0.8511\n",
            "Epoch 70: val_loss did not improve from 1.55894\n",
            "18/18 [==============================] - 16s 706ms/step - loss: 0.4321 - accuracy: 0.8511 - val_loss: 1.6637 - val_accuracy: 0.4000\n",
            "Epoch 71/75\n",
            "18/18 [==============================] - ETA: 0s - loss: 0.4295 - accuracy: 0.8459\n",
            "Epoch 71: val_loss did not improve from 1.55894\n",
            "18/18 [==============================] - 16s 719ms/step - loss: 0.4295 - accuracy: 0.8459 - val_loss: 1.6636 - val_accuracy: 0.4125\n",
            "Epoch 72/75\n",
            "18/18 [==============================] - ETA: 0s - loss: 0.4101 - accuracy: 0.8529\n",
            "Epoch 72: val_loss did not improve from 1.55894\n",
            "18/18 [==============================] - 16s 706ms/step - loss: 0.4101 - accuracy: 0.8529 - val_loss: 1.6753 - val_accuracy: 0.4000\n",
            "Epoch 73/75\n",
            "18/18 [==============================] - ETA: 0s - loss: 0.3535 - accuracy: 0.8967\n",
            "Epoch 73: val_loss did not improve from 1.55894\n",
            "18/18 [==============================] - 18s 833ms/step - loss: 0.3535 - accuracy: 0.8967 - val_loss: 1.6776 - val_accuracy: 0.4125\n",
            "Epoch 74/75\n",
            "18/18 [==============================] - ETA: 0s - loss: 0.3427 - accuracy: 0.8967\n",
            "Epoch 74: val_loss did not improve from 1.55894\n",
            "18/18 [==============================] - 16s 694ms/step - loss: 0.3427 - accuracy: 0.8967 - val_loss: 1.6846 - val_accuracy: 0.4062\n",
            "Epoch 75/75\n",
            "18/18 [==============================] - ETA: 0s - loss: 0.2859 - accuracy: 0.9299\n",
            "Epoch 75: val_loss did not improve from 1.55894\n",
            "18/18 [==============================] - 22s 1s/step - loss: 0.2859 - accuracy: 0.9299 - val_loss: 1.6925 - val_accuracy: 0.4125\n"
          ]
        }
      ]
    },
    {
      "cell_type": "code",
      "source": [
        "model1.evaluate(test_data)"
      ],
      "metadata": {
        "colab": {
          "base_uri": "https://localhost:8080/"
        },
        "id": "xBv6Sx3A1Xic",
        "outputId": "66778ee0-624b-4f96-98d7-85fc4e6619f6"
      },
      "execution_count": null,
      "outputs": [
        {
          "output_type": "stream",
          "name": "stdout",
          "text": [
            "8/8 [==============================] - 6s 414ms/step - loss: 1.4664 - accuracy: 0.3167\n"
          ]
        },
        {
          "output_type": "execute_result",
          "data": {
            "text/plain": [
              "[1.4664405584335327, 0.3166666626930237]"
            ]
          },
          "metadata": {},
          "execution_count": 63
        }
      ]
    },
    {
      "cell_type": "code",
      "source": [
        "model1.summary()"
      ],
      "metadata": {
        "colab": {
          "base_uri": "https://localhost:8080/"
        },
        "id": "a1etA8AA1XcS",
        "outputId": "f2299a28-32bb-44f9-e1a7-4d2a8cdb0e14"
      },
      "execution_count": null,
      "outputs": [
        {
          "output_type": "stream",
          "name": "stdout",
          "text": [
            "Model: \"model_7\"\n",
            "_________________________________________________________________\n",
            " Layer (type)                Output Shape              Param #   \n",
            "=================================================================\n",
            " input_16 (InputLayer)       [(None, 512, 512, 3)]     0         \n",
            "                                                                 \n",
            " resnet50v2 (Functional)     (None, None, None, 2048)  23564800  \n",
            "                                                                 \n",
            " global_average_pooling2d_7   (None, 2048)             0         \n",
            " (GlobalAveragePooling2D)                                        \n",
            "                                                                 \n",
            " dense_7 (Dense)             (None, 4)                 8196      \n",
            "                                                                 \n",
            "=================================================================\n",
            "Total params: 23,572,996\n",
            "Trainable params: 7,887,876\n",
            "Non-trainable params: 15,685,120\n",
            "_________________________________________________________________\n"
          ]
        }
      ]
    },
    {
      "cell_type": "code",
      "source": [
        "plot_loss_curves(history5)"
      ],
      "metadata": {
        "colab": {
          "base_uri": "https://localhost:8080/",
          "height": 927
        },
        "id": "zwRliuFT1XYP",
        "outputId": "5d54884a-6542-407c-cecb-62d5ae0c385b"
      },
      "execution_count": null,
      "outputs": [
        {
          "output_type": "display_data",
          "data": {
            "text/plain": [
              "<Figure size 640x480 with 1 Axes>"
            ],
            "image/png": "[encoded data removed]"
          },
          "metadata": {}
        },
        {
          "output_type": "display_data",
          "data": {
            "text/plain": [
              "<Figure size 640x480 with 1 Axes>"
            ],
            "image/png": "[encoded data removed]"
          },
          "metadata": {}
        }
      ]
    },
    {
      "cell_type": "markdown",
      "source": [
        "## Model 6 - top 20 trainable layers with data augmentation"
      ],
      "metadata": {
        "id": "myZHfTAAvhTl"
      }
    },
    {
      "cell_type": "code",
      "source": [
        "base_model = tf.keras.applications.ResNet50V2(include_top=False)\n",
        "base_model.trainable = True\n",
        "\n",
        "for layer in base_model.layers[:-20]:\n",
        "  layer.trainable = False\n",
        "\n",
        "inputs = tf.keras.layers.Input(shape = (512, 512, 3))\n",
        "\n",
        "x = data_aug_layer(inputs, training = True)\n",
        "x = base_model(x, training = False)\n",
        "\n",
        "x = GlobalAveragePooling2D()(x)\n",
        "\n",
        "outputs = tf.keras.layers.Dense(4, activation = 'softmax')(x)\n",
        "\n",
        "model2 = tf.keras.Model(inputs = inputs, outputs = outputs)"
      ],
      "metadata": {
        "id": "5lXGwNyIv_mR"
      },
      "execution_count": null,
      "outputs": []
    },
    {
      "cell_type": "code",
      "source": [
        "model2.load_weights(\"model4_weights/checkpoints4.cktp\")"
      ],
      "metadata": {
        "colab": {
          "base_uri": "https://localhost:8080/"
        },
        "id": "6MCtcny58Nlv",
        "outputId": "016edf4c-16a8-42a3-9ef9-c29c15787932"
      },
      "execution_count": null,
      "outputs": [
        {
          "output_type": "execute_result",
          "data": {
            "text/plain": [
              "<tensorflow.python.checkpoint.checkpoint.CheckpointLoadStatus at 0x7fad6847a970>"
            ]
          },
          "metadata": {},
          "execution_count": 67
        }
      ]
    },
    {
      "cell_type": "code",
      "source": [
        "model2.compile(loss=tf.keras.losses.categorical_crossentropy,\n",
        "               optimizer = tf.keras.optimizers.Adam(learning_rate=0.0001), # when fine tuning you typically lower the learning rate by some amount\n",
        "               metrics = ['accuracy'])"
      ],
      "metadata": {
        "id": "-Xo0qQXK8YNO"
      },
      "execution_count": null,
      "outputs": []
    },
    {
      "cell_type": "code",
      "source": [
        "# fine tune for another 5 epochs\n",
        "fine_tune_epochs = 15 + 15 + 45\n",
        "history6 = model2.fit(train_data,\n",
        "                      epochs = fine_tune_epochs,\n",
        "           steps_per_epoch=len(train_data),\n",
        "           validation_data=valid_data,\n",
        "           validation_steps=len(valid_data),\n",
        "           callbacks=[create_tensorboard_callback(\"tensorflow_hub\", \"model6_EfficientNetB0\"),create_checkpoint(\"model6_weights/checkpoints6.cktp\")],\n",
        "           initial_epoch = 30)"
      ],
      "metadata": {
        "colab": {
          "base_uri": "https://localhost:8080/"
        },
        "id": "Ku4aTdDf9J5f",
        "outputId": "d8a3b9ed-c375-48ea-c23f-a00ccfe71531"
      },
      "execution_count": null,
      "outputs": [
        {
          "output_type": "stream",
          "name": "stdout",
          "text": [
            "saving TensorBoard log files to : tensorflow_hub/model6_EfficientNetB0\n",
            "Epoch 31/75\n",
            "18/18 [==============================] - ETA: 0s - loss: 806.3002 - accuracy: 0.2609\n",
            "Epoch 31: val_loss improved from inf to 78.44003, saving model to model6_weights/checkpoints6.cktp\n",
            "18/18 [==============================] - 77s 4s/step - loss: 806.3002 - accuracy: 0.2609 - val_loss: 78.4400 - val_accuracy: 0.2500\n",
            "Epoch 32/75\n",
            "18/18 [==============================] - ETA: 0s - loss: 33.9624 - accuracy: 0.2312\n",
            "Epoch 32: val_loss improved from 78.44003 to 10.27190, saving model to model6_weights/checkpoints6.cktp\n",
            "18/18 [==============================] - 72s 4s/step - loss: 33.9624 - accuracy: 0.2312 - val_loss: 10.2719 - val_accuracy: 0.2562\n",
            "Epoch 33/75\n",
            "18/18 [==============================] - ETA: 0s - loss: 7.0573 - accuracy: 0.2434\n",
            "Epoch 33: val_loss improved from 10.27190 to 1.94555, saving model to model6_weights/checkpoints6.cktp\n",
            "18/18 [==============================] - 67s 4s/step - loss: 7.0573 - accuracy: 0.2434 - val_loss: 1.9456 - val_accuracy: 0.2375\n",
            "Epoch 34/75\n",
            "18/18 [==============================] - ETA: 0s - loss: 1.6006 - accuracy: 0.2942\n",
            "Epoch 34: val_loss improved from 1.94555 to 1.61687, saving model to model6_weights/checkpoints6.cktp\n",
            "18/18 [==============================] - 67s 4s/step - loss: 1.6006 - accuracy: 0.2942 - val_loss: 1.6169 - val_accuracy: 0.2937\n",
            "Epoch 35/75\n",
            "18/18 [==============================] - ETA: 0s - loss: 1.4643 - accuracy: 0.2557\n",
            "Epoch 35: val_loss improved from 1.61687 to 1.56530, saving model to model6_weights/checkpoints6.cktp\n",
            "18/18 [==============================] - 76s 4s/step - loss: 1.4643 - accuracy: 0.2557 - val_loss: 1.5653 - val_accuracy: 0.3438\n",
            "Epoch 36/75\n",
            "18/18 [==============================] - ETA: 0s - loss: 1.4263 - accuracy: 0.3170\n",
            "Epoch 36: val_loss improved from 1.56530 to 1.47498, saving model to model6_weights/checkpoints6.cktp\n",
            "18/18 [==============================] - 60s 3s/step - loss: 1.4263 - accuracy: 0.3170 - val_loss: 1.4750 - val_accuracy: 0.3438\n",
            "Epoch 37/75\n",
            "18/18 [==============================] - ETA: 0s - loss: 1.4154 - accuracy: 0.2855\n",
            "Epoch 37: val_loss did not improve from 1.47498\n",
            "18/18 [==============================] - 66s 4s/step - loss: 1.4154 - accuracy: 0.2855 - val_loss: 1.5966 - val_accuracy: 0.2562\n",
            "Epoch 38/75\n",
            "18/18 [==============================] - ETA: 0s - loss: 1.4803 - accuracy: 0.2785\n",
            "Epoch 38: val_loss did not improve from 1.47498\n",
            "18/18 [==============================] - 62s 3s/step - loss: 1.4803 - accuracy: 0.2785 - val_loss: 1.4870 - val_accuracy: 0.2375\n",
            "Epoch 39/75\n",
            "18/18 [==============================] - ETA: 0s - loss: 1.4566 - accuracy: 0.2907\n",
            "Epoch 39: val_loss did not improve from 1.47498\n",
            "18/18 [==============================] - 69s 4s/step - loss: 1.4566 - accuracy: 0.2907 - val_loss: 1.6241 - val_accuracy: 0.2812\n",
            "Epoch 40/75\n",
            "18/18 [==============================] - ETA: 0s - loss: 1.4009 - accuracy: 0.3100\n",
            "Epoch 40: val_loss did not improve from 1.47498\n",
            "18/18 [==============================] - 61s 3s/step - loss: 1.4009 - accuracy: 0.3100 - val_loss: 1.4796 - val_accuracy: 0.3688\n",
            "Epoch 41/75\n",
            "18/18 [==============================] - ETA: 0s - loss: 1.3656 - accuracy: 0.3398\n",
            "Epoch 41: val_loss improved from 1.47498 to 1.46870, saving model to model6_weights/checkpoints6.cktp\n",
            "18/18 [==============================] - 61s 3s/step - loss: 1.3656 - accuracy: 0.3398 - val_loss: 1.4687 - val_accuracy: 0.3375\n",
            "Epoch 42/75\n",
            "18/18 [==============================] - ETA: 0s - loss: 1.3711 - accuracy: 0.3485\n",
            "Epoch 42: val_loss improved from 1.46870 to 1.39357, saving model to model6_weights/checkpoints6.cktp\n",
            "18/18 [==============================] - 64s 3s/step - loss: 1.3711 - accuracy: 0.3485 - val_loss: 1.3936 - val_accuracy: 0.3562\n",
            "Epoch 43/75\n",
            "18/18 [==============================] - ETA: 0s - loss: 1.3999 - accuracy: 0.3275\n",
            "Epoch 43: val_loss did not improve from 1.39357\n",
            "18/18 [==============================] - 47s 2s/step - loss: 1.3999 - accuracy: 0.3275 - val_loss: 1.5115 - val_accuracy: 0.3438\n",
            "Epoch 44/75\n",
            "18/18 [==============================] - ETA: 0s - loss: 1.4030 - accuracy: 0.2750\n",
            "Epoch 44: val_loss did not improve from 1.39357\n",
            "18/18 [==============================] - 65s 3s/step - loss: 1.4030 - accuracy: 0.2750 - val_loss: 1.4531 - val_accuracy: 0.2438\n",
            "Epoch 45/75\n",
            "18/18 [==============================] - ETA: 0s - loss: 1.3989 - accuracy: 0.2942\n",
            "Epoch 45: val_loss did not improve from 1.39357\n",
            "18/18 [==============================] - 55s 3s/step - loss: 1.3989 - accuracy: 0.2942 - val_loss: 1.4382 - val_accuracy: 0.4375\n",
            "Epoch 46/75\n",
            "18/18 [==============================] - ETA: 0s - loss: 1.3578 - accuracy: 0.3310\n",
            "Epoch 46: val_loss improved from 1.39357 to 1.34187, saving model to model6_weights/checkpoints6.cktp\n",
            "18/18 [==============================] - 58s 3s/step - loss: 1.3578 - accuracy: 0.3310 - val_loss: 1.3419 - val_accuracy: 0.3562\n",
            "Epoch 47/75\n",
            "18/18 [==============================] - ETA: 0s - loss: 1.3650 - accuracy: 0.3363\n",
            "Epoch 47: val_loss did not improve from 1.34187\n",
            "18/18 [==============================] - 59s 3s/step - loss: 1.3650 - accuracy: 0.3363 - val_loss: 1.3837 - val_accuracy: 0.3375\n",
            "Epoch 48/75\n",
            "18/18 [==============================] - ETA: 0s - loss: 1.3435 - accuracy: 0.3310\n",
            "Epoch 48: val_loss did not improve from 1.34187\n",
            "18/18 [==============================] - 54s 3s/step - loss: 1.3435 - accuracy: 0.3310 - val_loss: 1.4782 - val_accuracy: 0.4250\n",
            "Epoch 49/75\n",
            "18/18 [==============================] - ETA: 0s - loss: 1.3037 - accuracy: 0.3888\n",
            "Epoch 49: val_loss improved from 1.34187 to 1.33571, saving model to model6_weights/checkpoints6.cktp\n",
            "18/18 [==============================] - 52s 3s/step - loss: 1.3037 - accuracy: 0.3888 - val_loss: 1.3357 - val_accuracy: 0.3750\n",
            "Epoch 50/75\n",
            "18/18 [==============================] - ETA: 0s - loss: 1.3071 - accuracy: 0.3660\n",
            "Epoch 50: val_loss did not improve from 1.33571\n",
            "18/18 [==============================] - 54s 3s/step - loss: 1.3071 - accuracy: 0.3660 - val_loss: 1.4653 - val_accuracy: 0.2750\n",
            "Epoch 51/75\n",
            "18/18 [==============================] - ETA: 0s - loss: 1.3642 - accuracy: 0.3713\n",
            "Epoch 51: val_loss did not improve from 1.33571\n",
            "18/18 [==============================] - 62s 3s/step - loss: 1.3642 - accuracy: 0.3713 - val_loss: 1.4265 - val_accuracy: 0.3313\n",
            "Epoch 52/75\n",
            "18/18 [==============================] - ETA: 0s - loss: 1.4061 - accuracy: 0.3222\n",
            "Epoch 52: val_loss did not improve from 1.33571\n",
            "18/18 [==============================] - 55s 3s/step - loss: 1.4061 - accuracy: 0.3222 - val_loss: 1.6272 - val_accuracy: 0.3375\n",
            "Epoch 53/75\n",
            "18/18 [==============================] - ETA: 0s - loss: 1.3363 - accuracy: 0.3485\n",
            "Epoch 53: val_loss improved from 1.33571 to 1.32563, saving model to model6_weights/checkpoints6.cktp\n",
            "18/18 [==============================] - 47s 2s/step - loss: 1.3363 - accuracy: 0.3485 - val_loss: 1.3256 - val_accuracy: 0.4437\n",
            "Epoch 54/75\n",
            "18/18 [==============================] - ETA: 0s - loss: 1.2791 - accuracy: 0.3975\n",
            "Epoch 54: val_loss did not improve from 1.32563\n",
            "18/18 [==============================] - 51s 3s/step - loss: 1.2791 - accuracy: 0.3975 - val_loss: 1.3355 - val_accuracy: 0.3562\n",
            "Epoch 55/75\n",
            "18/18 [==============================] - ETA: 0s - loss: 1.3613 - accuracy: 0.3100\n",
            "Epoch 55: val_loss did not improve from 1.32563\n",
            "18/18 [==============================] - 60s 3s/step - loss: 1.3613 - accuracy: 0.3100 - val_loss: 1.4964 - val_accuracy: 0.2812\n",
            "Epoch 56/75\n",
            "18/18 [==============================] - ETA: 0s - loss: 1.3803 - accuracy: 0.3117\n",
            "Epoch 56: val_loss did not improve from 1.32563\n",
            "18/18 [==============================] - 54s 3s/step - loss: 1.3803 - accuracy: 0.3117 - val_loss: 1.3611 - val_accuracy: 0.4563\n",
            "Epoch 57/75\n",
            "18/18 [==============================] - ETA: 0s - loss: 1.3568 - accuracy: 0.3468\n",
            "Epoch 57: val_loss did not improve from 1.32563\n",
            "18/18 [==============================] - 59s 3s/step - loss: 1.3568 - accuracy: 0.3468 - val_loss: 1.4120 - val_accuracy: 0.2562\n",
            "Epoch 58/75\n",
            "18/18 [==============================] - ETA: 0s - loss: 1.3063 - accuracy: 0.3853\n",
            "Epoch 58: val_loss did not improve from 1.32563\n",
            "18/18 [==============================] - 52s 3s/step - loss: 1.3063 - accuracy: 0.3853 - val_loss: 1.4458 - val_accuracy: 0.2812\n",
            "Epoch 59/75\n",
            "18/18 [==============================] - ETA: 0s - loss: 1.3301 - accuracy: 0.3275\n",
            "Epoch 59: val_loss did not improve from 1.32563\n",
            "18/18 [==============================] - 49s 3s/step - loss: 1.3301 - accuracy: 0.3275 - val_loss: 1.3368 - val_accuracy: 0.3187\n",
            "Epoch 60/75\n",
            "18/18 [==============================] - ETA: 0s - loss: 1.3365 - accuracy: 0.3222\n",
            "Epoch 60: val_loss did not improve from 1.32563\n",
            "18/18 [==============================] - 48s 3s/step - loss: 1.3365 - accuracy: 0.3222 - val_loss: 1.3381 - val_accuracy: 0.4313\n",
            "Epoch 61/75\n",
            "18/18 [==============================] - ETA: 0s - loss: 1.3419 - accuracy: 0.3538\n",
            "Epoch 61: val_loss did not improve from 1.32563\n",
            "18/18 [==============================] - 52s 3s/step - loss: 1.3419 - accuracy: 0.3538 - val_loss: 1.3830 - val_accuracy: 0.3562\n",
            "Epoch 62/75\n",
            "18/18 [==============================] - ETA: 0s - loss: 1.2805 - accuracy: 0.3695\n",
            "Epoch 62: val_loss did not improve from 1.32563\n",
            "18/18 [==============================] - 52s 3s/step - loss: 1.2805 - accuracy: 0.3695 - val_loss: 1.5414 - val_accuracy: 0.3438\n",
            "Epoch 63/75\n",
            "18/18 [==============================] - ETA: 0s - loss: 1.2931 - accuracy: 0.3590\n",
            "Epoch 63: val_loss did not improve from 1.32563\n",
            "18/18 [==============================] - 48s 2s/step - loss: 1.2931 - accuracy: 0.3590 - val_loss: 1.3478 - val_accuracy: 0.3250\n",
            "Epoch 64/75\n",
            "18/18 [==============================] - ETA: 0s - loss: 1.3231 - accuracy: 0.3468\n",
            "Epoch 64: val_loss did not improve from 1.32563\n",
            "18/18 [==============================] - 48s 3s/step - loss: 1.3231 - accuracy: 0.3468 - val_loss: 1.3447 - val_accuracy: 0.2500\n",
            "Epoch 65/75\n",
            "18/18 [==============================] - ETA: 0s - loss: 1.2709 - accuracy: 0.3678\n",
            "Epoch 65: val_loss did not improve from 1.32563\n",
            "18/18 [==============================] - 53s 3s/step - loss: 1.2709 - accuracy: 0.3678 - val_loss: 1.5169 - val_accuracy: 0.4437\n",
            "Epoch 66/75\n",
            "18/18 [==============================] - ETA: 0s - loss: 1.2837 - accuracy: 0.3958\n",
            "Epoch 66: val_loss did not improve from 1.32563\n",
            "18/18 [==============================] - 58s 3s/step - loss: 1.2837 - accuracy: 0.3958 - val_loss: 1.3851 - val_accuracy: 0.4625\n",
            "Epoch 67/75\n",
            "18/18 [==============================] - ETA: 0s - loss: 1.2887 - accuracy: 0.3975\n",
            "Epoch 67: val_loss did not improve from 1.32563\n",
            "18/18 [==============================] - 50s 3s/step - loss: 1.2887 - accuracy: 0.3975 - val_loss: 1.5140 - val_accuracy: 0.3375\n",
            "Epoch 68/75\n",
            "18/18 [==============================] - ETA: 0s - loss: 1.2581 - accuracy: 0.4098\n",
            "Epoch 68: val_loss did not improve from 1.32563\n",
            "18/18 [==============================] - 42s 2s/step - loss: 1.2581 - accuracy: 0.4098 - val_loss: 1.3439 - val_accuracy: 0.3250\n",
            "Epoch 69/75\n",
            "18/18 [==============================] - ETA: 0s - loss: 1.2914 - accuracy: 0.3923\n",
            "Epoch 69: val_loss did not improve from 1.32563\n",
            "18/18 [==============================] - 44s 2s/step - loss: 1.2914 - accuracy: 0.3923 - val_loss: 1.3581 - val_accuracy: 0.2375\n",
            "Epoch 70/75\n",
            "18/18 [==============================] - ETA: 0s - loss: 1.3086 - accuracy: 0.3520\n",
            "Epoch 70: val_loss did not improve from 1.32563\n",
            "18/18 [==============================] - 49s 3s/step - loss: 1.3086 - accuracy: 0.3520 - val_loss: 1.3526 - val_accuracy: 0.4125\n",
            "Epoch 71/75\n",
            "18/18 [==============================] - ETA: 0s - loss: 1.3009 - accuracy: 0.4011\n",
            "Epoch 71: val_loss did not improve from 1.32563\n",
            "18/18 [==============================] - 52s 3s/step - loss: 1.3009 - accuracy: 0.4011 - val_loss: 1.5244 - val_accuracy: 0.4750\n",
            "Epoch 72/75\n",
            "18/18 [==============================] - ETA: 0s - loss: 1.2953 - accuracy: 0.3958\n",
            "Epoch 72: val_loss did not improve from 1.32563\n",
            "18/18 [==============================] - 44s 2s/step - loss: 1.2953 - accuracy: 0.3958 - val_loss: 1.4991 - val_accuracy: 0.2812\n",
            "Epoch 73/75\n",
            "18/18 [==============================] - ETA: 0s - loss: 1.2913 - accuracy: 0.3590\n",
            "Epoch 73: val_loss did not improve from 1.32563\n",
            "18/18 [==============================] - 49s 3s/step - loss: 1.2913 - accuracy: 0.3590 - val_loss: 1.3827 - val_accuracy: 0.3438\n",
            "Epoch 74/75\n",
            "18/18 [==============================] - ETA: 0s - loss: 1.3208 - accuracy: 0.3608\n",
            "Epoch 74: val_loss did not improve from 1.32563\n",
            "18/18 [==============================] - 55s 3s/step - loss: 1.3208 - accuracy: 0.3608 - val_loss: 1.4385 - val_accuracy: 0.3812\n",
            "Epoch 75/75\n",
            "18/18 [==============================] - ETA: 0s - loss: 1.2715 - accuracy: 0.3835"
          ]
        }
      ]
    },
    {
      "cell_type": "code",
      "source": [
        "model2.summary()"
      ],
      "metadata": {
        "id": "dRY-Fint9gyL"
      },
      "execution_count": null,
      "outputs": []
    },
    {
      "cell_type": "markdown",
      "source": [
        "## DenseNet"
      ],
      "metadata": {
        "id": "yz5VbuIvjMTt"
      }
    },
    {
      "cell_type": "code",
      "source": [
        "import tensorflow as tf"
      ],
      "metadata": {
        "id": "TS0nMwYHjPzE"
      },
      "execution_count": null,
      "outputs": []
    },
    {
      "cell_type": "code",
      "source": [
        "from tensorflow.keras.layers import Flatten, BatchNormalization, Activation, Dropout, Dense\n",
        "from tensorflow.keras.applications import DenseNet121"
      ],
      "metadata": {
        "id": "m9H99TpGjVpr"
      },
      "execution_count": null,
      "outputs": []
    },
    {
      "cell_type": "code",
      "source": [
        "model12 = tf.keras.Sequential()\n",
        "model12.add(DenseNet121(input_shape=(512,512,3),include_top=False,weights=None))\n",
        "model12.add(Flatten())\n",
        "model12.add(BatchNormalization())\n",
        "model12.add(Dense(64,kernel_initializer='he_uniform'))\n",
        "model12.add(BatchNormalization())\n",
        "model12.add(Activation('relu'))\n",
        "model12.add(Dropout(0.5))\n",
        "model12.add(Dense(128,kernel_initializer='he_uniform'))\n",
        "model12.add(BatchNormalization())\n",
        "model12.add(Activation('relu'))\n",
        "model12.add(Dropout(0.5))\n",
        "model12.add(Dense(256,kernel_initializer='he_uniform'))\n",
        "model12.add(BatchNormalization())\n",
        "model12.add(Activation('relu'))\n",
        "model12.add(Dropout(0.5))\n",
        "model12.add(Dense(64,kernel_initializer='he_uniform'))\n",
        "model12.add(BatchNormalization())\n",
        "model12.add(Activation('relu'))\n",
        "model12.add(Dropout(0.5))\n",
        "model12.add(Dense(32,kernel_initializer='he_uniform'))\n",
        "model12.add(BatchNormalization())\n",
        "model12.add(Activation('relu'))\n",
        "model12.add(Dropout(0.5))\n",
        "# Creating an output layer\n",
        "model12.add(Dense(units= 4, activation='softmax'))\n"
      ],
      "metadata": {
        "id": "8pHGEUaJ9i8z"
      },
      "execution_count": null,
      "outputs": []
    },
    {
      "cell_type": "code",
      "source": [
        "model12.summary()"
      ],
      "metadata": {
        "colab": {
          "base_uri": "https://localhost:8080/"
        },
        "id": "6iGeUNA9jw8G",
        "outputId": "f56fcbbf-2e2a-4aa6-d85c-ceca83d67233"
      },
      "execution_count": null,
      "outputs": [
        {
          "output_type": "stream",
          "name": "stdout",
          "text": [
            "Model: \"sequential_7\"\n",
            "_________________________________________________________________\n",
            " Layer (type)                Output Shape              Param #   \n",
            "=================================================================\n",
            " densenet121 (Functional)    (None, 16, 16, 1024)      7037504   \n",
            "                                                                 \n",
            " flatten_6 (Flatten)         (None, 262144)            0         \n",
            "                                                                 \n",
            " batch_normalization_31 (Bat  (None, 262144)           1048576   \n",
            " chNormalization)                                                \n",
            "                                                                 \n",
            " dense_30 (Dense)            (None, 64)                16777280  \n",
            "                                                                 \n",
            " batch_normalization_32 (Bat  (None, 64)               256       \n",
            " chNormalization)                                                \n",
            "                                                                 \n",
            " activation_25 (Activation)  (None, 64)                0         \n",
            "                                                                 \n",
            " dropout_25 (Dropout)        (None, 64)                0         \n",
            "                                                                 \n",
            " dense_31 (Dense)            (None, 128)               8320      \n",
            "                                                                 \n",
            " batch_normalization_33 (Bat  (None, 128)              512       \n",
            " chNormalization)                                                \n",
            "                                                                 \n",
            " activation_26 (Activation)  (None, 128)               0         \n",
            "                                                                 \n",
            " dropout_26 (Dropout)        (None, 128)               0         \n",
            "                                                                 \n",
            " dense_32 (Dense)            (None, 256)               33024     \n",
            "                                                                 \n",
            " batch_normalization_34 (Bat  (None, 256)              1024      \n",
            " chNormalization)                                                \n",
            "                                                                 \n",
            " activation_27 (Activation)  (None, 256)               0         \n",
            "                                                                 \n",
            " dropout_27 (Dropout)        (None, 256)               0         \n",
            "                                                                 \n",
            " dense_33 (Dense)            (None, 64)                16448     \n",
            "                                                                 \n",
            " batch_normalization_35 (Bat  (None, 64)               256       \n",
            " chNormalization)                                                \n",
            "                                                                 \n",
            " activation_28 (Activation)  (None, 64)                0         \n",
            "                                                                 \n",
            " dropout_28 (Dropout)        (None, 64)                0         \n",
            "                                                                 \n",
            " dense_34 (Dense)            (None, 32)                2080      \n",
            "                                                                 \n",
            " batch_normalization_36 (Bat  (None, 32)               128       \n",
            " chNormalization)                                                \n",
            "                                                                 \n",
            " activation_29 (Activation)  (None, 32)                0         \n",
            "                                                                 \n",
            " dropout_29 (Dropout)        (None, 32)                0         \n",
            "                                                                 \n",
            " dense_35 (Dense)            (None, 4)                 132       \n",
            "                                                                 \n",
            "=================================================================\n",
            "Total params: 24,925,540\n",
            "Trainable params: 24,316,516\n",
            "Non-trainable params: 609,024\n",
            "_________________________________________________________________\n"
          ]
        }
      ]
    },
    {
      "cell_type": "code",
      "source": [
        "model12.compile(loss = tf.keras.losses.categorical_crossentropy,\n",
        "              optimizer = tf.keras.optimizers.Adam(),\n",
        "              metrics = ['accuracy'])\n",
        "history7 = model12.fit(train_data,\n",
        "                      epochs = 15,\n",
        "           steps_per_epoch=len(train_data),\n",
        "           validation_data=valid_data,\n",
        "           validation_steps=len(valid_data),\n",
        "           )"
      ],
      "metadata": {
        "colab": {
          "base_uri": "https://localhost:8080/",
          "height": 1000
        },
        "id": "sNqnXmR9kPxr",
        "outputId": "1e624155-53fe-44ca-d020-e007b1b928b5"
      },
      "execution_count": null,
      "outputs": [
        {
          "output_type": "stream",
          "name": "stdout",
          "text": [
            "Epoch 1/15\n"
          ]
        },
        {
          "output_type": "error",
          "ename": "ResourceExhaustedError",
          "evalue": "ignored",
          "traceback": [
            "\u001b[0;31m---------------------------------------------------------------------------\u001b[0m",
            "\u001b[0;31mResourceExhaustedError\u001b[0m                    Traceback (most recent call last)",
            "\u001b[0;32m<ipython-input-52-73fff293568a>\u001b[0m in \u001b[0;36m<cell line: 4>\u001b[0;34m()\u001b[0m\n\u001b[1;32m      2\u001b[0m               \u001b[0moptimizer\u001b[0m \u001b[0;34m=\u001b[0m \u001b[0mtf\u001b[0m\u001b[0;34m.\u001b[0m\u001b[0mkeras\u001b[0m\u001b[0;34m.\u001b[0m\u001b[0moptimizers\u001b[0m\u001b[0;34m.\u001b[0m\u001b[0mAdam\u001b[0m\u001b[0;34m(\u001b[0m\u001b[0;34m)\u001b[0m\u001b[0;34m,\u001b[0m\u001b[0;34m\u001b[0m\u001b[0;34m\u001b[0m\u001b[0m\n\u001b[1;32m      3\u001b[0m               metrics = ['accuracy'])\n\u001b[0;32m----> 4\u001b[0;31m history7 = model12.fit(train_data,\n\u001b[0m\u001b[1;32m      5\u001b[0m                       \u001b[0mepochs\u001b[0m \u001b[0;34m=\u001b[0m \u001b[0;36m15\u001b[0m\u001b[0;34m,\u001b[0m\u001b[0;34m\u001b[0m\u001b[0;34m\u001b[0m\u001b[0m\n\u001b[1;32m      6\u001b[0m            \u001b[0msteps_per_epoch\u001b[0m\u001b[0;34m=\u001b[0m\u001b[0mlen\u001b[0m\u001b[0;34m(\u001b[0m\u001b[0mtrain_data\u001b[0m\u001b[0;34m)\u001b[0m\u001b[0;34m,\u001b[0m\u001b[0;34m\u001b[0m\u001b[0;34m\u001b[0m\u001b[0m\n",
            "\u001b[0;32m/usr/local/lib/python3.9/dist-packages/keras/utils/traceback_utils.py\u001b[0m in \u001b[0;36merror_handler\u001b[0;34m(*args, **kwargs)\u001b[0m\n\u001b[1;32m     68\u001b[0m             \u001b[0;31m# To get the full stack trace, call:\u001b[0m\u001b[0;34m\u001b[0m\u001b[0;34m\u001b[0m\u001b[0m\n\u001b[1;32m     69\u001b[0m             \u001b[0;31m# `tf.debugging.disable_traceback_filtering()`\u001b[0m\u001b[0;34m\u001b[0m\u001b[0;34m\u001b[0m\u001b[0m\n\u001b[0;32m---> 70\u001b[0;31m             \u001b[0;32mraise\u001b[0m \u001b[0me\u001b[0m\u001b[0;34m.\u001b[0m\u001b[0mwith_traceback\u001b[0m\u001b[0;34m(\u001b[0m\u001b[0mfiltered_tb\u001b[0m\u001b[0;34m)\u001b[0m \u001b[0;32mfrom\u001b[0m \u001b[0;32mNone\u001b[0m\u001b[0;34m\u001b[0m\u001b[0;34m\u001b[0m\u001b[0m\n\u001b[0m\u001b[1;32m     71\u001b[0m         \u001b[0;32mfinally\u001b[0m\u001b[0;34m:\u001b[0m\u001b[0;34m\u001b[0m\u001b[0;34m\u001b[0m\u001b[0m\n\u001b[1;32m     72\u001b[0m             \u001b[0;32mdel\u001b[0m \u001b[0mfiltered_tb\u001b[0m\u001b[0;34m\u001b[0m\u001b[0;34m\u001b[0m\u001b[0m\n",
            "\u001b[0;32m/usr/local/lib/python3.9/dist-packages/tensorflow/python/eager/execute.py\u001b[0m in \u001b[0;36mquick_execute\u001b[0;34m(op_name, num_outputs, inputs, attrs, ctx, name)\u001b[0m\n\u001b[1;32m     50\u001b[0m   \u001b[0;32mtry\u001b[0m\u001b[0;34m:\u001b[0m\u001b[0;34m\u001b[0m\u001b[0;34m\u001b[0m\u001b[0m\n\u001b[1;32m     51\u001b[0m     \u001b[0mctx\u001b[0m\u001b[0;34m.\u001b[0m\u001b[0mensure_initialized\u001b[0m\u001b[0;34m(\u001b[0m\u001b[0;34m)\u001b[0m\u001b[0;34m\u001b[0m\u001b[0;34m\u001b[0m\u001b[0m\n\u001b[0;32m---> 52\u001b[0;31m     tensors = pywrap_tfe.TFE_Py_Execute(ctx._handle, device_name, op_name,\n\u001b[0m\u001b[1;32m     53\u001b[0m                                         inputs, attrs, num_outputs)\n\u001b[1;32m     54\u001b[0m   \u001b[0;32mexcept\u001b[0m \u001b[0mcore\u001b[0m\u001b[0;34m.\u001b[0m\u001b[0m_NotOkStatusException\u001b[0m \u001b[0;32mas\u001b[0m \u001b[0me\u001b[0m\u001b[0;34m:\u001b[0m\u001b[0;34m\u001b[0m\u001b[0;34m\u001b[0m\u001b[0m\n",
            "\u001b[0;31mResourceExhaustedError\u001b[0m: Graph execution error:\n\nDetected at node 'sequential_7/densenet121/conv3_block8_concat/concat' defined at (most recent call last):\n    File \"/usr/lib/python3.9/runpy.py\", line 197, in _run_module_as_main\n      return _run_code(code, main_globals, None,\n    File \"/usr/lib/python3.9/runpy.py\", line 87, in _run_code\n      exec(code, run_globals)\n    File \"/usr/local/lib/python3.9/dist-packages/ipykernel_launcher.py\", line 16, in <module>\n      app.launch_new_instance()\n    File \"/usr/local/lib/python3.9/dist-packages/traitlets/config/application.py\", line 992, in launch_instance\n      app.start()\n    File \"/usr/local/lib/python3.9/dist-packages/ipykernel/kernelapp.py\", line 619, in start\n      self.io_loop.start()\n    File \"/usr/local/lib/python3.9/dist-packages/tornado/platform/asyncio.py\", line 215, in start\n      self.asyncio_loop.run_forever()\n    File \"/usr/lib/python3.9/asyncio/base_events.py\", line 601, in run_forever\n      self._run_once()\n    File \"/usr/lib/python3.9/asyncio/base_events.py\", line 1905, in _run_once\n      handle._run()\n    File \"/usr/lib/python3.9/asyncio/events.py\", line 80, in _run\n      self._context.run(self._callback, *self._args)\n    File \"/usr/local/lib/python3.9/dist-packages/tornado/ioloop.py\", line 687, in <lambda>\n      lambda f: self._run_callback(functools.partial(callback, future))\n    File \"/usr/local/lib/python3.9/dist-packages/tornado/ioloop.py\", line 740, in _run_callback\n      ret = callback()\n    File \"/usr/local/lib/python3.9/dist-packages/tornado/gen.py\", line 821, in inner\n      self.ctx_run(self.run)\n    File \"/usr/local/lib/python3.9/dist-packages/tornado/gen.py\", line 782, in run\n      yielded = self.gen.send(value)\n    File \"/usr/local/lib/python3.9/dist-packages/ipykernel/kernelbase.py\", line 361, in process_one\n      yield gen.maybe_future(dispatch(*args))\n    File \"/usr/local/lib/python3.9/dist-packages/tornado/gen.py\", line 234, in wrapper\n      yielded = ctx_run(next, result)\n    File \"/usr/local/lib/python3.9/dist-packages/ipykernel/kernelbase.py\", line 261, in dispatch_shell\n      yield gen.maybe_future(handler(stream, idents, msg))\n    File \"/usr/local/lib/python3.9/dist-packages/tornado/gen.py\", line 234, in wrapper\n      yielded = ctx_run(next, result)\n    File \"/usr/local/lib/python3.9/dist-packages/ipykernel/kernelbase.py\", line 539, in execute_request\n      self.do_execute(\n    File \"/usr/local/lib/python3.9/dist-packages/tornado/gen.py\", line 234, in wrapper\n      yielded = ctx_run(next, result)\n    File \"/usr/local/lib/python3.9/dist-packages/ipykernel/ipkernel.py\", line 302, in do_execute\n      res = shell.run_cell(code, store_history=store_history, silent=silent)\n    File \"/usr/local/lib/python3.9/dist-packages/ipykernel/zmqshell.py\", line 539, in run_cell\n      return super(ZMQInteractiveShell, self).run_cell(*args, **kwargs)\n    File \"/usr/local/lib/python3.9/dist-packages/IPython/core/interactiveshell.py\", line 2975, in run_cell\n      result = self._run_cell(\n    File \"/usr/local/lib/python3.9/dist-packages/IPython/core/interactiveshell.py\", line 3030, in _run_cell\n      return runner(coro)\n    File \"/usr/local/lib/python3.9/dist-packages/IPython/core/async_helpers.py\", line 78, in _pseudo_sync_runner\n      coro.send(None)\n    File \"/usr/local/lib/python3.9/dist-packages/IPython/core/interactiveshell.py\", line 3257, in run_cell_async\n      has_raised = await self.run_ast_nodes(code_ast.body, cell_name,\n    File \"/usr/local/lib/python3.9/dist-packages/IPython/core/interactiveshell.py\", line 3473, in run_ast_nodes\n      if (await self.run_code(code, result,  async_=asy)):\n    File \"/usr/local/lib/python3.9/dist-packages/IPython/core/interactiveshell.py\", line 3553, in run_code\n      exec(code_obj, self.user_global_ns, self.user_ns)\n    File \"<ipython-input-52-73fff293568a>\", line 4, in <cell line: 4>\n      history7 = model12.fit(train_data,\n    File \"/usr/local/lib/python3.9/dist-packages/keras/utils/traceback_utils.py\", line 65, in error_handler\n      return fn(*args, **kwargs)\n    File \"/usr/local/lib/python3.9/dist-packages/keras/engine/training.py\", line 1685, in fit\n      tmp_logs = self.train_function(iterator)\n    File \"/usr/local/lib/python3.9/dist-packages/keras/engine/training.py\", line 1284, in train_function\n      return step_function(self, iterator)\n    File \"/usr/local/lib/python3.9/dist-packages/keras/engine/training.py\", line 1268, in step_function\n      outputs = model.distribute_strategy.run(run_step, args=(data,))\n    File \"/usr/local/lib/python3.9/dist-packages/keras/engine/training.py\", line 1249, in run_step\n      outputs = model.train_step(data)\n    File \"/usr/local/lib/python3.9/dist-packages/keras/engine/training.py\", line 1050, in train_step\n      y_pred = self(x, training=True)\n    File \"/usr/local/lib/python3.9/dist-packages/keras/utils/traceback_utils.py\", line 65, in error_handler\n      return fn(*args, **kwargs)\n    File \"/usr/local/lib/python3.9/dist-packages/keras/engine/training.py\", line 558, in __call__\n      return super().__call__(*args, **kwargs)\n    File \"/usr/local/lib/python3.9/dist-packages/keras/utils/traceback_utils.py\", line 65, in error_handler\n      return fn(*args, **kwargs)\n    File \"/usr/local/lib/python3.9/dist-packages/keras/engine/base_layer.py\", line 1145, in __call__\n      outputs = call_fn(inputs, *args, **kwargs)\n    File \"/usr/local/lib/python3.9/dist-packages/keras/utils/traceback_utils.py\", line 96, in error_handler\n      return fn(*args, **kwargs)\n    File \"/usr/local/lib/python3.9/dist-packages/keras/engine/sequential.py\", line 412, in call\n      return super().call(inputs, training=training, mask=mask)\n    File \"/usr/local/lib/python3.9/dist-packages/keras/engine/functional.py\", line 512, in call\n      return self._run_internal_graph(inputs, training=training, mask=mask)\n    File \"/usr/local/lib/python3.9/dist-packages/keras/engine/functional.py\", line 669, in _run_internal_graph\n      outputs = node.layer(*args, **kwargs)\n    File \"/usr/local/lib/python3.9/dist-packages/keras/utils/traceback_utils.py\", line 65, in error_handler\n      return fn(*args, **kwargs)\n    File \"/usr/local/lib/python3.9/dist-packages/keras/engine/training.py\", line 558, in __call__\n      return super().__call__(*args, **kwargs)\n    File \"/usr/local/lib/python3.9/dist-packages/keras/utils/traceback_utils.py\", line 65, in error_handler\n      return fn(*args, **kwargs)\n    File \"/usr/local/lib/python3.9/dist-packages/keras/engine/base_layer.py\", line 1145, in __call__\n      outputs = call_fn(inputs, *args, **kwargs)\n    File \"/usr/local/lib/python3.9/dist-packages/keras/utils/traceback_utils.py\", line 96, in error_handler\n      return fn(*args, **kwargs)\n    File \"/usr/local/lib/python3.9/dist-packages/keras/engine/functional.py\", line 512, in call\n      return self._run_internal_graph(inputs, training=training, mask=mask)\n    File \"/usr/local/lib/python3.9/dist-packages/keras/engine/functional.py\", line 669, in _run_internal_graph\n      outputs = node.layer(*args, **kwargs)\n    File \"/usr/local/lib/python3.9/dist-packages/keras/utils/traceback_utils.py\", line 65, in error_handler\n      return fn(*args, **kwargs)\n    File \"/usr/local/lib/python3.9/dist-packages/keras/engine/base_layer.py\", line 1145, in __call__\n      outputs = call_fn(inputs, *args, **kwargs)\n    File \"/usr/local/lib/python3.9/dist-packages/keras/utils/traceback_utils.py\", line 96, in error_handler\n      return fn(*args, **kwargs)\n    File \"/usr/local/lib/python3.9/dist-packages/keras/layers/merging/base_merge.py\", line 196, in call\n      return self._merge_function(inputs)\n    File \"/usr/local/lib/python3.9/dist-packages/keras/layers/merging/concatenate.py\", line 134, in _merge_function\n      return backend.concatenate(inputs, axis=self.axis)\n    File \"/usr/local/lib/python3.9/dist-packages/keras/backend.py\", line 3581, in concatenate\n      return tf.concat([to_dense(x) for x in tensors], axis)\nNode: 'sequential_7/densenet121/conv3_block8_concat/concat'\nOOM when allocating tensor with shape[32,384,64,64] and type float on /job:localhost/replica:0/task:0/device:GPU:0 by allocator GPU_0_bfc\n\t [[{{node sequential_7/densenet121/conv3_block8_concat/concat}}]]\nHint: If you want to see a list of allocated tensors when OOM happens, add report_tensor_allocations_upon_oom to RunOptions for current allocation info. This isn't available when running in Eager mode.\n [Op:__inference_train_function_281881]"
          ]
        }
      ]
    },
    {
      "cell_type": "code",
      "source": [
        "base_model = tf.keras.applications.DenseNet121(include_top=False)\n",
        "base_model.trainable = True\n",
        "\n",
        "for layer in base_model.layers[:-100]:\n",
        "  layer.trainable = False\n",
        "\n",
        "inputs = tf.keras.layers.Input(shape=(512, 512, 3))\n",
        "\n",
        "x = base_model(inputs)\n",
        "x = Flatten()(x)\n",
        "x = Dropout(0.5)(x)\n",
        "x = Dense(4, activation = 'softmax')(x)\n",
        "\n",
        "model3 = tf.keras.Model(inputs = inputs, outputs = x)"
      ],
      "metadata": {
        "colab": {
          "base_uri": "https://localhost:8080/",
          "height": 289
        },
        "id": "ZdjJ-x9lkuq9",
        "outputId": "145aa483-8255-4440-e03d-eaa39e488b9b"
      },
      "execution_count": null,
      "outputs": [
        {
          "output_type": "stream",
          "name": "stdout",
          "text": [
            "Downloading data from https://storage.googleapis.com/tensorflow/keras-applications/densenet/densenet121_weights_tf_dim_ordering_tf_kernels_notop.h5\n",
            "29084464/29084464 [==============================] - 0s 0us/step\n"
          ]
        },
        {
          "output_type": "error",
          "ename": "NameError",
          "evalue": "ignored",
          "traceback": [
            "\u001b[0;31m---------------------------------------------------------------------------\u001b[0m",
            "\u001b[0;31mNameError\u001b[0m                                 Traceback (most recent call last)",
            "\u001b[0;32m<ipython-input-12-7edd581b254a>\u001b[0m in \u001b[0;36m<cell line: 10>\u001b[0;34m()\u001b[0m\n\u001b[1;32m      8\u001b[0m \u001b[0;34m\u001b[0m\u001b[0m\n\u001b[1;32m      9\u001b[0m \u001b[0mx\u001b[0m \u001b[0;34m=\u001b[0m \u001b[0mbase_model\u001b[0m\u001b[0;34m(\u001b[0m\u001b[0minputs\u001b[0m\u001b[0;34m)\u001b[0m\u001b[0;34m\u001b[0m\u001b[0;34m\u001b[0m\u001b[0m\n\u001b[0;32m---> 10\u001b[0;31m \u001b[0mx\u001b[0m \u001b[0;34m=\u001b[0m \u001b[0mFlatten\u001b[0m\u001b[0;34m(\u001b[0m\u001b[0;34m)\u001b[0m\u001b[0;34m(\u001b[0m\u001b[0mx\u001b[0m\u001b[0;34m)\u001b[0m\u001b[0;34m\u001b[0m\u001b[0;34m\u001b[0m\u001b[0m\n\u001b[0m\u001b[1;32m     11\u001b[0m \u001b[0mx\u001b[0m \u001b[0;34m=\u001b[0m \u001b[0mDropout\u001b[0m\u001b[0;34m(\u001b[0m\u001b[0;36m0.5\u001b[0m\u001b[0;34m)\u001b[0m\u001b[0;34m(\u001b[0m\u001b[0mx\u001b[0m\u001b[0;34m)\u001b[0m\u001b[0;34m\u001b[0m\u001b[0;34m\u001b[0m\u001b[0m\n\u001b[1;32m     12\u001b[0m \u001b[0mx\u001b[0m \u001b[0;34m=\u001b[0m \u001b[0mDense\u001b[0m\u001b[0;34m(\u001b[0m\u001b[0;36m4\u001b[0m\u001b[0;34m,\u001b[0m \u001b[0mactivation\u001b[0m \u001b[0;34m=\u001b[0m \u001b[0;34m'softmax'\u001b[0m\u001b[0;34m)\u001b[0m\u001b[0;34m(\u001b[0m\u001b[0mx\u001b[0m\u001b[0;34m)\u001b[0m\u001b[0;34m\u001b[0m\u001b[0;34m\u001b[0m\u001b[0m\n",
            "\u001b[0;31mNameError\u001b[0m: name 'Flatten' is not defined"
          ]
        }
      ]
    },
    {
      "cell_type": "code",
      "source": [
        "for i, layer in enumerate(base_model.layers):\n",
        "  print(i, layer.name, layer.trainable)"
      ],
      "metadata": {
        "colab": {
          "base_uri": "https://localhost:8080/"
        },
        "id": "cUidEpP7sJGx",
        "outputId": "ca1f12b7-a647-434f-c927-664694af23b2"
      },
      "execution_count": null,
      "outputs": [
        {
          "output_type": "stream",
          "name": "stdout",
          "text": [
            "0 input_3 False\n",
            "1 zero_padding2d_2 False\n",
            "2 conv1/conv False\n",
            "3 conv1/bn False\n",
            "4 conv1/relu False\n",
            "5 zero_padding2d_3 False\n",
            "6 pool1 False\n",
            "7 conv2_block1_0_bn False\n",
            "8 conv2_block1_0_relu False\n",
            "9 conv2_block1_1_conv False\n",
            "10 conv2_block1_1_bn False\n",
            "11 conv2_block1_1_relu False\n",
            "12 conv2_block1_2_conv False\n",
            "13 conv2_block1_concat False\n",
            "14 conv2_block2_0_bn False\n",
            "15 conv2_block2_0_relu False\n",
            "16 conv2_block2_1_conv False\n",
            "17 conv2_block2_1_bn False\n",
            "18 conv2_block2_1_relu False\n",
            "19 conv2_block2_2_conv False\n",
            "20 conv2_block2_concat False\n",
            "21 conv2_block3_0_bn False\n",
            "22 conv2_block3_0_relu False\n",
            "23 conv2_block3_1_conv False\n",
            "24 conv2_block3_1_bn False\n",
            "25 conv2_block3_1_relu False\n",
            "26 conv2_block3_2_conv False\n",
            "27 conv2_block3_concat False\n",
            "28 conv2_block4_0_bn False\n",
            "29 conv2_block4_0_relu False\n",
            "30 conv2_block4_1_conv False\n",
            "31 conv2_block4_1_bn False\n",
            "32 conv2_block4_1_relu False\n",
            "33 conv2_block4_2_conv False\n",
            "34 conv2_block4_concat False\n",
            "35 conv2_block5_0_bn False\n",
            "36 conv2_block5_0_relu False\n",
            "37 conv2_block5_1_conv False\n",
            "38 conv2_block5_1_bn False\n",
            "39 conv2_block5_1_relu False\n",
            "40 conv2_block5_2_conv False\n",
            "41 conv2_block5_concat False\n",
            "42 conv2_block6_0_bn False\n",
            "43 conv2_block6_0_relu False\n",
            "44 conv2_block6_1_conv False\n",
            "45 conv2_block6_1_bn False\n",
            "46 conv2_block6_1_relu False\n",
            "47 conv2_block6_2_conv False\n",
            "48 conv2_block6_concat False\n",
            "49 pool2_bn False\n",
            "50 pool2_relu False\n",
            "51 pool2_conv False\n",
            "52 pool2_pool False\n",
            "53 conv3_block1_0_bn False\n",
            "54 conv3_block1_0_relu False\n",
            "55 conv3_block1_1_conv False\n",
            "56 conv3_block1_1_bn False\n",
            "57 conv3_block1_1_relu False\n",
            "58 conv3_block1_2_conv False\n",
            "59 conv3_block1_concat False\n",
            "60 conv3_block2_0_bn False\n",
            "61 conv3_block2_0_relu False\n",
            "62 conv3_block2_1_conv False\n",
            "63 conv3_block2_1_bn False\n",
            "64 conv3_block2_1_relu False\n",
            "65 conv3_block2_2_conv False\n",
            "66 conv3_block2_concat False\n",
            "67 conv3_block3_0_bn False\n",
            "68 conv3_block3_0_relu False\n",
            "69 conv3_block3_1_conv False\n",
            "70 conv3_block3_1_bn False\n",
            "71 conv3_block3_1_relu False\n",
            "72 conv3_block3_2_conv False\n",
            "73 conv3_block3_concat False\n",
            "74 conv3_block4_0_bn False\n",
            "75 conv3_block4_0_relu False\n",
            "76 conv3_block4_1_conv False\n",
            "77 conv3_block4_1_bn False\n",
            "78 conv3_block4_1_relu False\n",
            "79 conv3_block4_2_conv False\n",
            "80 conv3_block4_concat False\n",
            "81 conv3_block5_0_bn False\n",
            "82 conv3_block5_0_relu False\n",
            "83 conv3_block5_1_conv False\n",
            "84 conv3_block5_1_bn False\n",
            "85 conv3_block5_1_relu False\n",
            "86 conv3_block5_2_conv False\n",
            "87 conv3_block5_concat False\n",
            "88 conv3_block6_0_bn False\n",
            "89 conv3_block6_0_relu False\n",
            "90 conv3_block6_1_conv False\n",
            "91 conv3_block6_1_bn False\n",
            "92 conv3_block6_1_relu False\n",
            "93 conv3_block6_2_conv False\n",
            "94 conv3_block6_concat False\n",
            "95 conv3_block7_0_bn False\n",
            "96 conv3_block7_0_relu False\n",
            "97 conv3_block7_1_conv False\n",
            "98 conv3_block7_1_bn False\n",
            "99 conv3_block7_1_relu False\n",
            "100 conv3_block7_2_conv False\n",
            "101 conv3_block7_concat False\n",
            "102 conv3_block8_0_bn False\n",
            "103 conv3_block8_0_relu False\n",
            "104 conv3_block8_1_conv False\n",
            "105 conv3_block8_1_bn False\n",
            "106 conv3_block8_1_relu False\n",
            "107 conv3_block8_2_conv False\n",
            "108 conv3_block8_concat False\n",
            "109 conv3_block9_0_bn False\n",
            "110 conv3_block9_0_relu False\n",
            "111 conv3_block9_1_conv False\n",
            "112 conv3_block9_1_bn False\n",
            "113 conv3_block9_1_relu False\n",
            "114 conv3_block9_2_conv False\n",
            "115 conv3_block9_concat False\n",
            "116 conv3_block10_0_bn False\n",
            "117 conv3_block10_0_relu False\n",
            "118 conv3_block10_1_conv False\n",
            "119 conv3_block10_1_bn False\n",
            "120 conv3_block10_1_relu False\n",
            "121 conv3_block10_2_conv False\n",
            "122 conv3_block10_concat False\n",
            "123 conv3_block11_0_bn False\n",
            "124 conv3_block11_0_relu False\n",
            "125 conv3_block11_1_conv False\n",
            "126 conv3_block11_1_bn False\n",
            "127 conv3_block11_1_relu False\n",
            "128 conv3_block11_2_conv False\n",
            "129 conv3_block11_concat False\n",
            "130 conv3_block12_0_bn False\n",
            "131 conv3_block12_0_relu False\n",
            "132 conv3_block12_1_conv False\n",
            "133 conv3_block12_1_bn False\n",
            "134 conv3_block12_1_relu False\n",
            "135 conv3_block12_2_conv False\n",
            "136 conv3_block12_concat False\n",
            "137 pool3_bn False\n",
            "138 pool3_relu False\n",
            "139 pool3_conv False\n",
            "140 pool3_pool False\n",
            "141 conv4_block1_0_bn False\n",
            "142 conv4_block1_0_relu False\n",
            "143 conv4_block1_1_conv False\n",
            "144 conv4_block1_1_bn False\n",
            "145 conv4_block1_1_relu False\n",
            "146 conv4_block1_2_conv False\n",
            "147 conv4_block1_concat False\n",
            "148 conv4_block2_0_bn False\n",
            "149 conv4_block2_0_relu False\n",
            "150 conv4_block2_1_conv False\n",
            "151 conv4_block2_1_bn False\n",
            "152 conv4_block2_1_relu False\n",
            "153 conv4_block2_2_conv False\n",
            "154 conv4_block2_concat False\n",
            "155 conv4_block3_0_bn False\n",
            "156 conv4_block3_0_relu False\n",
            "157 conv4_block3_1_conv False\n",
            "158 conv4_block3_1_bn False\n",
            "159 conv4_block3_1_relu False\n",
            "160 conv4_block3_2_conv False\n",
            "161 conv4_block3_concat False\n",
            "162 conv4_block4_0_bn False\n",
            "163 conv4_block4_0_relu False\n",
            "164 conv4_block4_1_conv False\n",
            "165 conv4_block4_1_bn False\n",
            "166 conv4_block4_1_relu False\n",
            "167 conv4_block4_2_conv False\n",
            "168 conv4_block4_concat False\n",
            "169 conv4_block5_0_bn False\n",
            "170 conv4_block5_0_relu False\n",
            "171 conv4_block5_1_conv False\n",
            "172 conv4_block5_1_bn False\n",
            "173 conv4_block5_1_relu False\n",
            "174 conv4_block5_2_conv False\n",
            "175 conv4_block5_concat False\n",
            "176 conv4_block6_0_bn False\n",
            "177 conv4_block6_0_relu False\n",
            "178 conv4_block6_1_conv False\n",
            "179 conv4_block6_1_bn False\n",
            "180 conv4_block6_1_relu False\n",
            "181 conv4_block6_2_conv False\n",
            "182 conv4_block6_concat False\n",
            "183 conv4_block7_0_bn False\n",
            "184 conv4_block7_0_relu False\n",
            "185 conv4_block7_1_conv False\n",
            "186 conv4_block7_1_bn False\n",
            "187 conv4_block7_1_relu False\n",
            "188 conv4_block7_2_conv False\n",
            "189 conv4_block7_concat False\n",
            "190 conv4_block8_0_bn False\n",
            "191 conv4_block8_0_relu False\n",
            "192 conv4_block8_1_conv False\n",
            "193 conv4_block8_1_bn False\n",
            "194 conv4_block8_1_relu False\n",
            "195 conv4_block8_2_conv False\n",
            "196 conv4_block8_concat False\n",
            "197 conv4_block9_0_bn False\n",
            "198 conv4_block9_0_relu False\n",
            "199 conv4_block9_1_conv False\n",
            "200 conv4_block9_1_bn False\n",
            "201 conv4_block9_1_relu False\n",
            "202 conv4_block9_2_conv False\n",
            "203 conv4_block9_concat False\n",
            "204 conv4_block10_0_bn False\n",
            "205 conv4_block10_0_relu False\n",
            "206 conv4_block10_1_conv False\n",
            "207 conv4_block10_1_bn False\n",
            "208 conv4_block10_1_relu False\n",
            "209 conv4_block10_2_conv False\n",
            "210 conv4_block10_concat False\n",
            "211 conv4_block11_0_bn False\n",
            "212 conv4_block11_0_relu False\n",
            "213 conv4_block11_1_conv False\n",
            "214 conv4_block11_1_bn False\n",
            "215 conv4_block11_1_relu False\n",
            "216 conv4_block11_2_conv False\n",
            "217 conv4_block11_concat False\n",
            "218 conv4_block12_0_bn False\n",
            "219 conv4_block12_0_relu False\n",
            "220 conv4_block12_1_conv False\n",
            "221 conv4_block12_1_bn False\n",
            "222 conv4_block12_1_relu False\n",
            "223 conv4_block12_2_conv False\n",
            "224 conv4_block12_concat False\n",
            "225 conv4_block13_0_bn False\n",
            "226 conv4_block13_0_relu False\n",
            "227 conv4_block13_1_conv False\n",
            "228 conv4_block13_1_bn False\n",
            "229 conv4_block13_1_relu False\n",
            "230 conv4_block13_2_conv False\n",
            "231 conv4_block13_concat False\n",
            "232 conv4_block14_0_bn False\n",
            "233 conv4_block14_0_relu False\n",
            "234 conv4_block14_1_conv False\n",
            "235 conv4_block14_1_bn False\n",
            "236 conv4_block14_1_relu False\n",
            "237 conv4_block14_2_conv False\n",
            "238 conv4_block14_concat False\n",
            "239 conv4_block15_0_bn False\n",
            "240 conv4_block15_0_relu False\n",
            "241 conv4_block15_1_conv False\n",
            "242 conv4_block15_1_bn False\n",
            "243 conv4_block15_1_relu False\n",
            "244 conv4_block15_2_conv False\n",
            "245 conv4_block15_concat False\n",
            "246 conv4_block16_0_bn False\n",
            "247 conv4_block16_0_relu False\n",
            "248 conv4_block16_1_conv False\n",
            "249 conv4_block16_1_bn False\n",
            "250 conv4_block16_1_relu False\n",
            "251 conv4_block16_2_conv False\n",
            "252 conv4_block16_concat False\n",
            "253 conv4_block17_0_bn False\n",
            "254 conv4_block17_0_relu False\n",
            "255 conv4_block17_1_conv False\n",
            "256 conv4_block17_1_bn False\n",
            "257 conv4_block17_1_relu False\n",
            "258 conv4_block17_2_conv False\n",
            "259 conv4_block17_concat False\n",
            "260 conv4_block18_0_bn False\n",
            "261 conv4_block18_0_relu False\n",
            "262 conv4_block18_1_conv False\n",
            "263 conv4_block18_1_bn False\n",
            "264 conv4_block18_1_relu False\n",
            "265 conv4_block18_2_conv False\n",
            "266 conv4_block18_concat False\n",
            "267 conv4_block19_0_bn False\n",
            "268 conv4_block19_0_relu False\n",
            "269 conv4_block19_1_conv False\n",
            "270 conv4_block19_1_bn False\n",
            "271 conv4_block19_1_relu False\n",
            "272 conv4_block19_2_conv False\n",
            "273 conv4_block19_concat False\n",
            "274 conv4_block20_0_bn False\n",
            "275 conv4_block20_0_relu False\n",
            "276 conv4_block20_1_conv False\n",
            "277 conv4_block20_1_bn False\n",
            "278 conv4_block20_1_relu False\n",
            "279 conv4_block20_2_conv False\n",
            "280 conv4_block20_concat False\n",
            "281 conv4_block21_0_bn False\n",
            "282 conv4_block21_0_relu False\n",
            "283 conv4_block21_1_conv False\n",
            "284 conv4_block21_1_bn False\n",
            "285 conv4_block21_1_relu False\n",
            "286 conv4_block21_2_conv False\n",
            "287 conv4_block21_concat False\n",
            "288 conv4_block22_0_bn False\n",
            "289 conv4_block22_0_relu False\n",
            "290 conv4_block22_1_conv False\n",
            "291 conv4_block22_1_bn False\n",
            "292 conv4_block22_1_relu False\n",
            "293 conv4_block22_2_conv False\n",
            "294 conv4_block22_concat False\n",
            "295 conv4_block23_0_bn False\n",
            "296 conv4_block23_0_relu False\n",
            "297 conv4_block23_1_conv False\n",
            "298 conv4_block23_1_bn False\n",
            "299 conv4_block23_1_relu False\n",
            "300 conv4_block23_2_conv False\n",
            "301 conv4_block23_concat False\n",
            "302 conv4_block24_0_bn False\n",
            "303 conv4_block24_0_relu False\n",
            "304 conv4_block24_1_conv False\n",
            "305 conv4_block24_1_bn False\n",
            "306 conv4_block24_1_relu False\n",
            "307 conv4_block24_2_conv False\n",
            "308 conv4_block24_concat False\n",
            "309 pool4_bn False\n",
            "310 pool4_relu False\n",
            "311 pool4_conv False\n",
            "312 pool4_pool False\n",
            "313 conv5_block1_0_bn False\n",
            "314 conv5_block1_0_relu False\n",
            "315 conv5_block1_1_conv False\n",
            "316 conv5_block1_1_bn False\n",
            "317 conv5_block1_1_relu False\n",
            "318 conv5_block1_2_conv False\n",
            "319 conv5_block1_concat False\n",
            "320 conv5_block2_0_bn False\n",
            "321 conv5_block2_0_relu False\n",
            "322 conv5_block2_1_conv False\n",
            "323 conv5_block2_1_bn False\n",
            "324 conv5_block2_1_relu False\n",
            "325 conv5_block2_2_conv False\n",
            "326 conv5_block2_concat False\n",
            "327 conv5_block3_0_bn True\n",
            "328 conv5_block3_0_relu True\n",
            "329 conv5_block3_1_conv True\n",
            "330 conv5_block3_1_bn True\n",
            "331 conv5_block3_1_relu True\n",
            "332 conv5_block3_2_conv True\n",
            "333 conv5_block3_concat True\n",
            "334 conv5_block4_0_bn True\n",
            "335 conv5_block4_0_relu True\n",
            "336 conv5_block4_1_conv True\n",
            "337 conv5_block4_1_bn True\n",
            "338 conv5_block4_1_relu True\n",
            "339 conv5_block4_2_conv True\n",
            "340 conv5_block4_concat True\n",
            "341 conv5_block5_0_bn True\n",
            "342 conv5_block5_0_relu True\n",
            "343 conv5_block5_1_conv True\n",
            "344 conv5_block5_1_bn True\n",
            "345 conv5_block5_1_relu True\n",
            "346 conv5_block5_2_conv True\n",
            "347 conv5_block5_concat True\n",
            "348 conv5_block6_0_bn True\n",
            "349 conv5_block6_0_relu True\n",
            "350 conv5_block6_1_conv True\n",
            "351 conv5_block6_1_bn True\n",
            "352 conv5_block6_1_relu True\n",
            "353 conv5_block6_2_conv True\n",
            "354 conv5_block6_concat True\n",
            "355 conv5_block7_0_bn True\n",
            "356 conv5_block7_0_relu True\n",
            "357 conv5_block7_1_conv True\n",
            "358 conv5_block7_1_bn True\n",
            "359 conv5_block7_1_relu True\n",
            "360 conv5_block7_2_conv True\n",
            "361 conv5_block7_concat True\n",
            "362 conv5_block8_0_bn True\n",
            "363 conv5_block8_0_relu True\n",
            "364 conv5_block8_1_conv True\n",
            "365 conv5_block8_1_bn True\n",
            "366 conv5_block8_1_relu True\n",
            "367 conv5_block8_2_conv True\n",
            "368 conv5_block8_concat True\n",
            "369 conv5_block9_0_bn True\n",
            "370 conv5_block9_0_relu True\n",
            "371 conv5_block9_1_conv True\n",
            "372 conv5_block9_1_bn True\n",
            "373 conv5_block9_1_relu True\n",
            "374 conv5_block9_2_conv True\n",
            "375 conv5_block9_concat True\n",
            "376 conv5_block10_0_bn True\n",
            "377 conv5_block10_0_relu True\n",
            "378 conv5_block10_1_conv True\n",
            "379 conv5_block10_1_bn True\n",
            "380 conv5_block10_1_relu True\n",
            "381 conv5_block10_2_conv True\n",
            "382 conv5_block10_concat True\n",
            "383 conv5_block11_0_bn True\n",
            "384 conv5_block11_0_relu True\n",
            "385 conv5_block11_1_conv True\n",
            "386 conv5_block11_1_bn True\n",
            "387 conv5_block11_1_relu True\n",
            "388 conv5_block11_2_conv True\n",
            "389 conv5_block11_concat True\n",
            "390 conv5_block12_0_bn True\n",
            "391 conv5_block12_0_relu True\n",
            "392 conv5_block12_1_conv True\n",
            "393 conv5_block12_1_bn True\n",
            "394 conv5_block12_1_relu True\n",
            "395 conv5_block12_2_conv True\n",
            "396 conv5_block12_concat True\n",
            "397 conv5_block13_0_bn True\n",
            "398 conv5_block13_0_relu True\n",
            "399 conv5_block13_1_conv True\n",
            "400 conv5_block13_1_bn True\n",
            "401 conv5_block13_1_relu True\n",
            "402 conv5_block13_2_conv True\n",
            "403 conv5_block13_concat True\n",
            "404 conv5_block14_0_bn True\n",
            "405 conv5_block14_0_relu True\n",
            "406 conv5_block14_1_conv True\n",
            "407 conv5_block14_1_bn True\n",
            "408 conv5_block14_1_relu True\n",
            "409 conv5_block14_2_conv True\n",
            "410 conv5_block14_concat True\n",
            "411 conv5_block15_0_bn True\n",
            "412 conv5_block15_0_relu True\n",
            "413 conv5_block15_1_conv True\n",
            "414 conv5_block15_1_bn True\n",
            "415 conv5_block15_1_relu True\n",
            "416 conv5_block15_2_conv True\n",
            "417 conv5_block15_concat True\n",
            "418 conv5_block16_0_bn True\n",
            "419 conv5_block16_0_relu True\n",
            "420 conv5_block16_1_conv True\n",
            "421 conv5_block16_1_bn True\n",
            "422 conv5_block16_1_relu True\n",
            "423 conv5_block16_2_conv True\n",
            "424 conv5_block16_concat True\n",
            "425 bn True\n",
            "426 relu True\n"
          ]
        }
      ]
    },
    {
      "cell_type": "code",
      "source": [
        "model3.compile(loss = tf.keras.losses.categorical_crossentropy,\n",
        "              optimizer = tf.keras.optimizers.Adam(),\n",
        "              metrics = ['accuracy'])\n",
        "history8 = model3.fit(train_data,\n",
        "                      epochs = 15,\n",
        "           steps_per_epoch=len(train_data),\n",
        "           validation_data=valid_data,\n",
        "           validation_steps=len(valid_data),\n",
        "           )"
      ],
      "metadata": {
        "colab": {
          "base_uri": "https://localhost:8080/"
        },
        "id": "VantSYTeqDh1",
        "outputId": "836ebf7c-fac8-480f-dba0-b9961c8f62ff"
      },
      "execution_count": null,
      "outputs": [
        {
          "output_type": "stream",
          "name": "stdout",
          "text": [
            "Epoch 1/15\n",
            "51/51 [==============================] - 124s 2s/step - loss: 23.4565 - accuracy: 0.3137 - val_loss: 1259.4333 - val_accuracy: 0.2937\n",
            "Epoch 2/15\n",
            "51/51 [==============================] - 80s 2s/step - loss: 10.8220 - accuracy: 0.3689 - val_loss: 3099.2202 - val_accuracy: 0.2562\n",
            "Epoch 3/15\n",
            "51/51 [==============================] - 74s 1s/step - loss: 10.7082 - accuracy: 0.3906 - val_loss: 679.5546 - val_accuracy: 0.2000\n",
            "Epoch 4/15\n",
            "51/51 [==============================] - 73s 1s/step - loss: 11.6243 - accuracy: 0.3825 - val_loss: 92.5072 - val_accuracy: 0.2375\n",
            "Epoch 5/15\n",
            "51/51 [==============================] - 75s 1s/step - loss: 8.4808 - accuracy: 0.4458 - val_loss: 86.0621 - val_accuracy: 0.4938\n",
            "Epoch 6/15\n",
            "51/51 [==============================] - 74s 1s/step - loss: 7.7611 - accuracy: 0.4458 - val_loss: 267.3389 - val_accuracy: 0.2562\n",
            "Epoch 7/15\n",
            "51/51 [==============================] - 75s 1s/step - loss: 9.0969 - accuracy: 0.4575 - val_loss: 52.9440 - val_accuracy: 0.3250\n",
            "Epoch 8/15\n",
            "51/51 [==============================] - 74s 1s/step - loss: 7.8824 - accuracy: 0.4823 - val_loss: 390.1129 - val_accuracy: 0.2188\n",
            "Epoch 9/15\n",
            "51/51 [==============================] - 74s 1s/step - loss: 10.6867 - accuracy: 0.4637 - val_loss: 28.9460 - val_accuracy: 0.2375\n",
            "Epoch 10/15\n",
            "51/51 [==============================] - 75s 1s/step - loss: 9.0838 - accuracy: 0.4892 - val_loss: 69.7134 - val_accuracy: 0.3500\n",
            "Epoch 11/15\n",
            "51/51 [==============================] - 73s 1s/step - loss: 6.0573 - accuracy: 0.5381 - val_loss: 21.5339 - val_accuracy: 0.2438\n",
            "Epoch 12/15\n",
            "51/51 [==============================] - 75s 1s/step - loss: 7.9114 - accuracy: 0.4960 - val_loss: 13.7264 - val_accuracy: 0.4313\n",
            "Epoch 13/15\n",
            "51/51 [==============================] - 74s 1s/step - loss: 6.5142 - accuracy: 0.5394 - val_loss: 11.3570 - val_accuracy: 0.4875\n",
            "Epoch 14/15\n",
            "51/51 [==============================] - 74s 1s/step - loss: 6.1983 - accuracy: 0.5356 - val_loss: 8.2844 - val_accuracy: 0.4500\n",
            "Epoch 15/15\n",
            "51/51 [==============================] - 74s 1s/step - loss: 7.0957 - accuracy: 0.5053 - val_loss: 11.9006 - val_accuracy: 0.2375\n"
          ]
        }
      ]
    },
    {
      "cell_type": "code",
      "source": [
        " x = Flatten()(x)\n",
        "x = BatchNormalization()(x)\n",
        "x = Dense(64, kernel_initializer = 'he_uniform')(x)\n",
        "x = BatchNormalization()(x)\n",
        "x = Activation('relu')(x)\n",
        "x = Dropout(0.5)(x)\n",
        "x = Dense(128, kernel_initializer = 'he_uniform')(x)\n",
        "x = BatchNormalization()(x)\n",
        "x = Activation('relu')(x)\n",
        "x = Dropout(0.5)(x)\n",
        "x = Dense(256, kernel_initializer = 'he_uniform')(x)\n",
        "x = BatchNormalization()(x)\n",
        "x = Activation('relu')(x)\n",
        "x = Dropout(0.5)(x)\n",
        "x = Dense(64, kernel_initializer = 'he_uniform')(x)\n",
        "x = BatchNormalization()(x)\n",
        "x = Activation('relu')(x)\n",
        "x = Dropout(0.5)(x)\n",
        "x = Dense(32, kernel_initializer = 'he_uniform')(x)\n",
        "x = BatchNormalization()(x)\n",
        "x = Activation('relu')(x)"
      ],
      "metadata": {
        "id": "NJ5yyqpGqXhd"
      },
      "execution_count": null,
      "outputs": []
    },
    {
      "cell_type": "code",
      "source": [
        "base_model = tf.keras.applications.DenseNet121(include_top=False)\n",
        "base_model.trainable = True\n",
        "\n",
        "#for layer in base_model.layers[:-100]:\n",
        "#  layer.trainable = False\n",
        "\n",
        "inputs = tf.keras.layers.Input(shape=(512, 512, 3))\n",
        "\n",
        "x = base_model(inputs)\n",
        "x = BatchNormalization()(x)\n",
        "x = Dense(64, kernel_initializer = 'he_uniform')(x)\n",
        "x = BatchNormalization()(x)\n",
        "x = Activation('relu')(x)\n",
        "x = Dropout(0.5)(x)\n",
        "x = Dense(128, kernel_initializer = 'he_uniform')(x)\n",
        "x = BatchNormalization()(x)\n",
        "x = Activation('relu')(x)\n",
        "x = Dropout(0.5)(x)\n",
        "x = Dense(256, kernel_initializer = 'he_uniform')(x)\n",
        "x = BatchNormalization()(x)\n",
        "x = Activation('relu')(x)\n",
        "x = Dropout(0.5)(x)\n",
        "x = Dense(64, kernel_initializer = 'he_uniform')(x)\n",
        "x = BatchNormalization()(x)\n",
        "x = Activation('relu')(x)\n",
        "x = Dropout(0.5)(x)\n",
        "x = Dense(32, kernel_initializer = 'he_uniform')(x)\n",
        "x = BatchNormalization()(x)\n",
        "x = Activation('relu')(x)\n",
        "x = Flatten()(x)\n",
        "x = Dropout(0.5)(x)\n",
        "x = Dense(4, activation = 'softmax')(x)\n",
        "\n",
        "model4 = tf.keras.Model(inputs = inputs, outputs = x)"
      ],
      "metadata": {
        "id": "3ae9N7BhzoQw"
      },
      "execution_count": null,
      "outputs": []
    },
    {
      "cell_type": "code",
      "source": [
        "model4.compile(loss = tf.keras.losses.categorical_crossentropy,\n",
        "              optimizer = tf.keras.optimizers.Adam(),\n",
        "              metrics = ['accuracy'])\n",
        "history8 = model4.fit(train_data,\n",
        "                      epochs = 15,\n",
        "           steps_per_epoch=len(train_data),\n",
        "           validation_data=valid_data,\n",
        "           validation_steps=len(valid_data),\n",
        "           )"
      ],
      "metadata": {
        "colab": {
          "base_uri": "https://localhost:8080/"
        },
        "id": "DBw7QnXsz4MD",
        "outputId": "de8c416e-8630-4e8b-e364-2a2b3432af91"
      },
      "execution_count": null,
      "outputs": [
        {
          "output_type": "stream",
          "name": "stdout",
          "text": [
            "Epoch 1/15\n",
            "51/51 [==============================] - 142s 1s/step - loss: 1.9015 - accuracy: 0.2771 - val_loss: 64.0210 - val_accuracy: 0.2937\n",
            "Epoch 2/15\n",
            "51/51 [==============================] - 60s 1s/step - loss: 1.5399 - accuracy: 0.3422 - val_loss: 1.3845 - val_accuracy: 0.4688\n",
            "Epoch 3/15\n",
            "51/51 [==============================] - 59s 1s/step - loss: 1.4383 - accuracy: 0.3416 - val_loss: 1.1938 - val_accuracy: 0.4938\n",
            "Epoch 4/15\n",
            "51/51 [==============================] - 59s 1s/step - loss: 1.3710 - accuracy: 0.3627 - val_loss: 1.2390 - val_accuracy: 0.3812\n",
            "Epoch 5/15\n",
            "51/51 [==============================] - 60s 1s/step - loss: 1.3502 - accuracy: 0.3707 - val_loss: 1.3313 - val_accuracy: 0.2500\n",
            "Epoch 6/15\n",
            "51/51 [==============================] - 60s 1s/step - loss: 1.3163 - accuracy: 0.3862 - val_loss: 1.2909 - val_accuracy: 0.2625\n",
            "Epoch 7/15\n",
            "51/51 [==============================] - 60s 1s/step - loss: 1.2581 - accuracy: 0.4172 - val_loss: 1.2417 - val_accuracy: 0.2562\n",
            "Epoch 8/15\n",
            "51/51 [==============================] - 60s 1s/step - loss: 1.2655 - accuracy: 0.3887 - val_loss: 1.3699 - val_accuracy: 0.2562\n",
            "Epoch 9/15\n",
            "51/51 [==============================] - 60s 1s/step - loss: 1.2541 - accuracy: 0.4110 - val_loss: 1.2877 - val_accuracy: 0.2562\n",
            "Epoch 10/15\n",
            "51/51 [==============================] - 60s 1s/step - loss: 1.2629 - accuracy: 0.4148 - val_loss: 1.3573 - val_accuracy: 0.2500\n",
            "Epoch 11/15\n",
            "51/51 [==============================] - 59s 1s/step - loss: 1.2527 - accuracy: 0.4117 - val_loss: 1.2923 - val_accuracy: 0.2438\n",
            "Epoch 12/15\n",
            "51/51 [==============================] - 60s 1s/step - loss: 1.2410 - accuracy: 0.4340 - val_loss: 1.2480 - val_accuracy: 0.2250\n",
            "Epoch 13/15\n",
            "51/51 [==============================] - 60s 1s/step - loss: 1.2371 - accuracy: 0.4296 - val_loss: 1.2340 - val_accuracy: 0.4938\n",
            "Epoch 14/15\n",
            "51/51 [==============================] - 60s 1s/step - loss: 1.2268 - accuracy: 0.4352 - val_loss: 1.2172 - val_accuracy: 0.2500\n",
            "Epoch 15/15\n",
            "51/51 [==============================] - 60s 1s/step - loss: 1.2212 - accuracy: 0.4309 - val_loss: 1.2596 - val_accuracy: 0.2562\n"
          ]
        }
      ]
    },
    {
      "cell_type": "code",
      "source": [
        "plot_loss_curves(history8)"
      ],
      "metadata": {
        "colab": {
          "base_uri": "https://localhost:8080/",
          "height": 927
        },
        "id": "Ca6eiWnA4H8t",
        "outputId": "a40b4f88-c2cb-4707-ec35-bb87fd6e3b4b"
      },
      "execution_count": null,
      "outputs": [
        {
          "output_type": "display_data",
          "data": {
            "text/plain": [
              "<Figure size 640x480 with 1 Axes>"
            ],
            "image/png": "[encoded data removed]"
          },
          "metadata": {}
        },
        {
          "output_type": "display_data",
          "data": {
            "text/plain": [
              "<Figure size 640x480 with 1 Axes>"
            ],
            "image/png": "[encoded data removed]"
          },
          "metadata": {}
        }
      ]
    },
    {
      "cell_type": "code",
      "source": [
        "from tensorflow.keras.layers import GlobalAveragePooling2D"
      ],
      "metadata": {
        "id": "lG1pfuGS6NIA"
      },
      "execution_count": null,
      "outputs": []
    },
    {
      "cell_type": "code",
      "source": [
        "base_model = tf.keras.applications.DenseNet121(include_top=False)\n",
        "base_model.trainable = True\n",
        "\n",
        "for layer in base_model.layers[:-100]:\n",
        "  layer.trainable = False\n",
        "\n",
        "inputs = tf.keras.layers.Input(shape = (512, 512, 3))\n",
        "\n",
        "x = data_aug_layer(inputs, training = True)\n",
        "x = base_model(x)\n",
        "x = BatchNormalization()(x)\n",
        "x = Dense(64, kernel_initializer = 'he_uniform')(x)\n",
        "x = BatchNormalization()(x)\n",
        "x = Activation('relu')(x)\n",
        "x = Dropout(0.5)(x)\n",
        "x = Dense(128, kernel_initializer = 'he_uniform')(x)\n",
        "x = BatchNormalization()(x)\n",
        "x = Activation('relu')(x)\n",
        "x = Dropout(0.5)(x)\n",
        "x = Dense(256, kernel_initializer = 'he_uniform')(x)\n",
        "x = BatchNormalization()(x)\n",
        "x = Activation('relu')(x)\n",
        "x = Dropout(0.5)(x)\n",
        "x = Dense(64, kernel_initializer = 'he_uniform')(x)\n",
        "x = BatchNormalization()(x)\n",
        "x = Activation('relu')(x)\n",
        "x = Dropout(0.5)(x)\n",
        "x = Dense(32, kernel_initializer = 'he_uniform')(x)\n",
        "x = BatchNormalization()(x)\n",
        "x = Activation('relu')(x)\n",
        "x = GlobalAveragePooling2D()(x)\n",
        "x = Dropout(0.5)(x)\n",
        "x = Dense(4, activation = 'softmax')(x)\n",
        "\n",
        "model5 = tf.keras.Model(inputs = inputs, outputs = x)"
      ],
      "metadata": {
        "id": "NroST2Lbz7_M"
      },
      "execution_count": null,
      "outputs": []
    },
    {
      "cell_type": "code",
      "source": [
        "model5.compile(loss = tf.keras.losses.categorical_crossentropy,\n",
        "              optimizer = tf.keras.optimizers.Adam(),\n",
        "              metrics = ['accuracy'])\n",
        "history9 = model5.fit(train_data,\n",
        "                      epochs = 15,\n",
        "           steps_per_epoch=len(train_data),\n",
        "           validation_data=valid_data,\n",
        "           validation_steps=len(valid_data),\n",
        "           )"
      ],
      "metadata": {
        "colab": {
          "base_uri": "https://localhost:8080/"
        },
        "id": "VZfmbjPD30eB",
        "outputId": "d7ac585f-4e33-49bb-9b09-93649ff03d56"
      },
      "execution_count": null,
      "outputs": [
        {
          "output_type": "stream",
          "name": "stdout",
          "text": [
            "Epoch 1/15\n",
            "51/51 [==============================] - 181s 3s/step - loss: 1.4435 - accuracy: 0.2598 - val_loss: 2.4580 - val_accuracy: 0.2313\n",
            "Epoch 2/15\n",
            "51/51 [==============================] - 150s 3s/step - loss: 1.3559 - accuracy: 0.3373 - val_loss: 1.1964 - val_accuracy: 0.4750\n",
            "Epoch 3/15\n",
            "51/51 [==============================] - 158s 3s/step - loss: 1.2847 - accuracy: 0.3887 - val_loss: 1.2246 - val_accuracy: 0.3812\n",
            "Epoch 4/15\n",
            "51/51 [==============================] - 148s 3s/step - loss: 1.2766 - accuracy: 0.3986 - val_loss: 1.0969 - val_accuracy: 0.5000\n",
            "Epoch 5/15\n",
            "51/51 [==============================] - 140s 3s/step - loss: 1.2597 - accuracy: 0.4061 - val_loss: 1.4372 - val_accuracy: 0.2562\n",
            "Epoch 6/15\n",
            "51/51 [==============================] - 138s 3s/step - loss: 1.2535 - accuracy: 0.3924 - val_loss: 1.1605 - val_accuracy: 0.4125\n",
            "Epoch 7/15\n",
            "51/51 [==============================] - 181s 4s/step - loss: 1.2287 - accuracy: 0.4179 - val_loss: 1.4065 - val_accuracy: 0.2750\n",
            "Epoch 8/15\n",
            "51/51 [==============================] - 132s 3s/step - loss: 1.2474 - accuracy: 0.4154 - val_loss: 1.7265 - val_accuracy: 0.2562\n",
            "Epoch 9/15\n",
            "51/51 [==============================] - 132s 3s/step - loss: 1.2274 - accuracy: 0.4141 - val_loss: 1.2658 - val_accuracy: 0.3187\n",
            "Epoch 10/15\n",
            "51/51 [==============================] - 130s 3s/step - loss: 1.2227 - accuracy: 0.4278 - val_loss: 1.0987 - val_accuracy: 0.5188\n",
            "Epoch 11/15\n",
            "51/51 [==============================] - 140s 3s/step - loss: 1.2264 - accuracy: 0.4272 - val_loss: 1.1672 - val_accuracy: 0.3812\n",
            "Epoch 12/15\n",
            "51/51 [==============================] - 135s 3s/step - loss: 1.2170 - accuracy: 0.4371 - val_loss: 1.3267 - val_accuracy: 0.3125\n",
            "Epoch 13/15\n",
            "51/51 [==============================] - 133s 3s/step - loss: 1.2119 - accuracy: 0.4216 - val_loss: 1.1422 - val_accuracy: 0.3938\n",
            "Epoch 14/15\n",
            "51/51 [==============================] - 132s 3s/step - loss: 1.2040 - accuracy: 0.4340 - val_loss: 1.7043 - val_accuracy: 0.2562\n",
            "Epoch 15/15\n",
            "51/51 [==============================] - 132s 3s/step - loss: 1.2039 - accuracy: 0.4284 - val_loss: 1.1989 - val_accuracy: 0.3438\n"
          ]
        }
      ]
    },
    {
      "cell_type": "code",
      "source": [
        "x = data_aug_layer(inputs, training = True)"
      ],
      "metadata": {
        "id": "l7GWENqJ41Wk"
      },
      "execution_count": null,
      "outputs": []
    },
    {
      "cell_type": "code",
      "source": [
        "base_model = tf.keras.applications.DenseNet121(include_top=False)\n",
        "base_model.trainable = True\n",
        "\n",
        "for layer in base_model.layers[:-200]:\n",
        "  layer.trainable = False\n",
        "\n",
        "inputs = tf.keras.layers.Input(shape = (512, 512, 3))\n",
        "\n",
        "x = data_aug_layer(inputs, training = True)\n",
        "x = base_model(x)\n",
        "x = BatchNormalization()(x)\n",
        "x = Dense(64, kernel_initializer = 'he_uniform')(x)\n",
        "x = BatchNormalization()(x)\n",
        "x = Activation('relu')(x)\n",
        "x = Dropout(0.5)(x)\n",
        "x = Dense(128, kernel_initializer = 'he_uniform')(x)\n",
        "x = BatchNormalization()(x)\n",
        "x = Activation('relu')(x)\n",
        "x = Dropout(0.5)(x)\n",
        "x = Dense(256, kernel_initializer = 'he_uniform')(x)\n",
        "x = BatchNormalization()(x)\n",
        "x = Activation('relu')(x)\n",
        "x = Dropout(0.5)(x)\n",
        "x = Dense(64, kernel_initializer = 'he_uniform')(x)\n",
        "x = BatchNormalization()(x)\n",
        "x = Activation('relu')(x)\n",
        "x = Dropout(0.5)(x)\n",
        "x = Dense(32, kernel_initializer = 'he_uniform')(x)\n",
        "x = BatchNormalization()(x)\n",
        "x = Activation('relu')(x)\n",
        "x = GlobalAveragePooling2D()(x)\n",
        "x = Dropout(0.5)(x)\n",
        "x = Dense(4, activation = 'softmax')(x)\n",
        "\n",
        "model5 = tf.keras.Model(inputs = inputs, outputs = x)"
      ],
      "metadata": {
        "colab": {
          "base_uri": "https://localhost:8080/",
          "height": 235
        },
        "id": "fUI35U7DDvL4",
        "outputId": "e5d2ac4b-b39c-4517-b048-11d30da0e4d3"
      },
      "execution_count": null,
      "outputs": [
        {
          "output_type": "error",
          "ename": "NameError",
          "evalue": "ignored",
          "traceback": [
            "\u001b[0;31m---------------------------------------------------------------------------\u001b[0m",
            "\u001b[0;31mNameError\u001b[0m                                 Traceback (most recent call last)",
            "\u001b[0;32m<ipython-input-13-8387d3cda0b1>\u001b[0m in \u001b[0;36m<cell line: 11>\u001b[0;34m()\u001b[0m\n\u001b[1;32m      9\u001b[0m \u001b[0mx\u001b[0m \u001b[0;34m=\u001b[0m \u001b[0mdata_aug_layer\u001b[0m\u001b[0;34m(\u001b[0m\u001b[0minputs\u001b[0m\u001b[0;34m,\u001b[0m \u001b[0mtraining\u001b[0m \u001b[0;34m=\u001b[0m \u001b[0;32mTrue\u001b[0m\u001b[0;34m)\u001b[0m\u001b[0;34m\u001b[0m\u001b[0;34m\u001b[0m\u001b[0m\n\u001b[1;32m     10\u001b[0m \u001b[0mx\u001b[0m \u001b[0;34m=\u001b[0m \u001b[0mbase_model\u001b[0m\u001b[0;34m(\u001b[0m\u001b[0mx\u001b[0m\u001b[0;34m)\u001b[0m\u001b[0;34m\u001b[0m\u001b[0;34m\u001b[0m\u001b[0m\n\u001b[0;32m---> 11\u001b[0;31m \u001b[0mx\u001b[0m \u001b[0;34m=\u001b[0m \u001b[0mBatchNormalization\u001b[0m\u001b[0;34m(\u001b[0m\u001b[0;34m)\u001b[0m\u001b[0;34m(\u001b[0m\u001b[0mx\u001b[0m\u001b[0;34m)\u001b[0m\u001b[0;34m\u001b[0m\u001b[0;34m\u001b[0m\u001b[0m\n\u001b[0m\u001b[1;32m     12\u001b[0m \u001b[0mx\u001b[0m \u001b[0;34m=\u001b[0m \u001b[0mDense\u001b[0m\u001b[0;34m(\u001b[0m\u001b[0;36m64\u001b[0m\u001b[0;34m,\u001b[0m \u001b[0mkernel_initializer\u001b[0m \u001b[0;34m=\u001b[0m \u001b[0;34m'he_uniform'\u001b[0m\u001b[0;34m)\u001b[0m\u001b[0;34m(\u001b[0m\u001b[0mx\u001b[0m\u001b[0;34m)\u001b[0m\u001b[0;34m\u001b[0m\u001b[0;34m\u001b[0m\u001b[0m\n\u001b[1;32m     13\u001b[0m \u001b[0mx\u001b[0m \u001b[0;34m=\u001b[0m \u001b[0mBatchNormalization\u001b[0m\u001b[0;34m(\u001b[0m\u001b[0;34m)\u001b[0m\u001b[0;34m(\u001b[0m\u001b[0mx\u001b[0m\u001b[0;34m)\u001b[0m\u001b[0;34m\u001b[0m\u001b[0;34m\u001b[0m\u001b[0m\n",
            "\u001b[0;31mNameError\u001b[0m: name 'BatchNormalization' is not defined"
          ]
        }
      ]
    },
    {
      "cell_type": "code",
      "source": [
        "base_model = tf.keras.applications.ResNet101V2(include_top=False)\n",
        "base_model.trainable = True\n",
        "\n",
        "for layer in base_model.layers[:-100]:\n",
        "  layer.trainable = False\n",
        "\n",
        "inputs = tf.keras.layers.Input(shape=(512, 512, 3))\n",
        "\n",
        "x = base_model(inputs)\n",
        "x = BatchNormalization()(x)\n",
        "x = Dense(64, kernel_initializer = 'he_uniform')(x)\n",
        "x = BatchNormalization()(x)\n",
        "x = Activation('relu')(x)\n",
        "x = Dropout(0.5)(x)\n",
        "x = Dense(128, kernel_initializer = 'he_uniform')(x)\n",
        "x = BatchNormalization()(x)\n",
        "x = Activation('relu')(x)\n",
        "x = Dropout(0.5)(x)\n",
        "x = Dense(256, kernel_initializer = 'he_uniform')(x)\n",
        "x = BatchNormalization()(x)\n",
        "x = Activation('relu')(x)\n",
        "x = Dropout(0.5)(x)\n",
        "x = Dense(64, kernel_initializer = 'he_uniform')(x)\n",
        "x = BatchNormalization()(x)\n",
        "x = Activation('relu')(x)\n",
        "x = Dropout(0.5)(x)\n",
        "x = Dense(32, kernel_initializer = 'he_uniform')(x)\n",
        "x = BatchNormalization()(x)\n",
        "x = Activation('relu')(x)\n",
        "x = Flatten()(x)\n",
        "x = Dropout(0.5)(x)\n",
        "x = Dense(4, activation = 'softmax')(x)\n",
        "\n",
        "model6 = tf.keras.Model(inputs = inputs, outputs = x)"
      ],
      "metadata": {
        "id": "EDwO0o0rDvHq"
      },
      "execution_count": null,
      "outputs": []
    },
    {
      "cell_type": "code",
      "source": [
        "model6.compile(loss = tf.keras.losses.categorical_crossentropy,\n",
        "              optimizer = tf.keras.optimizers.Adam(),\n",
        "              metrics = ['accuracy'])\n",
        "history10 = model6.fit(train_data,\n",
        "                      epochs = 35,\n",
        "           steps_per_epoch=len(train_data),\n",
        "           validation_data=valid_data,\n",
        "           validation_steps=len(valid_data),\n",
        "           )"
      ],
      "metadata": {
        "colab": {
          "base_uri": "https://localhost:8080/"
        },
        "id": "wN5T18o_DvEV",
        "outputId": "ca1f6739-2a93-451a-929d-09cbeda6c99e"
      },
      "execution_count": null,
      "outputs": [
        {
          "output_type": "stream",
          "name": "stdout",
          "text": [
            "Epoch 1/35\n",
            "51/51 [==============================] - 87s 1s/step - loss: 1.2809 - accuracy: 0.4024 - val_loss: 1.1684 - val_accuracy: 0.4812\n",
            "Epoch 2/35\n",
            "51/51 [==============================] - 60s 1s/step - loss: 1.2317 - accuracy: 0.4272 - val_loss: 1.1275 - val_accuracy: 0.5188\n",
            "Epoch 3/35\n",
            "51/51 [==============================] - 60s 1s/step - loss: 1.2214 - accuracy: 0.4420 - val_loss: 1.1214 - val_accuracy: 0.5125\n",
            "Epoch 4/35\n",
            "51/51 [==============================] - 60s 1s/step - loss: 1.2141 - accuracy: 0.4414 - val_loss: 1.2105 - val_accuracy: 0.5063\n",
            "Epoch 5/35\n",
            "51/51 [==============================] - 60s 1s/step - loss: 1.2106 - accuracy: 0.4396 - val_loss: 1.2257 - val_accuracy: 0.4000\n",
            "Epoch 6/35\n",
            "51/51 [==============================] - 60s 1s/step - loss: 1.2160 - accuracy: 0.4315 - val_loss: 1.2342 - val_accuracy: 0.4250\n",
            "Epoch 7/35\n",
            "51/51 [==============================] - 60s 1s/step - loss: 1.1962 - accuracy: 0.4482 - val_loss: 1.1844 - val_accuracy: 0.5312\n",
            "Epoch 8/35\n",
            "51/51 [==============================] - 60s 1s/step - loss: 1.2085 - accuracy: 0.4439 - val_loss: 1.1769 - val_accuracy: 0.5312\n",
            "Epoch 9/35\n",
            "51/51 [==============================] - 60s 1s/step - loss: 1.1975 - accuracy: 0.4439 - val_loss: 1.2019 - val_accuracy: 0.4938\n",
            "Epoch 10/35\n",
            "51/51 [==============================] - 60s 1s/step - loss: 1.1895 - accuracy: 0.4551 - val_loss: 1.1995 - val_accuracy: 0.4625\n",
            "Epoch 11/35\n",
            "51/51 [==============================] - 60s 1s/step - loss: 1.1880 - accuracy: 0.4414 - val_loss: 1.2124 - val_accuracy: 0.4313\n",
            "Epoch 12/35\n",
            "51/51 [==============================] - 60s 1s/step - loss: 1.1803 - accuracy: 0.4656 - val_loss: 1.1803 - val_accuracy: 0.5125\n",
            "Epoch 13/35\n",
            "51/51 [==============================] - 60s 1s/step - loss: 1.1814 - accuracy: 0.4575 - val_loss: 1.2219 - val_accuracy: 0.3875\n",
            "Epoch 14/35\n",
            "51/51 [==============================] - 60s 1s/step - loss: 1.1708 - accuracy: 0.4513 - val_loss: 1.2010 - val_accuracy: 0.4313\n",
            "Epoch 15/35\n",
            "51/51 [==============================] - 60s 1s/step - loss: 1.1567 - accuracy: 0.4755 - val_loss: 1.1909 - val_accuracy: 0.4563\n",
            "Epoch 16/35\n",
            "51/51 [==============================] - 60s 1s/step - loss: 1.1616 - accuracy: 0.4768 - val_loss: 1.1981 - val_accuracy: 0.3938\n",
            "Epoch 17/35\n",
            "51/51 [==============================] - 61s 1s/step - loss: 1.1388 - accuracy: 0.4817 - val_loss: 1.2546 - val_accuracy: 0.3438\n",
            "Epoch 18/35\n",
            "51/51 [==============================] - 60s 1s/step - loss: 1.1401 - accuracy: 0.4718 - val_loss: 1.1923 - val_accuracy: 0.4812\n",
            "Epoch 19/35\n",
            "51/51 [==============================] - 60s 1s/step - loss: 1.1363 - accuracy: 0.4947 - val_loss: 1.2055 - val_accuracy: 0.4375\n",
            "Epoch 20/35\n",
            "51/51 [==============================] - 60s 1s/step - loss: 1.1334 - accuracy: 0.4885 - val_loss: 1.2041 - val_accuracy: 0.4437\n",
            "Epoch 21/35\n",
            "51/51 [==============================] - 60s 1s/step - loss: 1.1194 - accuracy: 0.5059 - val_loss: 1.2337 - val_accuracy: 0.3750\n",
            "Epoch 22/35\n",
            "51/51 [==============================] - 59s 1s/step - loss: 1.1229 - accuracy: 0.4923 - val_loss: 1.1666 - val_accuracy: 0.4500\n",
            "Epoch 23/35\n",
            "51/51 [==============================] - 59s 1s/step - loss: 1.1166 - accuracy: 0.5121 - val_loss: 1.1895 - val_accuracy: 0.3750\n",
            "Epoch 24/35\n",
            "51/51 [==============================] - 60s 1s/step - loss: 1.1138 - accuracy: 0.5034 - val_loss: 1.2502 - val_accuracy: 0.3562\n",
            "Epoch 25/35\n",
            "51/51 [==============================] - 60s 1s/step - loss: 1.0886 - accuracy: 0.5115 - val_loss: 1.2292 - val_accuracy: 0.4187\n",
            "Epoch 26/35\n",
            "51/51 [==============================] - 59s 1s/step - loss: 1.0955 - accuracy: 0.5046 - val_loss: 1.1552 - val_accuracy: 0.4812\n",
            "Epoch 27/35\n",
            "51/51 [==============================] - 60s 1s/step - loss: 1.0827 - accuracy: 0.5146 - val_loss: 1.2846 - val_accuracy: 0.3812\n",
            "Epoch 28/35\n",
            "51/51 [==============================] - 60s 1s/step - loss: 1.0797 - accuracy: 0.5257 - val_loss: 1.2854 - val_accuracy: 0.4250\n",
            "Epoch 29/35\n",
            "51/51 [==============================] - 60s 1s/step - loss: 1.0674 - accuracy: 0.5177 - val_loss: 1.3043 - val_accuracy: 0.4000\n",
            "Epoch 30/35\n",
            "51/51 [==============================] - 60s 1s/step - loss: 1.0464 - accuracy: 0.5431 - val_loss: 1.2084 - val_accuracy: 0.4250\n",
            "Epoch 31/35\n",
            "51/51 [==============================] - 60s 1s/step - loss: 1.0376 - accuracy: 0.5437 - val_loss: 1.2750 - val_accuracy: 0.3875\n",
            "Epoch 32/35\n",
            "51/51 [==============================] - 60s 1s/step - loss: 1.0364 - accuracy: 0.5400 - val_loss: 1.2985 - val_accuracy: 0.3562\n",
            "Epoch 33/35\n",
            "51/51 [==============================] - 59s 1s/step - loss: 1.0076 - accuracy: 0.5580 - val_loss: 1.4404 - val_accuracy: 0.3500\n",
            "Epoch 34/35\n",
            "51/51 [==============================] - 60s 1s/step - loss: 1.0046 - accuracy: 0.5642 - val_loss: 1.4694 - val_accuracy: 0.3812\n",
            "Epoch 35/35\n",
            "51/51 [==============================] - 60s 1s/step - loss: 0.9892 - accuracy: 0.5617 - val_loss: 1.6175 - val_accuracy: 0.3375\n"
          ]
        }
      ]
    },
    {
      "cell_type": "code",
      "source": [
        "plot_loss_curves(history10)"
      ],
      "metadata": {
        "colab": {
          "base_uri": "https://localhost:8080/",
          "height": 927
        },
        "id": "_qCIV_veIH1m",
        "outputId": "0edc1506-0179-42d5-d097-b7bff9254ed1"
      },
      "execution_count": null,
      "outputs": [
        {
          "output_type": "display_data",
          "data": {
            "text/plain": [
              "<Figure size 640x480 with 1 Axes>"
            ],
            "image/png": "[encoded data removed]"
          },
          "metadata": {}
        },
        {
          "output_type": "display_data",
          "data": {
            "text/plain": [
              "<Figure size 640x480 with 1 Axes>"
            ],
            "image/png": "[encoded data removed]"
          },
          "metadata": {}
        }
      ]
    },
    {
      "cell_type": "code",
      "source": [],
      "metadata": {
        "id": "zLcHgUHrM4DX"
      },
      "execution_count": null,
      "outputs": []
    }
  ]
}